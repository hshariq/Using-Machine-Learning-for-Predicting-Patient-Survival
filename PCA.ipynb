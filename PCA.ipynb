{
  "cells": [
    {
      "cell_type": "code",
      "execution_count": null,
      "metadata": {
        "id": "1r7zBtcDSOR8"
      },
      "outputs": [],
      "source": [
        "import pandas as pd\n",
        "import numpy as np\n",
        "from io import StringIO\n",
        "Train = pd.read_csv(\"train.csv\")\n",
        "Test = pd.read_csv(\"test.csv\")"
      ]
    },
    {
      "cell_type": "code",
      "execution_count": null,
      "metadata": {
        "id": "BfdAoLCKSlNX"
      },
      "outputs": [],
      "source": [
        "# fill null values with median for temp_apache\n",
        "Train['temp_apache'].fillna(Train['temp_apache'].median(), inplace=True)\n",
        "\n",
        "# fill null values with median for d1_potassium_max\n",
        "Train['d1_potassium_max'].fillna(Train['d1_potassium_max'].median(), inplace=True)\n",
        "\n",
        "# fill null values with median for apache_4a_hospital_death_prob\n",
        "Train['apache_4a_hospital_death_prob'].fillna(Train['apache_4a_hospital_death_prob'].median(), inplace=True)\n",
        "\n",
        "# fill null values with median for apache_4a_icu_death_prob\n",
        "Train['apache_4a_icu_death_prob'].fillna(Train['apache_4a_icu_death_prob'].median(), inplace=True)\n",
        "#since all these r heavily skewed andaffected by the outliers we will fill them using median imputation\n",
        "\n",
        "Test['temp_apache'].fillna(Test['temp_apache'].median(), inplace=True)\n",
        "\n",
        "# fill null values with median for d1_potassium_max\n",
        "Test['d1_potassium_max'].fillna(Test['d1_potassium_max'].median(), inplace=True)\n",
        "\n",
        "# fill null values with median for apache_4a_hospital_death_prob\n",
        "Test['apache_4a_hospital_death_prob'].fillna(Test['apache_4a_hospital_death_prob'].median(), inplace=True)\n",
        "\n",
        "# fill null values with median for apache_4a_icu_death_prob\n",
        "Test['apache_4a_icu_death_prob'].fillna(Test['apache_4a_icu_death_prob'].median(), inplace=True)\n",
        "\n",
        "# group the dataframe by apache_2_bodysystem and calculate the mean age for each group\n",
        "mean_age_by_bodysystem = Train.groupby('apache_2_bodysystem')['age'].mean()\n",
        "\n",
        "def fill_age(row):\n",
        "    if pd.isnull(row['age']):\n",
        "        if pd.isnull(row['apache_2_bodysystem']):\n",
        "            return np.nan\n",
        "        else:\n",
        "            return mean_age_by_bodysystem[row['apache_2_bodysystem']]\n",
        "    else:\n",
        "        return row['age']\n",
        "\n",
        "# apply the function to each row of the dataframe and fill the missing age values with the corresponding mean age\n",
        "Train['age'] = Train.apply(fill_age, axis=1)\n",
        "\n",
        "# group the dataframe by apache_2_bodysystem and calculate the mean age for each group\n",
        "mean_age_by_bodysystem = Test.groupby('apache_2_bodysystem')['age'].mean()\n",
        "\n",
        "# define a function that takes a row of the dataframe as input and returns the mean age of the corresponding apache_2_bodysystem\n",
        "def fill_age(row):\n",
        "    if pd.isnull(row['age']):\n",
        "        if pd.isnull(row['apache_2_bodysystem']):\n",
        "            return np.nan\n",
        "        else:\n",
        "            return mean_age_by_bodysystem[row['apache_2_bodysystem']]\n",
        "    else:\n",
        "        return row['age']\n",
        "\n",
        "# apply the function to each row of the dataframe and fill the missing age values with the corresponding mean age\n",
        "Test['age'] = Test.apply(fill_age, axis=1)\n",
        "\n",
        "#for all binary columns we will apply mode imputation for missing values\n",
        "#first we will create a list of all binary columns\n",
        "binary_colsTest = ['elective_surgery', 'apache_post_operative', 'gcs_unable_apache', 'intubated_apache', 'ventilated_apache','immunosuppression', 'solid_tumor_with_metastasis']\n",
        "\n",
        "binary_colsTrain = ['elective_surgery', 'apache_post_operative', 'gcs_unable_apache', 'intubated_apache', 'ventilated_apache','immunosuppression', 'solid_tumor_with_metastasis','hospital_death']\n",
        "#now we will apply mode imputation on these columns\n",
        "from sklearn.impute import SimpleImputer\n",
        "binary_colsTest = [col for col in Train.columns if Train[col].dtype == 'object' or col in binary_colsTest]\n",
        "binary_colsTrain = [col for col in Test.columns if Test[col].dtype == 'object' or col in binary_colsTrain]\n",
        "\n",
        "imputer = SimpleImputer(strategy='most_frequent')\n",
        "Train[binary_colsTrain] = imputer.fit_transform(Train[binary_colsTrain])\n",
        "Test[binary_colsTest] = imputer.fit_transform(Test[binary_colsTest])\n",
        "\n",
        "numeric_cols = [col for col in Train.select_dtypes(include=[np.number]).columns if col not in binary_colsTrain]\n",
        "numeric_colsTest = [col for col in Test.select_dtypes(include=[np.number]).columns if col not in binary_colsTrain]\n",
        "\n",
        "from sklearn.impute import KNNImputer\n",
        "\n",
        "# create an instance of KNNImputer with k=5\n",
        "imputer = KNNImputer(n_neighbors=5)\n",
        "\n",
        "# fill missing values in Train dataframe\n",
        "Train[numeric_cols] = imputer.fit_transform(Train[numeric_cols])\n",
        "\n",
        "# fill missing values in Test dataframe\n",
        "Test[numeric_colsTest] = imputer.fit_transform(Test[numeric_colsTest])\n",
        "#next we drop simialr record columns\n",
        "# Train = Train.drop('apache_3j_bodysystem', axis=1)\n",
        "# Test = Test.drop('apache_3j_bodysystem', axis=1)\n",
        "# dropcolumns=['d1_diasbp_noninvasive_min','h1_sysbp_max','h1_mbp_max', 'h1_mbp_noninvasive_max', 'h1_sysbp_noninvasive_max', 'd1_sysbp_noninvasive_min', 'h1_diasbp_noninvasive_min']\n",
        "# Train= Train.drop(dropcolumns, axis=1)\n",
        "# Test= Test.drop(dropcolumns, axis=1)"
      ]
    },
    {
      "cell_type": "code",
      "execution_count": null,
      "metadata": {
        "id": "mXpvMoMWSugu"
      },
      "outputs": [],
      "source": [
        "from sklearn.preprocessing import StandardScaler"
      ]
    },
    {
      "cell_type": "code",
      "execution_count": null,
      "metadata": {
        "id": "pv4mzC2TVm9m"
      },
      "outputs": [],
      "source": [
        "Train = Train.drop('apache_3j_bodysystem', axis=1)\n",
        "Test = Test.drop('apache_3j_bodysystem', axis=1)\n",
        "dropcolumns=['d1_diasbp_noninvasive_min','h1_sysbp_max','h1_mbp_max', 'h1_mbp_noninvasive_max', 'h1_sysbp_noninvasive_max', 'd1_sysbp_noninvasive_min', 'h1_diasbp_noninvasive_min']\n",
        "Train= Train.drop(dropcolumns, axis=1)\n",
        "Test= Test.drop(dropcolumns, axis=1)"
      ]
    },
    {
      "cell_type": "code",
      "execution_count": null,
      "metadata": {
        "id": "3RanlmGeVutN"
      },
      "outputs": [],
      "source": [
        "binary = ['elective_surgery', 'apache_post_operative', 'gcs_unable_apache', 'intubated_apache', 'ventilated_apache','immunosuppression', 'solid_tumor_with_metastasis']\n",
        "for cols in binary:\n",
        "  Train[binary]=Train[binary].astype(int)\n",
        "  Test[binary]=Test[binary].astype(int)"
      ]
    },
    {
      "cell_type": "code",
      "source": [
        "onehot=pd.get_dummies(Train)\n",
        "onehotTest=pd.get_dummies(Test)"
      ],
      "metadata": {
        "id": "CeXgjoB728u1"
      },
      "execution_count": null,
      "outputs": []
    },
    {
      "cell_type": "code",
      "execution_count": null,
      "metadata": {
        "id": "hm0I0-BTTs7P"
      },
      "outputs": [],
      "source": [
        "#apply label encoding on all catoegircal columns\n",
        "from sklearn.preprocessing import LabelEncoder\n",
        "le = LabelEncoder()\n",
        "for col in Train.columns:\n",
        "    if Train[col].dtype == 'object':\n",
        "        Train[col] = le.fit_transform(Train[col])"
      ]
    },
    {
      "cell_type": "code",
      "execution_count": null,
      "metadata": {
        "id": "jw2feWVwW6qa"
      },
      "outputs": [],
      "source": [
        "Test['ethnicity'] = Test['ethnicity'].replace({\n",
        "    'Asian': 1,\n",
        "    'African American': 0,\n",
        "    'Caucasian': 2,\n",
        "    'Hispanic': 3,\n",
        "    'Native American': 4,\n",
        "    'Other/Unknown': 5\n",
        "})\n",
        "Test['gender'] = Test['gender'].replace({\n",
        "    'M': 1,\n",
        "    'F': 0\n",
        "})\n",
        "Test['icu_admit_source'] = Test['icu_admit_source'].replace({\n",
        "    'Floor': 1,\n",
        "    'Accident & Emergency': 0,\n",
        "    'Operating Room / Recovery': 2,\n",
        "    'Other Hospital': 3,\n",
        "    'Other ICU': 4,\n",
        "})\n",
        "Test['icu_stay_type'] = Test['icu_stay_type'].replace({\n",
        "    'admit': 0,\n",
        "    'transfer': 2,\n",
        "    'readmit': 1,\n",
        "})\n",
        "Test['icu_type'] = Test['icu_type'].replace({\n",
        "    'Med-Surg ICU': 5,\n",
        "    'MICU': 4,\n",
        "    'CSICU': 1,\n",
        "    'CCU-CTICU': 0,\n",
        "    'Cardiac ICU': 3,\n",
        "    'Neuro ICU': 6,\n",
        "    'CTICU': 2,\n",
        "    'SICU': 7,\n",
        "})\n",
        "Test['apache_2_bodysystem'] = Test['apache_2_bodysystem'].replace({\n",
        "    'Cardiovascular': 0,\n",
        "    'Respiratory': 6,\n",
        "    'Neurologic': 4,\n",
        "    'Gastrointestinal': 1,\n",
        "    'Metabolic': 3,\n",
        "    'Trauma': 7,\n",
        "    'Undefined diagnoses': 9,\n",
        "    'Renal/Genitourinary': 5,\n",
        "    'Haematologic': 2,\n",
        "    'Undefined Diagnoses': 8,\n",
        "})"
      ]
    },
    {
      "cell_type": "code",
      "source": [
        "ohscale = StandardScaler().fit_transform(onehot)\n",
        "ohscale = pd.DataFrame(ohscale, columns=onehot.columns)\n",
        "ohscaleTest = StandardScaler().fit_transform(onehotTest)\n",
        "ohscaleTest = pd.DataFrame(ohscaleTest, columns=onehotTest.columns)\n"
      ],
      "metadata": {
        "id": "a5RRRgV53Ndr"
      },
      "execution_count": null,
      "outputs": []
    },
    {
      "cell_type": "code",
      "execution_count": null,
      "metadata": {
        "id": "a7-80dK3TIVf"
      },
      "outputs": [],
      "source": [
        "X2 = StandardScaler().fit_transform(Train)\n",
        "X2 = pd.DataFrame(X2, columns=Train.columns)\n"
      ]
    },
    {
      "cell_type": "code",
      "source": [
        "X2Test = StandardScaler().fit_transform(Test)\n",
        "X2Test = pd.DataFrame(X2Test, columns=Test.columns)\n"
      ],
      "metadata": {
        "id": "9VjX8FNik3tY"
      },
      "execution_count": null,
      "outputs": []
    },
    {
      "cell_type": "code",
      "source": [
        "\n",
        "import time\n",
        "from sklearn.ensemble import RandomForestClassifier, GradientBoostingClassifier, AdaBoostClassifier, BaggingClassifier\n",
        "%pip install catboost\n",
        "from catboost import CatBoostClassifier\n",
        "import xgboost as xgb\n",
        "import lightgbm as lgb\n",
        "from sklearn.model_selection import train_test_split\n",
        "from sklearn.metrics import roc_curve, roc_auc_score\n",
        "import warnings\n",
        "warnings.filterwarnings('ignore')"
      ],
      "metadata": {
        "id": "BGGHNqCufU__"
      },
      "execution_count": null,
      "outputs": []
    },
    {
      "cell_type": "code",
      "source": [
        "from sklearn.decomposition import PCA"
      ],
      "metadata": {
        "id": "6PVRi5HujtCR"
      },
      "execution_count": null,
      "outputs": []
    },
    {
      "cell_type": "code",
      "source": [
        "ohscale.shape"
      ],
      "metadata": {
        "colab": {
          "base_uri": "https://localhost:8080/"
        },
        "id": "gzqqjBsKjySG",
        "outputId": "19a6f508-7062-44c8-9812-9d10c6a37193"
      },
      "execution_count": null,
      "outputs": [
        {
          "output_type": "execute_result",
          "data": {
            "text/plain": [
              "(50000, 78)"
            ]
          },
          "metadata": {},
          "execution_count": 44
        }
      ]
    },
    {
      "cell_type": "code",
      "source": [
        "pca = PCA(n_components=78)\n",
        "principalComponents = pca.fit_transform(ohscale)\n",
        "principaldf = pd.DataFrame(data = principalComponents) #, columns = ['pc1', 'pc2','pc3','pc4'])\n",
        "pca.explained_variance_ratio_"
      ],
      "metadata": {
        "id": "19ed2gJZ3bId"
      },
      "execution_count": null,
      "outputs": []
    },
    {
      "cell_type": "code",
      "source": [
        "pca = PCA(n_components=50)\n",
        "principalComponents = pca.fit_transform(X2)\n",
        "principaldf = pd.DataFrame(data = principalComponents) #, columns = ['pc1', 'pc2','pc3','pc4'])\n",
        "pca.explained_variance_ratio_"
      ],
      "metadata": {
        "id": "tb9dboZJjuyp"
      },
      "execution_count": null,
      "outputs": []
    },
    {
      "cell_type": "code",
      "source": [
        "pca.explained_variance_ratio_.round(3)"
      ],
      "metadata": {
        "id": "d8LMHIodj84n"
      },
      "execution_count": null,
      "outputs": []
    },
    {
      "cell_type": "code",
      "source": [
        "#plot an elbow graph to find the optimal number of components\n",
        "import matplotlib.pyplot as plt\n",
        "plt.plot(pca.explained_variance_ratio_)\n",
        "plt.xlabel('number of components')\n",
        "plt.ylabel('cumulative explained variance')\n"
      ],
      "metadata": {
        "colab": {
          "base_uri": "https://localhost:8080/",
          "height": 466
        },
        "id": "pCvhwRQij_CV",
        "outputId": "48effc4b-7219-46db-d0a5-39923e89b22c"
      },
      "execution_count": null,
      "outputs": [
        {
          "output_type": "execute_result",
          "data": {
            "text/plain": [
              "Text(0, 0.5, 'cumulative explained variance')"
            ]
          },
          "metadata": {},
          "execution_count": 47
        },
        {
          "output_type": "display_data",
          "data": {
            "text/plain": [
              "<Figure size 640x480 with 1 Axes>"
            ],
            "image/png": "[encoded data removed]"
          },
          "metadata": {}
        }
      ]
    },
    {
      "cell_type": "code",
      "source": [
        "pca = PCA(n_components=70)\n",
        "principalComponents = pca.fit_transform(ohscale)\n",
        "principaldf = pd.DataFrame(data = principalComponents)"
      ],
      "metadata": {
        "id": "sNykOiWY3hui"
      },
      "execution_count": null,
      "outputs": []
    },
    {
      "cell_type": "code",
      "source": [
        "principalComponentsTest = pca.fit_transform(ohscaleTest)\n",
        "principaldfTest = pd.DataFrame(data = principalComponentsTest)"
      ],
      "metadata": {
        "id": "aSyKCHu33ttM"
      },
      "execution_count": null,
      "outputs": []
    },
    {
      "cell_type": "code",
      "source": [
        "pca = PCA(n_components=35)\n",
        "principalComponents = pca.fit_transform(X2)\n",
        "principaldf = pd.DataFrame(data = principalComponents)"
      ],
      "metadata": {
        "id": "16SqA9RLkCIa"
      },
      "execution_count": null,
      "outputs": []
    },
    {
      "cell_type": "code",
      "source": [
        "principalComponentsTest = pca.fit_transform(X2Test)\n",
        "principaldfTest = pd.DataFrame(data = principalComponentsTest)"
      ],
      "metadata": {
        "id": "QEHPU2lEk_Zn"
      },
      "execution_count": null,
      "outputs": []
    },
    {
      "cell_type": "code",
      "source": [
        "y = Train['hospital_death']\n",
        "trainX, testX, trainy, testy = train_test_split(principaldf, y, test_size=0.3, random_state=2)"
      ],
      "metadata": {
        "id": "_L5BQB8SkOEU"
      },
      "execution_count": null,
      "outputs": []
    },
    {
      "cell_type": "code",
      "source": [
        "#record the start time\n",
        "nb_c = CatBoostClassifier(iterations=650, depth=3, learning_rate=0.1, loss_function='Logloss', verbose=False)\n",
        "nb_c.fit(trainX,trainy)\n",
        "md_probs = nb_c.predict_proba(testX)\n",
        "md_probs = md_probs[:,1]\n",
        "md_auc = roc_auc_score(testy, md_probs)\n",
        "print(\"Cat Boost\" , \" : \", md_auc)"
      ],
      "metadata": {
        "colab": {
          "base_uri": "https://localhost:8080/"
        },
        "id": "a5IVFj7bkX4H",
        "outputId": "4bbd7bc4-26f4-4cb5-a2bd-f7fec637be85"
      },
      "execution_count": null,
      "outputs": [
        {
          "output_type": "stream",
          "name": "stdout",
          "text": [
            "Cat Boost  :  0.9999975532090261\n"
          ]
        }
      ]
    },
    {
      "cell_type": "code",
      "source": [
        "#record the start time\n",
        "nb_c = CatBoostClassifier(iterations=1150, depth=3, learning_rate=0.1, loss_function='Logloss', verbose=False)\n",
        "nb_c.fit(principaldf,y)\n",
        "# md_probs = nb_c.predict_proba(testX)\n",
        "# md_probs = md_probs[:,1]\n",
        "# md_auc = roc_auc_score(testy, md_probs)\n",
        "# print(\"Cat Boost\" , \" : \", md_auc)"
      ],
      "metadata": {
        "colab": {
          "base_uri": "https://localhost:8080/"
        },
        "id": "XnX8XFoO1-6V",
        "outputId": "80839318-ec37-4ce6-9a2d-f420bb9efa9e"
      },
      "execution_count": null,
      "outputs": [
        {
          "output_type": "execute_result",
          "data": {
            "text/plain": [
              "<catboost.core.CatBoostClassifier at 0x7b9119bf83d0>"
            ]
          },
          "metadata": {},
          "execution_count": 56
        }
      ]
    },
    {
      "cell_type": "code",
      "source": [
        "#split Train into Train and Val\n",
        "from sklearn.model_selection import train_test_split\n",
        "X = X2.loc[: , X2.columns != 'hospital_death']\n",
        "y = Train['hospital_death']\n",
        "X_train, X_val, y_train, y_val = train_test_split(X, y, test_size=0.3, random_state=42)"
      ],
      "metadata": {
        "id": "wWE5t0z3ffCb"
      },
      "execution_count": null,
      "outputs": []
    },
    {
      "cell_type": "code",
      "source": [
        "t1=pd.get_dummies(Train)\n",
        "t2=pd.get_dummies(Test)"
      ],
      "metadata": {
        "id": "UnFNYKPZiomU"
      },
      "execution_count": null,
      "outputs": []
    },
    {
      "cell_type": "code",
      "source": [
        "#split Train into Train and Val\n",
        "from sklearn.model_selection import train_test_split\n",
        "X1 = t1.loc[: , t1.columns != 'hospital_death']\n",
        "y1 = t1['hospital_death']\n",
        "X_train1, X_val1, y_train1, y_val1 = train_test_split(X1, y1, test_size=0.3, random_state=42)"
      ],
      "metadata": {
        "id": "up5pMrSJivYV"
      },
      "execution_count": null,
      "outputs": []
    },
    {
      "cell_type": "code",
      "source": [
        "# nb_c = CatBoostClassifier(iterations=850, depth=3, learning_rate=0.1, loss_function='Logloss', verbose=False)\n",
        "nb_c.fit(principaldf,y)"
      ],
      "metadata": {
        "colab": {
          "base_uri": "https://localhost:8080/"
        },
        "id": "7UB1arAYkv8i",
        "outputId": "88aab014-2b30-448f-c4eb-397d0d9c2fa2"
      },
      "execution_count": null,
      "outputs": [
        {
          "output_type": "execute_result",
          "data": {
            "text/plain": [
              "<catboost.core.CatBoostClassifier at 0x7b9119bf83d0>"
            ]
          },
          "metadata": {},
          "execution_count": 64
        }
      ]
    },
    {
      "cell_type": "code",
      "source": [
        "y_new_predBAG = nb_c.predict_proba(principaldfTest)\n",
        "hospital_death = y_new_predBAG[:, 1]\n",
        "hospital_death\n",
        "\n"
      ],
      "metadata": {
        "colab": {
          "base_uri": "https://localhost:8080/"
        },
        "id": "XhONIUqvluTa",
        "outputId": "990c633e-ff01-48e6-e62c-a6cd38e215ae"
      },
      "execution_count": null,
      "outputs": [
        {
          "output_type": "execute_result",
          "data": {
            "text/plain": [
              "array([1.07323991e-03, 1.47680128e-02, 3.94147441e-04, ...,\n",
              "       7.77150858e-06, 1.02597517e-05, 3.76160237e-06])"
            ]
          },
          "metadata": {},
          "execution_count": 65
        }
      ]
    },
    {
      "cell_type": "code",
      "source": [
        "predictions_df = pd.DataFrame(hospital_death, columns=['hospital_death'])\n",
        "\n",
        "# Add the record ID from the test data to the predictions DataFrame\n",
        "predictions_df.insert(0, 'RecordID', Test['RecordID'])\n",
        "\n",
        "# Save the predictions to a CSV file\n",
        "# predictions_df.to_csv('predictionsCAT.csv', index=False)\n",
        "predictions_df.to_csv('predictionsPCAknn.csv', index=False)"
      ],
      "metadata": {
        "id": "UNp7mMaQl7LL"
      },
      "execution_count": null,
      "outputs": []
    },
    {
      "cell_type": "code",
      "source": [
        "#record the start time\n",
        "nb_c = CatBoostClassifier(iterations=660, depth=3, learning_rate=0.1, loss_function='Logloss', verbose=False)\n",
        "nb_c.fit(X_train1,y_train1)\n",
        "md_probs = nb_c.predict_proba(X_val1)\n",
        "md_probs = md_probs[:,1]\n",
        "md_auc = roc_auc_score(y_val1, md_probs)\n",
        "print(\"Cat Boost\" , \" : \", md_auc)"
      ],
      "metadata": {
        "colab": {
          "base_uri": "https://localhost:8080/"
        },
        "id": "FN1RIW97i3XD",
        "outputId": "7f30823b-ee8c-4cdb-acf4-d1b0d8615626"
      },
      "execution_count": null,
      "outputs": [
        {
          "output_type": "stream",
          "name": "stdout",
          "text": [
            "Cat Boost  :  0.8772147302449136\n"
          ]
        }
      ]
    },
    {
      "cell_type": "code",
      "execution_count": null,
      "metadata": {
        "id": "F-DpeE9eTriM",
        "colab": {
          "base_uri": "https://localhost:8080/"
        },
        "outputId": "fc72a283-dd26-45c2-d903-cb046b168d93"
      },
      "outputs": [
        {
          "output_type": "stream",
          "name": "stdout",
          "text": [
            "Cat Boost  :  0.8772147302449136\n"
          ]
        }
      ],
      "source": [
        "#record the start time\n",
        "nb_c = CatBoostClassifier(iterations=660, depth=3, learning_rate=0.1, loss_function='Logloss', verbose=False)\n",
        "nb_c.fit(X_train,y_train)\n",
        "md_probs = nb_c.predict_proba(X_val)\n",
        "md_probs = md_probs[:,1]\n",
        "md_auc = roc_auc_score(y_val, md_probs)\n",
        "print(\"Cat Boost\" , \" : \", md_auc)"
      ]
    },
    {
      "cell_type": "code",
      "source": [],
      "metadata": {
        "colab": {
          "base_uri": "https://localhost:8080/"
        },
        "id": "kdSODokRf83g",
        "outputId": "b59507ba-5d8d-4f5d-aa3b-af48a1d03bcc"
      },
      "execution_count": null,
      "outputs": [
        {
          "output_type": "execute_result",
          "data": {
            "text/plain": [
              "array([0.00879671, 0.05676049, 0.01764323, ..., 0.03060992, 0.06372847,\n",
              "       0.01547852])"
            ]
          },
          "metadata": {},
          "execution_count": 119
        }
      ]
    },
    {
      "cell_type": "code",
      "source": [
        "from sklearn.neighbors import KNeighborsClassifier"
      ],
      "metadata": {
        "id": "L3WHyi8RgGJN"
      },
      "execution_count": null,
      "outputs": []
    },
    {
      "cell_type": "code",
      "source": [
        "from sklearn.pipeline import Pipeline\n"
      ],
      "metadata": {
        "id": "kfXzySGA5Ln5"
      },
      "execution_count": null,
      "outputs": []
    },
    {
      "cell_type": "code",
      "source": [
        "from sklearn.preprocessing import MinMaxScaler\n"
      ],
      "metadata": {
        "id": "WWjPnbzS5gry"
      },
      "execution_count": null,
      "outputs": []
    },
    {
      "cell_type": "code",
      "source": [
        "pipe_kn11 = Pipeline([(\"scaler\", MinMaxScaler()), (\"knr\", KNeighborsClassifier(n_neighbors=200))])\n",
        "pipe_kn11.fit(trainX,trainy)\n",
        "md_probs = pipe_kn11.predict_proba(testX)\n",
        "md_probs = md_probs[:,1]\n",
        "md_auc = roc_auc_score(testy, md_probs)\n",
        "print(\"Cat Boost\" , \" : \", md_auc)\n"
      ],
      "metadata": {
        "colab": {
          "base_uri": "https://localhost:8080/"
        },
        "id": "xhBP25lB5Qor",
        "outputId": "0e923681-26a0-40de-c784-01f768efe39b"
      },
      "execution_count": null,
      "outputs": [
        {
          "output_type": "stream",
          "name": "stdout",
          "text": [
            "Cat Boost  :  0.9965310763222957\n"
          ]
        }
      ]
    },
    {
      "cell_type": "code",
      "source": [
        "pipe_kn11.fit(principaldf,y)"
      ],
      "metadata": {
        "colab": {
          "base_uri": "https://localhost:8080/",
          "height": 125
        },
        "id": "4oSu3vsb5fOs",
        "outputId": "7c5fedaa-0dc4-4e51-a962-f14cac3c1931"
      },
      "execution_count": null,
      "outputs": [
        {
          "output_type": "execute_result",
          "data": {
            "text/plain": [
              "Pipeline(steps=[('scaler', MinMaxScaler()),\n",
              "                ('knr', KNeighborsClassifier(n_neighbors=200))])"
            ],
            "text/html": [
              "<style>#sk-container-id-1 {color: black;background-color: white;}#sk-container-id-1 pre{padding: 0;}#sk-container-id-1 div.sk-toggleable {background-color: white;}#sk-container-id-1 label.sk-toggleable__label {cursor: pointer;display: block;width: 100%;margin-bottom: 0;padding: 0.3em;box-sizing: border-box;text-align: center;}#sk-container-id-1 label.sk-toggleable__label-arrow:before {content: \"▸\";float: left;margin-right: 0.25em;color: #696969;}#sk-container-id-1 label.sk-toggleable__label-arrow:hover:before {color: black;}#sk-container-id-1 div.sk-estimator:hover label.sk-toggleable__label-arrow:before {color: black;}#sk-container-id-1 div.sk-toggleable__content {max-height: 0;max-width: 0;overflow: hidden;text-align: left;background-color: #f0f8ff;}#sk-container-id-1 div.sk-toggleable__content pre {margin: 0.2em;color: black;border-radius: 0.25em;background-color: #f0f8ff;}#sk-container-id-1 input.sk-toggleable__control:checked~div.sk-toggleable__content {max-height: 200px;max-width: 100%;overflow: auto;}#sk-container-id-1 input.sk-toggleable__control:checked~label.sk-toggleable__label-arrow:before {content: \"▾\";}#sk-container-id-1 div.sk-estimator input.sk-toggleable__control:checked~label.sk-toggleable__label {background-color: #d4ebff;}#sk-container-id-1 div.sk-label input.sk-toggleable__control:checked~label.sk-toggleable__label {background-color: #d4ebff;}#sk-container-id-1 input.sk-hidden--visually {border: 0;clip: rect(1px 1px 1px 1px);clip: rect(1px, 1px, 1px, 1px);height: 1px;margin: -1px;overflow: hidden;padding: 0;position: absolute;width: 1px;}#sk-container-id-1 div.sk-estimator {font-family: monospace;background-color: #f0f8ff;border: 1px dotted black;border-radius: 0.25em;box-sizing: border-box;margin-bottom: 0.5em;}#sk-container-id-1 div.sk-estimator:hover {background-color: #d4ebff;}#sk-container-id-1 div.sk-parallel-item::after {content: \"\";width: 100%;border-bottom: 1px solid gray;flex-grow: 1;}#sk-container-id-1 div.sk-label:hover label.sk-toggleable__label {background-color: #d4ebff;}#sk-container-id-1 div.sk-serial::before {content: \"\";position: absolute;border-left: 1px solid gray;box-sizing: border-box;top: 0;bottom: 0;left: 50%;z-index: 0;}#sk-container-id-1 div.sk-serial {display: flex;flex-direction: column;align-items: center;background-color: white;padding-right: 0.2em;padding-left: 0.2em;position: relative;}#sk-container-id-1 div.sk-item {position: relative;z-index: 1;}#sk-container-id-1 div.sk-parallel {display: flex;align-items: stretch;justify-content: center;background-color: white;position: relative;}#sk-container-id-1 div.sk-item::before, #sk-container-id-1 div.sk-parallel-item::before {content: \"\";position: absolute;border-left: 1px solid gray;box-sizing: border-box;top: 0;bottom: 0;left: 50%;z-index: -1;}#sk-container-id-1 div.sk-parallel-item {display: flex;flex-direction: column;z-index: 1;position: relative;background-color: white;}#sk-container-id-1 div.sk-parallel-item:first-child::after {align-self: flex-end;width: 50%;}#sk-container-id-1 div.sk-parallel-item:last-child::after {align-self: flex-start;width: 50%;}#sk-container-id-1 div.sk-parallel-item:only-child::after {width: 0;}#sk-container-id-1 div.sk-dashed-wrapped {border: 1px dashed gray;margin: 0 0.4em 0.5em 0.4em;box-sizing: border-box;padding-bottom: 0.4em;background-color: white;}#sk-container-id-1 div.sk-label label {font-family: monospace;font-weight: bold;display: inline-block;line-height: 1.2em;}#sk-container-id-1 div.sk-label-container {text-align: center;}#sk-container-id-1 div.sk-container {/* jupyter's `normalize.less` sets `[hidden] { display: none; }` but bootstrap.min.css set `[hidden] { display: none !important; }` so we also need the `!important` here to be able to override the default hidden behavior on the sphinx rendered scikit-learn.org. See: https://github.com/scikit-learn/scikit-learn/issues/21755 */display: inline-block !important;position: relative;}#sk-container-id-1 div.sk-text-repr-fallback {display: none;}</style><div id=\"sk-container-id-1\" class=\"sk-top-container\"><div class=\"sk-text-repr-fallback\"><pre>Pipeline(steps=[(&#x27;scaler&#x27;, MinMaxScaler()),\n",
              "                (&#x27;knr&#x27;, KNeighborsClassifier(n_neighbors=200))])</pre><b>In a Jupyter environment, please rerun this cell to show the HTML representation or trust the notebook. <br />On GitHub, the HTML representation is unable to render, please try loading this page with nbviewer.org.</b></div><div class=\"sk-container\" hidden><div class=\"sk-item sk-dashed-wrapped\"><div class=\"sk-label-container\"><div class=\"sk-label sk-toggleable\"><input class=\"sk-toggleable__control sk-hidden--visually\" id=\"sk-estimator-id-1\" type=\"checkbox\" ><label for=\"sk-estimator-id-1\" class=\"sk-toggleable__label sk-toggleable__label-arrow\">Pipeline</label><div class=\"sk-toggleable__content\"><pre>Pipeline(steps=[(&#x27;scaler&#x27;, MinMaxScaler()),\n",
              "                (&#x27;knr&#x27;, KNeighborsClassifier(n_neighbors=200))])</pre></div></div></div><div class=\"sk-serial\"><div class=\"sk-item\"><div class=\"sk-estimator sk-toggleable\"><input class=\"sk-toggleable__control sk-hidden--visually\" id=\"sk-estimator-id-2\" type=\"checkbox\" ><label for=\"sk-estimator-id-2\" class=\"sk-toggleable__label sk-toggleable__label-arrow\">MinMaxScaler</label><div class=\"sk-toggleable__content\"><pre>MinMaxScaler()</pre></div></div></div><div class=\"sk-item\"><div class=\"sk-estimator sk-toggleable\"><input class=\"sk-toggleable__control sk-hidden--visually\" id=\"sk-estimator-id-3\" type=\"checkbox\" ><label for=\"sk-estimator-id-3\" class=\"sk-toggleable__label sk-toggleable__label-arrow\">KNeighborsClassifier</label><div class=\"sk-toggleable__content\"><pre>KNeighborsClassifier(n_neighbors=200)</pre></div></div></div></div></div></div></div>"
            ]
          },
          "metadata": {},
          "execution_count": 69
        }
      ]
    },
    {
      "cell_type": "code",
      "source": [
        "y_new_predBAG = pipe_kn11.predict_proba(principaldfTest)\n",
        "hospital_death = y_new_predBAG[:, 1]\n",
        "hospital_death\n",
        "\n"
      ],
      "metadata": {
        "colab": {
          "base_uri": "https://localhost:8080/"
        },
        "id": "3elvJ7Fe7Lk8",
        "outputId": "1a646869-9e5d-44ba-dfb4-cc2487fa3298"
      },
      "execution_count": null,
      "outputs": [
        {
          "output_type": "execute_result",
          "data": {
            "text/plain": [
              "array([0.   , 0.065, 0.015, ..., 0.   , 0.   , 0.   ])"
            ]
          },
          "metadata": {},
          "execution_count": 70
        }
      ]
    },
    {
      "cell_type": "code",
      "source": [],
      "metadata": {
        "id": "oCbV15Ii7PYb"
      },
      "execution_count": null,
      "outputs": []
    }
  ],
  "metadata": {
    "colab": {
      "provenance": []
    },
    "kernelspec": {
      "display_name": "Python 3",
      "name": "python3"
    },
    "language_info": {
      "name": "python"
    }
  },
  "nbformat": 4,
  "nbformat_minor": 0
}