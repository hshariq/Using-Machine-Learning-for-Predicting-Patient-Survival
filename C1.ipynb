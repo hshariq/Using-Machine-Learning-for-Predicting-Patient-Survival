{
 "cells": [
  {
   "cell_type": "markdown",
   "metadata": {},
   "source": [
    "In total did 4 submissions from this notebook\n",
    "One had bari shadeed cleaning and missing value imputation (kya missing value ki thi yaha oyehoye)\n",
    "next had some paramters changes\n",
    "next no cleaning/feature reduction done\n",
    "last removed the cardiac related thing i did during one hot encoding"
   ]
  },
  {
   "cell_type": "code",
   "execution_count": 378,
   "metadata": {},
   "outputs": [],
   "source": [
    "import pandas as pd\n",
    "import numpy as np\n",
    "from io import StringIO\n"
   ]
  },
  {
   "cell_type": "code",
   "execution_count": 379,
   "metadata": {},
   "outputs": [],
   "source": [
    "dfTrain = pd.read_csv(\"Data/train.csv\")\n",
    "dfTest = pd.read_csv(\"Data/test.csv\")\n",
    "\n"
   ]
  },
  {
   "cell_type": "code",
   "execution_count": 380,
   "metadata": {},
   "outputs": [
    {
     "data": {
      "text/html": [
       "<div>\n",
       "<style scoped>\n",
       "    .dataframe tbody tr th:only-of-type {\n",
       "        vertical-align: middle;\n",
       "    }\n",
       "\n",
       "    .dataframe tbody tr th {\n",
       "        vertical-align: top;\n",
       "    }\n",
       "\n",
       "    .dataframe thead th {\n",
       "        text-align: right;\n",
       "    }\n",
       "</style>\n",
       "<table border=\"1\" class=\"dataframe\">\n",
       "  <thead>\n",
       "    <tr style=\"text-align: right;\">\n",
       "      <th></th>\n",
       "      <th>RecordID</th>\n",
       "      <th>hospital_id</th>\n",
       "      <th>icu_id</th>\n",
       "      <th>ethnicity</th>\n",
       "      <th>gender</th>\n",
       "      <th>icu_admit_source</th>\n",
       "      <th>icu_stay_type</th>\n",
       "      <th>icu_type</th>\n",
       "      <th>apache_3j_bodysystem</th>\n",
       "      <th>apache_2_bodysystem</th>\n",
       "      <th>...</th>\n",
       "      <th>h1_sysbp_min</th>\n",
       "      <th>h1_sysbp_noninvasive_max</th>\n",
       "      <th>h1_sysbp_noninvasive_min</th>\n",
       "      <th>d1_glucose_max</th>\n",
       "      <th>d1_potassium_max</th>\n",
       "      <th>apache_4a_hospital_death_prob</th>\n",
       "      <th>apache_4a_icu_death_prob</th>\n",
       "      <th>immunosuppression</th>\n",
       "      <th>solid_tumor_with_metastasis</th>\n",
       "      <th>hospital_death</th>\n",
       "    </tr>\n",
       "  </thead>\n",
       "  <tbody>\n",
       "    <tr>\n",
       "      <th>0</th>\n",
       "      <td>1</td>\n",
       "      <td>126</td>\n",
       "      <td>1931</td>\n",
       "      <td>Caucasian</td>\n",
       "      <td>M</td>\n",
       "      <td>Floor</td>\n",
       "      <td>transfer</td>\n",
       "      <td>Med-Surg ICU</td>\n",
       "      <td>Metabolic</td>\n",
       "      <td>Metabolic</td>\n",
       "      <td>...</td>\n",
       "      <td>86</td>\n",
       "      <td>93.0</td>\n",
       "      <td>86.0</td>\n",
       "      <td>NaN</td>\n",
       "      <td>NaN</td>\n",
       "      <td>0.01</td>\n",
       "      <td>0.00</td>\n",
       "      <td>0</td>\n",
       "      <td>0</td>\n",
       "      <td>0</td>\n",
       "    </tr>\n",
       "    <tr>\n",
       "      <th>1</th>\n",
       "      <td>2</td>\n",
       "      <td>112</td>\n",
       "      <td>1544</td>\n",
       "      <td>African American</td>\n",
       "      <td>M</td>\n",
       "      <td>Accident &amp; Emergency</td>\n",
       "      <td>admit</td>\n",
       "      <td>Med-Surg ICU</td>\n",
       "      <td>Cardiovascular</td>\n",
       "      <td>Cardiovascular</td>\n",
       "      <td>...</td>\n",
       "      <td>95</td>\n",
       "      <td>95.0</td>\n",
       "      <td>95.0</td>\n",
       "      <td>333.0</td>\n",
       "      <td>3.7</td>\n",
       "      <td>NaN</td>\n",
       "      <td>NaN</td>\n",
       "      <td>0</td>\n",
       "      <td>0</td>\n",
       "      <td>0</td>\n",
       "    </tr>\n",
       "    <tr>\n",
       "      <th>2</th>\n",
       "      <td>3</td>\n",
       "      <td>153</td>\n",
       "      <td>1517</td>\n",
       "      <td>Caucasian</td>\n",
       "      <td>M</td>\n",
       "      <td>Floor</td>\n",
       "      <td>admit</td>\n",
       "      <td>MICU</td>\n",
       "      <td>Respiratory</td>\n",
       "      <td>Respiratory</td>\n",
       "      <td>...</td>\n",
       "      <td>162</td>\n",
       "      <td>174.0</td>\n",
       "      <td>162.0</td>\n",
       "      <td>160.0</td>\n",
       "      <td>4.2</td>\n",
       "      <td>0.38</td>\n",
       "      <td>0.15</td>\n",
       "      <td>0</td>\n",
       "      <td>0</td>\n",
       "      <td>0</td>\n",
       "    </tr>\n",
       "    <tr>\n",
       "      <th>3</th>\n",
       "      <td>4</td>\n",
       "      <td>109</td>\n",
       "      <td>1811</td>\n",
       "      <td>Caucasian</td>\n",
       "      <td>M</td>\n",
       "      <td>Accident &amp; Emergency</td>\n",
       "      <td>admit</td>\n",
       "      <td>Med-Surg ICU</td>\n",
       "      <td>Neurological</td>\n",
       "      <td>Neurologic</td>\n",
       "      <td>...</td>\n",
       "      <td>140</td>\n",
       "      <td>163.0</td>\n",
       "      <td>140.0</td>\n",
       "      <td>258.0</td>\n",
       "      <td>3.8</td>\n",
       "      <td>0.12</td>\n",
       "      <td>0.06</td>\n",
       "      <td>0</td>\n",
       "      <td>0</td>\n",
       "      <td>0</td>\n",
       "    </tr>\n",
       "    <tr>\n",
       "      <th>4</th>\n",
       "      <td>5</td>\n",
       "      <td>287</td>\n",
       "      <td>1845</td>\n",
       "      <td>Caucasian</td>\n",
       "      <td>F</td>\n",
       "      <td>Accident &amp; Emergency</td>\n",
       "      <td>admit</td>\n",
       "      <td>CSICU</td>\n",
       "      <td>Cardiovascular</td>\n",
       "      <td>Cardiovascular</td>\n",
       "      <td>...</td>\n",
       "      <td>119</td>\n",
       "      <td>119.0</td>\n",
       "      <td>119.0</td>\n",
       "      <td>110.0</td>\n",
       "      <td>3.9</td>\n",
       "      <td>0.15</td>\n",
       "      <td>0.07</td>\n",
       "      <td>0</td>\n",
       "      <td>0</td>\n",
       "      <td>0</td>\n",
       "    </tr>\n",
       "    <tr>\n",
       "      <th>...</th>\n",
       "      <td>...</td>\n",
       "      <td>...</td>\n",
       "      <td>...</td>\n",
       "      <td>...</td>\n",
       "      <td>...</td>\n",
       "      <td>...</td>\n",
       "      <td>...</td>\n",
       "      <td>...</td>\n",
       "      <td>...</td>\n",
       "      <td>...</td>\n",
       "      <td>...</td>\n",
       "      <td>...</td>\n",
       "      <td>...</td>\n",
       "      <td>...</td>\n",
       "      <td>...</td>\n",
       "      <td>...</td>\n",
       "      <td>...</td>\n",
       "      <td>...</td>\n",
       "      <td>...</td>\n",
       "      <td>...</td>\n",
       "      <td>...</td>\n",
       "    </tr>\n",
       "    <tr>\n",
       "      <th>49995</th>\n",
       "      <td>49996</td>\n",
       "      <td>110</td>\n",
       "      <td>1689</td>\n",
       "      <td>Caucasian</td>\n",
       "      <td>M</td>\n",
       "      <td>Accident &amp; Emergency</td>\n",
       "      <td>admit</td>\n",
       "      <td>Med-Surg ICU</td>\n",
       "      <td>Musculoskeletal/Skin</td>\n",
       "      <td>Undefined Diagnoses</td>\n",
       "      <td>...</td>\n",
       "      <td>98</td>\n",
       "      <td>98.0</td>\n",
       "      <td>98.0</td>\n",
       "      <td>98.0</td>\n",
       "      <td>3.9</td>\n",
       "      <td>0.02</td>\n",
       "      <td>0.01</td>\n",
       "      <td>0</td>\n",
       "      <td>0</td>\n",
       "      <td>0</td>\n",
       "    </tr>\n",
       "    <tr>\n",
       "      <th>49996</th>\n",
       "      <td>49997</td>\n",
       "      <td>155</td>\n",
       "      <td>1719</td>\n",
       "      <td>Caucasian</td>\n",
       "      <td>F</td>\n",
       "      <td>Floor</td>\n",
       "      <td>admit</td>\n",
       "      <td>Med-Surg ICU</td>\n",
       "      <td>Neurological</td>\n",
       "      <td>Neurologic</td>\n",
       "      <td>...</td>\n",
       "      <td>145</td>\n",
       "      <td>145.0</td>\n",
       "      <td>145.0</td>\n",
       "      <td>145.0</td>\n",
       "      <td>3.8</td>\n",
       "      <td>0.02</td>\n",
       "      <td>0.00</td>\n",
       "      <td>0</td>\n",
       "      <td>0</td>\n",
       "      <td>0</td>\n",
       "    </tr>\n",
       "    <tr>\n",
       "      <th>49997</th>\n",
       "      <td>49998</td>\n",
       "      <td>93</td>\n",
       "      <td>1912</td>\n",
       "      <td>Caucasian</td>\n",
       "      <td>F</td>\n",
       "      <td>Accident &amp; Emergency</td>\n",
       "      <td>transfer</td>\n",
       "      <td>Med-Surg ICU</td>\n",
       "      <td>Sepsis</td>\n",
       "      <td>Cardiovascular</td>\n",
       "      <td>...</td>\n",
       "      <td>85</td>\n",
       "      <td>115.0</td>\n",
       "      <td>85.0</td>\n",
       "      <td>117.0</td>\n",
       "      <td>NaN</td>\n",
       "      <td>0.09</td>\n",
       "      <td>0.05</td>\n",
       "      <td>1</td>\n",
       "      <td>0</td>\n",
       "      <td>0</td>\n",
       "    </tr>\n",
       "    <tr>\n",
       "      <th>49998</th>\n",
       "      <td>49999</td>\n",
       "      <td>230</td>\n",
       "      <td>1720</td>\n",
       "      <td>Caucasian</td>\n",
       "      <td>M</td>\n",
       "      <td>Operating Room / Recovery</td>\n",
       "      <td>admit</td>\n",
       "      <td>Cardiac ICU</td>\n",
       "      <td>Cardiovascular</td>\n",
       "      <td>Cardiovascular</td>\n",
       "      <td>...</td>\n",
       "      <td>137</td>\n",
       "      <td>137.0</td>\n",
       "      <td>137.0</td>\n",
       "      <td>119.0</td>\n",
       "      <td>4.0</td>\n",
       "      <td>0.00</td>\n",
       "      <td>0.00</td>\n",
       "      <td>0</td>\n",
       "      <td>0</td>\n",
       "      <td>0</td>\n",
       "    </tr>\n",
       "    <tr>\n",
       "      <th>49999</th>\n",
       "      <td>50000</td>\n",
       "      <td>283</td>\n",
       "      <td>1683</td>\n",
       "      <td>Caucasian</td>\n",
       "      <td>M</td>\n",
       "      <td>Accident &amp; Emergency</td>\n",
       "      <td>admit</td>\n",
       "      <td>Med-Surg ICU</td>\n",
       "      <td>Respiratory</td>\n",
       "      <td>Respiratory</td>\n",
       "      <td>...</td>\n",
       "      <td>125</td>\n",
       "      <td>146.0</td>\n",
       "      <td>125.0</td>\n",
       "      <td>134.0</td>\n",
       "      <td>4.9</td>\n",
       "      <td>0.05</td>\n",
       "      <td>0.02</td>\n",
       "      <td>0</td>\n",
       "      <td>0</td>\n",
       "      <td>0</td>\n",
       "    </tr>\n",
       "  </tbody>\n",
       "</table>\n",
       "<p>50000 rows × 58 columns</p>\n",
       "</div>"
      ],
      "text/plain": [
       "       RecordID  hospital_id  icu_id         ethnicity gender  \\\n",
       "0             1          126    1931         Caucasian      M   \n",
       "1             2          112    1544  African American      M   \n",
       "2             3          153    1517         Caucasian      M   \n",
       "3             4          109    1811         Caucasian      M   \n",
       "4             5          287    1845         Caucasian      F   \n",
       "...         ...          ...     ...               ...    ...   \n",
       "49995     49996          110    1689         Caucasian      M   \n",
       "49996     49997          155    1719         Caucasian      F   \n",
       "49997     49998           93    1912         Caucasian      F   \n",
       "49998     49999          230    1720         Caucasian      M   \n",
       "49999     50000          283    1683         Caucasian      M   \n",
       "\n",
       "                icu_admit_source icu_stay_type      icu_type  \\\n",
       "0                          Floor      transfer  Med-Surg ICU   \n",
       "1           Accident & Emergency         admit  Med-Surg ICU   \n",
       "2                          Floor         admit          MICU   \n",
       "3           Accident & Emergency         admit  Med-Surg ICU   \n",
       "4           Accident & Emergency         admit         CSICU   \n",
       "...                          ...           ...           ...   \n",
       "49995       Accident & Emergency         admit  Med-Surg ICU   \n",
       "49996                      Floor         admit  Med-Surg ICU   \n",
       "49997       Accident & Emergency      transfer  Med-Surg ICU   \n",
       "49998  Operating Room / Recovery         admit   Cardiac ICU   \n",
       "49999       Accident & Emergency         admit  Med-Surg ICU   \n",
       "\n",
       "       apache_3j_bodysystem  apache_2_bodysystem  ...  h1_sysbp_min  \\\n",
       "0                 Metabolic            Metabolic  ...            86   \n",
       "1            Cardiovascular       Cardiovascular  ...            95   \n",
       "2               Respiratory          Respiratory  ...           162   \n",
       "3              Neurological           Neurologic  ...           140   \n",
       "4            Cardiovascular       Cardiovascular  ...           119   \n",
       "...                     ...                  ...  ...           ...   \n",
       "49995  Musculoskeletal/Skin  Undefined Diagnoses  ...            98   \n",
       "49996          Neurological           Neurologic  ...           145   \n",
       "49997                Sepsis       Cardiovascular  ...            85   \n",
       "49998        Cardiovascular       Cardiovascular  ...           137   \n",
       "49999           Respiratory          Respiratory  ...           125   \n",
       "\n",
       "       h1_sysbp_noninvasive_max  h1_sysbp_noninvasive_min  d1_glucose_max  \\\n",
       "0                          93.0                      86.0             NaN   \n",
       "1                          95.0                      95.0           333.0   \n",
       "2                         174.0                     162.0           160.0   \n",
       "3                         163.0                     140.0           258.0   \n",
       "4                         119.0                     119.0           110.0   \n",
       "...                         ...                       ...             ...   \n",
       "49995                      98.0                      98.0            98.0   \n",
       "49996                     145.0                     145.0           145.0   \n",
       "49997                     115.0                      85.0           117.0   \n",
       "49998                     137.0                     137.0           119.0   \n",
       "49999                     146.0                     125.0           134.0   \n",
       "\n",
       "       d1_potassium_max  apache_4a_hospital_death_prob  \\\n",
       "0                   NaN                           0.01   \n",
       "1                   3.7                            NaN   \n",
       "2                   4.2                           0.38   \n",
       "3                   3.8                           0.12   \n",
       "4                   3.9                           0.15   \n",
       "...                 ...                            ...   \n",
       "49995               3.9                           0.02   \n",
       "49996               3.8                           0.02   \n",
       "49997               NaN                           0.09   \n",
       "49998               4.0                           0.00   \n",
       "49999               4.9                           0.05   \n",
       "\n",
       "       apache_4a_icu_death_prob  immunosuppression  \\\n",
       "0                          0.00                  0   \n",
       "1                           NaN                  0   \n",
       "2                          0.15                  0   \n",
       "3                          0.06                  0   \n",
       "4                          0.07                  0   \n",
       "...                         ...                ...   \n",
       "49995                      0.01                  0   \n",
       "49996                      0.00                  0   \n",
       "49997                      0.05                  1   \n",
       "49998                      0.00                  0   \n",
       "49999                      0.02                  0   \n",
       "\n",
       "       solid_tumor_with_metastasis  hospital_death  \n",
       "0                                0               0  \n",
       "1                                0               0  \n",
       "2                                0               0  \n",
       "3                                0               0  \n",
       "4                                0               0  \n",
       "...                            ...             ...  \n",
       "49995                            0               0  \n",
       "49996                            0               0  \n",
       "49997                            0               0  \n",
       "49998                            0               0  \n",
       "49999                            0               0  \n",
       "\n",
       "[50000 rows x 58 columns]"
      ]
     },
     "execution_count": 380,
     "metadata": {},
     "output_type": "execute_result"
    }
   ],
   "source": [
    "dfTrain"
   ]
  },
  {
   "cell_type": "code",
   "execution_count": 381,
   "metadata": {},
   "outputs": [
    {
     "data": {
      "text/plain": [
       "(50000, 58)"
      ]
     },
     "execution_count": 381,
     "metadata": {},
     "output_type": "execute_result"
    }
   ],
   "source": [
    "dfTrain.shape"
   ]
  },
  {
   "cell_type": "code",
   "execution_count": 382,
   "metadata": {},
   "outputs": [
    {
     "data": {
      "text/plain": [
       "RecordID                           int64\n",
       "hospital_id                        int64\n",
       "icu_id                             int64\n",
       "ethnicity                         object\n",
       "gender                            object\n",
       "icu_admit_source                  object\n",
       "icu_stay_type                     object\n",
       "icu_type                          object\n",
       "apache_3j_bodysystem              object\n",
       "apache_2_bodysystem               object\n",
       "age                              float64\n",
       "elective_surgery                   int64\n",
       "pre_icu_los_days                 float64\n",
       "apache_2_diagnosis               float64\n",
       "apache_3j_diagnosis              float64\n",
       "apache_post_operative              int64\n",
       "gcs_eyes_apache                  float64\n",
       "gcs_motor_apache                 float64\n",
       "gcs_unable_apache                float64\n",
       "gcs_verbal_apache                float64\n",
       "heart_rate_apache                float64\n",
       "intubated_apache                   int64\n",
       "resprate_apache                  float64\n",
       "temp_apache                      float64\n",
       "ventilated_apache                  int64\n",
       "d1_diasbp_min                      int64\n",
       "d1_diasbp_noninvasive_min          int64\n",
       "d1_heartrate_max                   int64\n",
       "d1_mbp_min                         int64\n",
       "d1_mbp_noninvasive_min           float64\n",
       "d1_resprate_max                  float64\n",
       "d1_spo2_min                      float64\n",
       "d1_sysbp_min                       int64\n",
       "d1_sysbp_noninvasive_min         float64\n",
       "d1_temp_min                      float64\n",
       "h1_diasbp_min                    float64\n",
       "h1_diasbp_noninvasive_min        float64\n",
       "h1_heartrate_max                 float64\n",
       "h1_heartrate_min                 float64\n",
       "h1_mbp_max                       float64\n",
       "h1_mbp_min                       float64\n",
       "h1_mbp_noninvasive_max           float64\n",
       "h1_mbp_noninvasive_min           float64\n",
       "h1_resprate_max                  float64\n",
       "h1_resprate_min                  float64\n",
       "h1_spo2_max                      float64\n",
       "h1_spo2_min                      float64\n",
       "h1_sysbp_max                       int64\n",
       "h1_sysbp_min                       int64\n",
       "h1_sysbp_noninvasive_max         float64\n",
       "h1_sysbp_noninvasive_min         float64\n",
       "d1_glucose_max                   float64\n",
       "d1_potassium_max                 float64\n",
       "apache_4a_hospital_death_prob    float64\n",
       "apache_4a_icu_death_prob         float64\n",
       "immunosuppression                  int64\n",
       "solid_tumor_with_metastasis        int64\n",
       "hospital_death                     int64\n",
       "dtype: object"
      ]
     },
     "execution_count": 382,
     "metadata": {},
     "output_type": "execute_result"
    }
   ],
   "source": [
    "dfTrain.dtypes"
   ]
  },
  {
   "cell_type": "code",
   "execution_count": 383,
   "metadata": {},
   "outputs": [
    {
     "data": {
      "text/plain": [
       "RecordID                            0\n",
       "hospital_id                         0\n",
       "icu_id                              0\n",
       "ethnicity                         576\n",
       "gender                              4\n",
       "icu_admit_source                   47\n",
       "icu_stay_type                       0\n",
       "icu_type                            0\n",
       "apache_3j_bodysystem              276\n",
       "apache_2_bodysystem               276\n",
       "age                              1801\n",
       "elective_surgery                    0\n",
       "pre_icu_los_days                    0\n",
       "apache_2_diagnosis                276\n",
       "apache_3j_diagnosis                64\n",
       "apache_post_operative               0\n",
       "gcs_eyes_apache                   405\n",
       "gcs_motor_apache                  405\n",
       "gcs_unable_apache                  42\n",
       "gcs_verbal_apache                 405\n",
       "heart_rate_apache                   2\n",
       "intubated_apache                    0\n",
       "resprate_apache                    62\n",
       "temp_apache                      1249\n",
       "ventilated_apache                   0\n",
       "d1_diasbp_min                       0\n",
       "d1_diasbp_noninvasive_min           0\n",
       "d1_heartrate_max                    0\n",
       "d1_mbp_min                          0\n",
       "d1_mbp_noninvasive_min             95\n",
       "d1_resprate_max                    13\n",
       "d1_spo2_min                        41\n",
       "d1_sysbp_min                        0\n",
       "d1_sysbp_noninvasive_min            0\n",
       "d1_temp_min                       786\n",
       "h1_diasbp_min                       1\n",
       "h1_diasbp_noninvasive_min          16\n",
       "h1_heartrate_max                   34\n",
       "h1_heartrate_min                   34\n",
       "h1_mbp_max                        349\n",
       "h1_mbp_min                        349\n",
       "h1_mbp_noninvasive_max            734\n",
       "h1_mbp_noninvasive_min            734\n",
       "h1_resprate_max                   626\n",
       "h1_resprate_min                   626\n",
       "h1_spo2_max                       518\n",
       "h1_spo2_min                       518\n",
       "h1_sysbp_max                        0\n",
       "h1_sysbp_min                        0\n",
       "h1_sysbp_noninvasive_max           15\n",
       "h1_sysbp_noninvasive_min           15\n",
       "d1_glucose_max                   2286\n",
       "d1_potassium_max                 4262\n",
       "apache_4a_hospital_death_prob    3693\n",
       "apache_4a_icu_death_prob         3693\n",
       "immunosuppression                   0\n",
       "solid_tumor_with_metastasis         0\n",
       "hospital_death                      0\n",
       "dtype: int64"
      ]
     },
     "execution_count": 383,
     "metadata": {},
     "output_type": "execute_result"
    }
   ],
   "source": [
    "dfTrain.isnull().sum()"
   ]
  },
  {
   "cell_type": "code",
   "execution_count": 384,
   "metadata": {},
   "outputs": [
    {
     "name": "stdout",
     "output_type": "stream",
     "text": [
      "ethnicity                         576\n",
      "gender                              4\n",
      "icu_admit_source                   47\n",
      "apache_3j_bodysystem              276\n",
      "apache_2_bodysystem               276\n",
      "age                              1801\n",
      "apache_2_diagnosis                276\n",
      "apache_3j_diagnosis                64\n",
      "gcs_eyes_apache                   405\n",
      "gcs_motor_apache                  405\n",
      "gcs_unable_apache                  42\n",
      "gcs_verbal_apache                 405\n",
      "heart_rate_apache                   2\n",
      "resprate_apache                    62\n",
      "temp_apache                      1249\n",
      "d1_mbp_noninvasive_min             95\n",
      "d1_resprate_max                    13\n",
      "d1_spo2_min                        41\n",
      "d1_temp_min                       786\n",
      "h1_diasbp_min                       1\n",
      "h1_diasbp_noninvasive_min          16\n",
      "h1_heartrate_max                   34\n",
      "h1_heartrate_min                   34\n",
      "h1_mbp_max                        349\n",
      "h1_mbp_min                        349\n",
      "h1_mbp_noninvasive_max            734\n",
      "h1_mbp_noninvasive_min            734\n",
      "h1_resprate_max                   626\n",
      "h1_resprate_min                   626\n",
      "h1_spo2_max                       518\n",
      "h1_spo2_min                       518\n",
      "h1_sysbp_noninvasive_max           15\n",
      "h1_sysbp_noninvasive_min           15\n",
      "d1_glucose_max                   2286\n",
      "d1_potassium_max                 4262\n",
      "apache_4a_hospital_death_prob    3693\n",
      "apache_4a_icu_death_prob         3693\n",
      "dtype: int64\n",
      "Number of columns with null values > 0:  37\n"
     ]
    }
   ],
   "source": [
    "null_sums = dfTrain.isnull().sum()\n",
    "null_sums = null_sums[null_sums > 0]\n",
    "print(null_sums)\n",
    "print(\"Number of columns with null values > 0: \", len(null_sums))\n"
   ]
  },
  {
   "cell_type": "code",
   "execution_count": 385,
   "metadata": {},
   "outputs": [
    {
     "name": "stdout",
     "output_type": "stream",
     "text": [
      "Highest correlation value and its corresponding columns:\n",
      "Series([], dtype: float64)\n"
     ]
    },
    {
     "name": "stderr",
     "output_type": "stream",
     "text": [
      "C:\\Users\\hamza\\AppData\\Local\\Temp\\ipykernel_11544\\2075142470.py:2: DeprecationWarning: `np.bool` is a deprecated alias for the builtin `bool`. To silence this warning, use `bool` by itself. Doing this will not modify any behavior and is safe. If you specifically wanted the numpy scalar type, use `np.bool_` here.\n",
      "Deprecated in NumPy 1.20; for more details and guidance: https://numpy.org/devdocs/release/1.20.0-notes.html#deprecations\n",
      "  upper = corr_matrix.where(np.triu(np.ones(corr_matrix.shape), k=1).astype(np.bool))\n"
     ]
    }
   ],
   "source": [
    "# Get the upper triangle of the correlation matrix\n",
    "upper = corr_matrix.where(np.triu(np.ones(corr_matrix.shape), k=1).astype(np.bool))\n",
    "\n",
    "# Find the highest correlation value and its corresponding columns\n",
    "highest_corr = upper.stack().sort_values(ascending=False)\n",
    "\n",
    "# Find all correlations with a value greater than 0.6\n",
    "high_corr = highest_corr[highest_corr > 0.6]\n",
    "\n",
    "# Print the highest correlation value and its corresponding columns\n",
    "print(\"Highest correlation value and its corresponding columns:\")\n",
    "print(high_corr)\n",
    "\n",
    "\n"
   ]
  },
  {
   "cell_type": "code",
   "execution_count": 386,
   "metadata": {},
   "outputs": [
    {
     "name": "stderr",
     "output_type": "stream",
     "text": [
      "C:\\Users\\hamza\\AppData\\Local\\Temp\\ipykernel_11544\\1089255485.py:2: FutureWarning: The default value of numeric_only in DataFrame.corr is deprecated. In a future version, it will default to False. Select only valid columns or specify the value of numeric_only to silence this warning.\n",
      "  corr_matrix = dfTrain.corr()\n"
     ]
    },
    {
     "name": "stdout",
     "output_type": "stream",
     "text": [
      "hospital_death                   1.000000\n",
      "apache_4a_hospital_death_prob    0.347165\n",
      "apache_4a_icu_death_prob         0.321235\n",
      "ventilated_apache                0.234896\n",
      "intubated_apache                 0.190526\n",
      "d1_heartrate_max                 0.168749\n",
      "h1_resprate_max                  0.123930\n",
      "heart_rate_apache                0.116381\n",
      "h1_heartrate_max                 0.114889\n",
      "age                              0.113619\n",
      "d1_resprate_max                  0.109300\n",
      "d1_potassium_max                 0.108348\n",
      "h1_resprate_min                  0.105395\n",
      "resprate_apache                  0.090630\n",
      "h1_heartrate_min                 0.087107\n",
      "d1_glucose_max                   0.081836\n",
      "pre_icu_los_days                 0.076840\n",
      "solid_tumor_with_metastasis      0.050262\n",
      "gcs_unable_apache                0.047305\n",
      "immunosuppression                0.042030\n",
      "RecordID                         0.001134\n",
      "hospital_id                     -0.001265\n",
      "icu_id                          -0.001807\n",
      "h1_spo2_max                     -0.044304\n",
      "h1_mbp_max                      -0.056106\n",
      "h1_mbp_noninvasive_max          -0.056713\n",
      "h1_sysbp_noninvasive_max        -0.061805\n",
      "h1_sysbp_max                    -0.062315\n",
      "apache_post_operative           -0.078533\n",
      "apache_2_diagnosis              -0.085224\n",
      "elective_surgery                -0.087962\n",
      "apache_3j_diagnosis             -0.089286\n",
      "h1_spo2_min                     -0.107765\n",
      "h1_diasbp_noninvasive_min       -0.127482\n",
      "h1_diasbp_min                   -0.128104\n",
      "h1_mbp_min                      -0.139717\n",
      "h1_mbp_noninvasive_min          -0.140801\n",
      "h1_sysbp_noninvasive_min        -0.142338\n",
      "h1_sysbp_min                    -0.142812\n",
      "temp_apache                     -0.152887\n",
      "d1_diasbp_noninvasive_min       -0.178078\n",
      "d1_diasbp_min                   -0.178370\n",
      "d1_mbp_noninvasive_min          -0.192095\n",
      "d1_mbp_min                      -0.192484\n",
      "d1_temp_min                     -0.200133\n",
      "d1_sysbp_min                    -0.205945\n",
      "d1_sysbp_noninvasive_min        -0.205951\n",
      "d1_spo2_min                     -0.211755\n",
      "gcs_verbal_apache               -0.241904\n",
      "gcs_eyes_apache                 -0.256151\n",
      "gcs_motor_apache                -0.277436\n",
      "Name: hospital_death, dtype: float64\n"
     ]
    }
   ],
   "source": [
    "# create correlation matrix\n",
    "corr_matrix = dfTrain.corr()\n",
    "\n",
    "# select the 'hospital_death' column and sort the correlations in descending order\n",
    "corr_with_hospital_death = corr_matrix['hospital_death'].sort_values(ascending=False)\n",
    "\n",
    "# print the correlations\n",
    "print(corr_with_hospital_death)\n",
    "\n"
   ]
  },
  {
   "cell_type": "code",
   "execution_count": 387,
   "metadata": {},
   "outputs": [],
   "source": [
    "#next we drop simialr record columns\n",
    "dfTrain = dfTrain.drop('apache_3j_bodysystem', axis=1)\n",
    "dfTest = dfTest.drop('apache_3j_bodysystem', axis=1)"
   ]
  },
  {
   "cell_type": "code",
   "execution_count": 389,
   "metadata": {},
   "outputs": [
    {
     "data": {
      "text/plain": [
       "(50000, 57)"
      ]
     },
     "execution_count": 389,
     "metadata": {},
     "output_type": "execute_result"
    }
   ],
   "source": [
    "dfTrain.shape"
   ]
  },
  {
   "cell_type": "code",
   "execution_count": 390,
   "metadata": {},
   "outputs": [
    {
     "data": {
      "text/plain": [
       "(30000, 56)"
      ]
     },
     "execution_count": 390,
     "metadata": {},
     "output_type": "execute_result"
    }
   ],
   "source": [
    "dfTest.shape"
   ]
  },
  {
   "cell_type": "code",
   "execution_count": 396,
   "metadata": {},
   "outputs": [
    {
     "name": "stderr",
     "output_type": "stream",
     "text": [
      "C:\\Users\\hamza\\AppData\\Local\\Temp\\ipykernel_11544\\3604662654.py:3: FutureWarning: The default value of numeric_only in DataFrame.corr is deprecated. In a future version, it will default to False. Select only valid columns or specify the value of numeric_only to silence this warning.\n",
      "  corr_matrix = dfTrain.corr()\n"
     ]
    }
   ],
   "source": [
    "\n",
    "#next we drop columns that have less -0.1<corelation<0.1 with hospital_death\n",
    "# create correlation matrix\n",
    "corr_matrix = dfTrain.corr()\n",
    "\n",
    "# get the columns with correlation less than -0.1 and greater than 0.1\n",
    "corr_cols = corr_matrix.columns[(corr_matrix['hospital_death'] > -0.1) & (corr_matrix['hospital_death'] < 0.1)]\n",
    "\n",
    "# remove the first element of the array\n",
    "corr_cols = corr_cols[1:]\n",
    "corr_cols\n",
    "# drop the columns with correlation gr8 than -0.1 and less than 0.1\n",
    "# FILEPATH: c:\\Users\\hamza\\Documents\\7th Sem\\IDM\\Challenge 1\\C1.ipynb\n",
    "dfTrain = dfTrain.drop(corr_cols, axis=1)\n",
    "dfTest=dfTest.drop(corr_cols, axis=1)\n"
   ]
  },
  {
   "cell_type": "code",
   "execution_count": 399,
   "metadata": {},
   "outputs": [
    {
     "name": "stderr",
     "output_type": "stream",
     "text": [
      "C:\\Users\\hamza\\AppData\\Local\\Temp\\ipykernel_11544\\4191606928.py:4: FutureWarning: The default value of numeric_only in DataFrame.corr is deprecated. In a future version, it will default to False. Select only valid columns or specify the value of numeric_only to silence this warning.\n",
      "  corr_matrix = dfTrain.corr()\n",
      "C:\\Users\\hamza\\AppData\\Local\\Temp\\ipykernel_11544\\4191606928.py:7: DeprecationWarning: `np.bool` is a deprecated alias for the builtin `bool`. To silence this warning, use `bool` by itself. Doing this will not modify any behavior and is safe. If you specifically wanted the numpy scalar type, use `np.bool_` here.\n",
      "Deprecated in NumPy 1.20; for more details and guidance: https://numpy.org/devdocs/release/1.20.0-notes.html#deprecations\n",
      "  upper = corr_matrix.where(np.triu(np.ones(corr_matrix.shape), k=1).astype(np.bool))\n",
      "C:\\Users\\hamza\\AppData\\Local\\Temp\\ipykernel_11544\\4191606928.py:17: FutureWarning: In a future version of pandas all arguments of DataFrame.pivot will be keyword-only.\n",
      "  sns.heatmap(df_high_corr.pivot('Feature 1', 'Feature 2', 'Correlation'), annot=True, cmap='coolwarm')\n"
     ]
    },
    {
     "data": {
      "text/plain": [
       "<AxesSubplot: xlabel='Feature 2', ylabel='Feature 1'>"
      ]
     },
     "execution_count": 399,
     "metadata": {},
     "output_type": "execute_result"
    },
    {
     "data": {
      "image/png": "[encoded data removed]",
      "text/plain": [
       "<Figure size 1200x800 with 2 Axes>"
      ]
     },
     "metadata": {},
     "output_type": "display_data"
    }
   ],
   "source": [
    "import seaborn as sns\n",
    "\n",
    "# create correlation matrix\n",
    "corr_matrix = dfTrain.corr()\n",
    "\n",
    "# get the upper triangle of the correlation matrix\n",
    "upper = corr_matrix.where(np.triu(np.ones(corr_matrix.shape), k=1).astype(np.bool))\n",
    "\n",
    "# find all correlations with a value greater than 0.6\n",
    "high_corr = upper.stack().sort_values(ascending=False)[upper.stack() > 0.6]\n",
    "\n",
    "# create a new dataframe with only the highest correlations\n",
    "df_high_corr = pd.DataFrame(high_corr).reset_index()\n",
    "df_high_corr.columns = ['Feature 1', 'Feature 2', 'Correlation']\n",
    "\n",
    "# plot the heatmap with a wider figure\n",
    "sns.heatmap(df_high_corr.pivot('Feature 1', 'Feature 2', 'Correlation'), annot=True, cmap='coolwarm')\n"
   ]
  },
  {
   "cell_type": "code",
   "execution_count": 400,
   "metadata": {},
   "outputs": [
    {
     "data": {
      "text/plain": [
       "(50000, 39)"
      ]
     },
     "execution_count": 400,
     "metadata": {},
     "output_type": "execute_result"
    }
   ],
   "source": [
    "dfTrain.shape"
   ]
  },
  {
   "cell_type": "code",
   "execution_count": 401,
   "metadata": {},
   "outputs": [
    {
     "name": "stderr",
     "output_type": "stream",
     "text": [
      "C:\\Users\\hamza\\AppData\\Local\\Temp\\ipykernel_11544\\1630113128.py:3: FutureWarning: The default value of numeric_only in DataFrame.corr is deprecated. In a future version, it will default to False. Select only valid columns or specify the value of numeric_only to silence this warning.\n",
      "  corr_matrix = dfTrain.corr()\n"
     ]
    },
    {
     "name": "stdout",
     "output_type": "stream",
     "text": [
      "8\n",
      "{'h1_mbp_min', 'd1_mbp_noninvasive_min', 'd1_diasbp_min', 'd1_mbp_min', 'd1_sysbp_min', 'h1_mbp_noninvasive_min', 'd1_diasbp_noninvasive_min', 'd1_sysbp_noninvasive_min'}\n"
     ]
    },
    {
     "name": "stderr",
     "output_type": "stream",
     "text": [
      "C:\\Users\\hamza\\AppData\\Local\\Temp\\ipykernel_11544\\1630113128.py:6: DeprecationWarning: `np.bool` is a deprecated alias for the builtin `bool`. To silence this warning, use `bool` by itself. Doing this will not modify any behavior and is safe. If you specifically wanted the numpy scalar type, use `np.bool_` here.\n",
      "Deprecated in NumPy 1.20; for more details and guidance: https://numpy.org/devdocs/release/1.20.0-notes.html#deprecations\n",
      "  upper = corr_matrix.where(np.triu(np.ones(corr_matrix.shape), k=1).astype(np.bool))\n"
     ]
    }
   ],
   "source": [
    "# now we will remove the columns that have a greater than 0.9 and less than 1 correlation to remove dependency between columns\n",
    "# create correlation matrix\n",
    "corr_matrix = dfTrain.corr()\n",
    "\n",
    "# get the upper triangle of the correlation matrix\n",
    "upper = corr_matrix.where(np.triu(np.ones(corr_matrix.shape), k=1).astype(np.bool))\n",
    "\n",
    "# find all correlations with a value greater than 0.9 and less than 1\n",
    "high_corr = upper.stack().sort_values(ascending=False)[(upper.stack() > 0.99) & (upper.stack() < 1)]\n",
    "\n",
    "# get the columns with high correlation\n",
    "high_corr_cols = set(high_corr.index.get_level_values(0)) | set(high_corr.index.get_level_values(1))\n",
    "print(len(high_corr_cols))\n",
    "print(high_corr_cols)\n",
    "\n",
    "# drop the columns with high correlation\n",
    "# dfTrain = dfTrain.drop(high_corr_cols, axis=1)\n"
   ]
  },
  {
   "cell_type": "code",
   "execution_count": 402,
   "metadata": {},
   "outputs": [
    {
     "data": {
      "text/plain": [
       "(30000, 38)"
      ]
     },
     "execution_count": 402,
     "metadata": {},
     "output_type": "execute_result"
    }
   ],
   "source": [
    "dfTest.shape"
   ]
  },
  {
   "cell_type": "code",
   "execution_count": 403,
   "metadata": {},
   "outputs": [
    {
     "name": "stderr",
     "output_type": "stream",
     "text": [
      "C:\\Users\\hamza\\AppData\\Local\\Temp\\ipykernel_11544\\1033782445.py:5: FutureWarning: The default value of numeric_only in DataFrame.corr is deprecated. In a future version, it will default to False. Select only valid columns or specify the value of numeric_only to silence this warning.\n",
      "  corr_matrix = dfTrain.corr()\n"
     ]
    },
    {
     "name": "stdout",
     "output_type": "stream",
     "text": [
      "Columns with high interdependency:\n",
      "['d1_sysbp_noninvasive_min', 'd1_sysbp_min', 'd1_mbp_min', 'd1_mbp_noninvasive_min', 'd1_diasbp_min', 'd1_diasbp_noninvasive_min', 'h1_sysbp_min', 'h1_sysbp_noninvasive_min']\n"
     ]
    },
    {
     "name": "stderr",
     "output_type": "stream",
     "text": [
      "C:\\Users\\hamza\\AppData\\Local\\Temp\\ipykernel_11544\\1033782445.py:8: DeprecationWarning: `np.bool` is a deprecated alias for the builtin `bool`. To silence this warning, use `bool` by itself. Doing this will not modify any behavior and is safe. If you specifically wanted the numpy scalar type, use `np.bool_` here.\n",
      "Deprecated in NumPy 1.20; for more details and guidance: https://numpy.org/devdocs/release/1.20.0-notes.html#deprecations\n",
      "  upper = corr_matrix.where(np.triu(np.ones(corr_matrix.shape), k=1).astype(np.bool))\n"
     ]
    }
   ],
   "source": [
    "# set the correlation threshold\n",
    "corr_threshold = 0.9\n",
    "\n",
    "# create correlation matrix\n",
    "corr_matrix = dfTrain.corr()\n",
    "\n",
    "# get the upper triangle of the correlation matrix\n",
    "upper = corr_matrix.where(np.triu(np.ones(corr_matrix.shape), k=1).astype(np.bool))\n",
    "\n",
    "# find all correlations with a value greater than the threshold\n",
    "high_corr = upper.stack().sort_values(ascending=False)[upper.stack() > corr_threshold]\n",
    "\n",
    "# get the columns with high correlation\n",
    "high_corr_cols = set(high_corr.index.get_level_values(0)) | set(high_corr.index.get_level_values(1))\n",
    "\n",
    "# drop the columns with correlation >0.99\n",
    "high_corr_cols = list(high_corr_cols)\n",
    "high_corr_cols.sort(key=lambda x: abs(corr_matrix.loc[x, 'hospital_death']), reverse=True)\n",
    "high_corr_cols = high_corr_cols[:8]\n",
    "dfTrain = dfTrain.drop(high_corr_cols, axis=1)\n",
    "dfTest = dfTest.drop(high_corr_cols, axis=1)\n",
    "\n",
    "# print the columns with high correlation\n",
    "print(\"Columns with high interdependency:\")\n",
    "print(high_corr_cols)\n"
   ]
  },
  {
   "cell_type": "code",
   "execution_count": 404,
   "metadata": {},
   "outputs": [
    {
     "data": {
      "text/plain": [
       "(50000, 31)"
      ]
     },
     "execution_count": 404,
     "metadata": {},
     "output_type": "execute_result"
    }
   ],
   "source": [
    "#we can see d1_mbp_noninvasive_min  has high dpenedency with moe than one, d1_sysbp_min and d1_sysbp_noninvasive_min as well\n",
    "dfTrain.shape"
   ]
  },
  {
   "cell_type": "code",
   "execution_count": 405,
   "metadata": {},
   "outputs": [
    {
     "data": {
      "text/plain": [
       "(30000, 30)"
      ]
     },
     "execution_count": 405,
     "metadata": {},
     "output_type": "execute_result"
    }
   ],
   "source": [
    "dfTest.shape"
   ]
  },
  {
   "cell_type": "code",
   "execution_count": 406,
   "metadata": {},
   "outputs": [
    {
     "name": "stdout",
     "output_type": "stream",
     "text": [
      "age                              1801\n",
      "temp_apache                      1249\n",
      "d1_potassium_max                 4262\n",
      "apache_4a_hospital_death_prob    3693\n",
      "apache_4a_icu_death_prob         3693\n",
      "dtype: int64\n"
     ]
    }
   ],
   "source": [
    "null_sums = dfTrain.isnull().sum()\n",
    "null_sums = null_sums[null_sums > 1000]\n",
    "print(null_sums)\n"
   ]
  },
  {
   "cell_type": "code",
   "execution_count": 407,
   "metadata": {},
   "outputs": [
    {
     "name": "stdout",
     "output_type": "stream",
     "text": [
      "age                              1111\n",
      "d1_potassium_max                 2587\n",
      "apache_4a_hospital_death_prob    2146\n",
      "apache_4a_icu_death_prob         2146\n",
      "dtype: int64\n"
     ]
    }
   ],
   "source": [
    "null_sums = dfTest.isnull().sum()\n",
    "null_sums = null_sums[null_sums > 1000]\n",
    "print(null_sums)\n"
   ]
  },
  {
   "cell_type": "code",
   "execution_count": 408,
   "metadata": {},
   "outputs": [
    {
     "data": {
      "image/png": "[encoded data removed]",
      "text/plain": [
       "<Figure size 1200x800 with 1 Axes>"
      ]
     },
     "metadata": {},
     "output_type": "display_data"
    },
    {
     "data": {
      "image/png": "[encoded data removed]",
      "text/plain": [
       "<Figure size 1200x800 with 1 Axes>"
      ]
     },
     "metadata": {},
     "output_type": "display_data"
    },
    {
     "data": {
      "image/png": "[encoded data removed]",
      "text/plain": [
       "<Figure size 1200x800 with 1 Axes>"
      ]
     },
     "metadata": {},
     "output_type": "display_data"
    },
    {
     "data": {
      "image/png": "[encoded data removed]",
      "text/plain": [
       "<Figure size 1200x800 with 1 Axes>"
      ]
     },
     "metadata": {},
     "output_type": "display_data"
    }
   ],
   "source": [
    "import matplotlib.pyplot as plt\n",
    "\n",
    "# create the box plots\n",
    "dfTrain[['temp_apache']].boxplot()\n",
    "# show the plot\n",
    "plt.show()\n",
    "dfTrain[['d1_potassium_max']].boxplot()\n",
    "# show the plot\n",
    "plt.show()\n",
    "dfTrain[['apache_4a_hospital_death_prob']].boxplot()\n",
    "# show the plot\n",
    "plt.show()\n",
    "dfTrain[['apache_4a_icu_death_prob']].boxplot()\n",
    "# show the plot\n",
    "plt.show()\n",
    "\n",
    "\n"
   ]
  },
  {
   "cell_type": "code",
   "execution_count": 409,
   "metadata": {},
   "outputs": [],
   "source": [
    "#since all these r heavily skewed andaffected by the outliers we will fill them using median imputation\n",
    "\n",
    "# fill null values with median for temp_apache\n",
    "dfTrain['temp_apache'].fillna(dfTrain['temp_apache'].median(), inplace=True)\n",
    "\n",
    "# fill null values with median for d1_potassium_max\n",
    "dfTrain['d1_potassium_max'].fillna(dfTrain['d1_potassium_max'].median(), inplace=True)\n",
    "\n",
    "# fill null values with median for apache_4a_hospital_death_prob\n",
    "dfTrain['apache_4a_hospital_death_prob'].fillna(dfTrain['apache_4a_hospital_death_prob'].median(), inplace=True)\n",
    "\n",
    "# fill null values with median for apache_4a_icu_death_prob\n",
    "dfTrain['apache_4a_icu_death_prob'].fillna(dfTrain['apache_4a_icu_death_prob'].median(), inplace=True)\n"
   ]
  },
  {
   "cell_type": "code",
   "execution_count": 410,
   "metadata": {},
   "outputs": [],
   "source": [
    "#since all these r heavily skewed andaffected by the outliers we will fill them using median imputation\n",
    "\n",
    "# fill null values with median for d1_potassium_max\n",
    "dfTest['d1_potassium_max'].fillna(dfTest['d1_potassium_max'].median(), inplace=True)\n",
    "\n",
    "# fill null values with median for apache_4a_hospital_death_prob\n",
    "dfTest['apache_4a_hospital_death_prob'].fillna(dfTest['apache_4a_hospital_death_prob'].median(), inplace=True)\n",
    "\n",
    "# fill null values with median for apache_4a_icu_death_prob\n",
    "dfTest['apache_4a_icu_death_prob'].fillna(dfTest['apache_4a_icu_death_prob'].median(), inplace=True)\n"
   ]
  },
  {
   "cell_type": "code",
   "execution_count": 411,
   "metadata": {},
   "outputs": [
    {
     "name": "stdout",
     "output_type": "stream",
     "text": [
      "age    1801\n",
      "dtype: int64\n"
     ]
    }
   ],
   "source": [
    "null_sums = dfTrain.isnull().sum()\n",
    "null_sums = null_sums[null_sums > 1000]\n",
    "print(null_sums)"
   ]
  },
  {
   "cell_type": "code",
   "execution_count": 412,
   "metadata": {},
   "outputs": [
    {
     "name": "stdout",
     "output_type": "stream",
     "text": [
      "age    1111\n",
      "dtype: int64\n"
     ]
    }
   ],
   "source": [
    "null_sums = dfTest.isnull().sum()\n",
    "null_sums = null_sums[null_sums > 1000]\n",
    "print(null_sums)"
   ]
  },
  {
   "cell_type": "code",
   "execution_count": 413,
   "metadata": {},
   "outputs": [
    {
     "data": {
      "text/plain": [
       "<AxesSubplot: >"
      ]
     },
     "execution_count": 413,
     "metadata": {},
     "output_type": "execute_result"
    },
    {
     "data": {
      "image/png": "[encoded data removed]",
      "text/plain": [
       "<Figure size 1200x800 with 1 Axes>"
      ]
     },
     "metadata": {},
     "output_type": "display_data"
    }
   ],
   "source": [
    "#age we will look atseperately\n",
    "#make a boxlot for age\n",
    "dfTrain[['age']].boxplot()"
   ]
  },
  {
   "cell_type": "code",
   "execution_count": 414,
   "metadata": {},
   "outputs": [
    {
     "name": "stdout",
     "output_type": "stream",
     "text": [
      "age                              1.000000\n",
      "apache_4a_hospital_death_prob    0.155878\n",
      "hospital_death                   0.113619\n",
      "apache_4a_icu_death_prob         0.081668\n",
      "d1_potassium_max                 0.062118\n",
      "h1_resprate_min                  0.038678\n",
      "ventilated_apache                0.032976\n",
      "h1_resprate_max                  0.029953\n",
      "gcs_eyes_apache                  0.029605\n",
      "d1_resprate_max                  0.029380\n",
      "gcs_motor_apache                 0.026804\n",
      "intubated_apache                 0.005573\n",
      "RecordID                         0.002283\n",
      "gcs_verbal_apache               -0.015534\n",
      "d1_temp_min                     -0.066423\n",
      "temp_apache                     -0.080967\n",
      "h1_spo2_min                     -0.082781\n",
      "d1_spo2_min                     -0.090210\n",
      "h1_mbp_noninvasive_min          -0.102839\n",
      "h1_mbp_min                      -0.103210\n",
      "d1_heartrate_max                -0.133597\n",
      "heart_rate_apache               -0.147307\n",
      "h1_heartrate_max                -0.162799\n",
      "h1_diasbp_noninvasive_min       -0.193837\n",
      "h1_diasbp_min                   -0.194035\n",
      "Name: age, dtype: float64\n"
     ]
    },
    {
     "name": "stderr",
     "output_type": "stream",
     "text": [
      "C:\\Users\\hamza\\AppData\\Local\\Temp\\ipykernel_11544\\3348287931.py:2: FutureWarning: The default value of numeric_only in DataFrame.corr is deprecated. In a future version, it will default to False. Select only valid columns or specify the value of numeric_only to silence this warning.\n",
      "  corr_matrix = dfTrain.corr()\n"
     ]
    }
   ],
   "source": [
    "# create correlation matrix\n",
    "corr_matrix = dfTrain.corr()\n",
    "\n",
    "# select the 'age' column and sort the correlations in descending order\n",
    "corr_with_age = corr_matrix['age'].sort_values(ascending=False)\n",
    "\n",
    "# print the correlations\n",
    "print(corr_with_age)\n"
   ]
  },
  {
   "cell_type": "code",
   "execution_count": 415,
   "metadata": {},
   "outputs": [
    {
     "data": {
      "text/plain": [
       "Index(['RecordID', 'ethnicity', 'gender', 'icu_admit_source', 'icu_stay_type',\n",
       "       'icu_type', 'apache_2_bodysystem', 'age', 'gcs_eyes_apache',\n",
       "       'gcs_motor_apache', 'gcs_verbal_apache', 'heart_rate_apache',\n",
       "       'intubated_apache', 'temp_apache', 'ventilated_apache',\n",
       "       'd1_heartrate_max', 'd1_resprate_max', 'd1_spo2_min', 'd1_temp_min',\n",
       "       'h1_diasbp_min', 'h1_diasbp_noninvasive_min', 'h1_heartrate_max',\n",
       "       'h1_mbp_min', 'h1_mbp_noninvasive_min', 'h1_resprate_max',\n",
       "       'h1_resprate_min', 'h1_spo2_min', 'd1_potassium_max',\n",
       "       'apache_4a_hospital_death_prob', 'apache_4a_icu_death_prob',\n",
       "       'hospital_death'],\n",
       "      dtype='object')"
      ]
     },
     "execution_count": 415,
     "metadata": {},
     "output_type": "execute_result"
    }
   ],
   "source": [
    "dfTrain.columns"
   ]
  },
  {
   "cell_type": "code",
   "execution_count": 416,
   "metadata": {},
   "outputs": [],
   "source": [
    "# group the dataframe by apache_2_bodysystem and calculate the mean age for each group\n",
    "mean_age_by_bodysystem = dfTrain.groupby('apache_2_bodysystem')['age'].mean()\n",
    "\n",
    "# define a function that takes a row of the dataframe as input and returns the mean age of the corresponding apache_2_bodysystem\n",
    "def fill_age(row):\n",
    "    if pd.isnull(row['age']):\n",
    "        if pd.isnull(row['apache_2_bodysystem']):\n",
    "            return np.nan\n",
    "        else:\n",
    "            return mean_age_by_bodysystem[row['apache_2_bodysystem']]\n",
    "    else:\n",
    "        return row['age']\n",
    "\n",
    "# apply the function to each row of the dataframe and fill the missing age values with the corresponding mean age\n",
    "dfTrain['age'] = dfTrain.apply(fill_age, axis=1)\n"
   ]
  },
  {
   "cell_type": "code",
   "execution_count": 417,
   "metadata": {},
   "outputs": [],
   "source": [
    "# group the dataframe by apache_2_bodysystem and calculate the mean age for each group\n",
    "mean_age_by_bodysystem = dfTest.groupby('apache_2_bodysystem')['age'].mean()\n",
    "\n",
    "# define a function that takes a row of the dataframe as input and returns the mean age of the corresponding apache_2_bodysystem\n",
    "def fill_age(row):\n",
    "    if pd.isnull(row['age']):\n",
    "        if pd.isnull(row['apache_2_bodysystem']):\n",
    "            return np.nan\n",
    "        else:\n",
    "            return mean_age_by_bodysystem[row['apache_2_bodysystem']]\n",
    "    else:\n",
    "        return row['age']\n",
    "\n",
    "# apply the function to each row of the dataframe and fill the missing age values with the corresponding mean age\n",
    "dfTest['age'] = dfTest.apply(fill_age, axis=1)\n"
   ]
  },
  {
   "cell_type": "code",
   "execution_count": 418,
   "metadata": {},
   "outputs": [
    {
     "name": "stdout",
     "output_type": "stream",
     "text": [
      "Series([], dtype: int64)\n"
     ]
    }
   ],
   "source": [
    "null_sums = dfTrain.isnull().sum()\n",
    "null_sums = null_sums[null_sums > 1000]\n",
    "print(null_sums)"
   ]
  },
  {
   "cell_type": "code",
   "execution_count": 419,
   "metadata": {},
   "outputs": [
    {
     "data": {
      "text/plain": [
       "RecordID                           0\n",
       "ethnicity                        576\n",
       "gender                             4\n",
       "icu_admit_source                  47\n",
       "icu_stay_type                      0\n",
       "icu_type                           0\n",
       "apache_2_bodysystem              276\n",
       "age                                1\n",
       "gcs_eyes_apache                  405\n",
       "gcs_motor_apache                 405\n",
       "gcs_verbal_apache                405\n",
       "heart_rate_apache                  2\n",
       "intubated_apache                   0\n",
       "temp_apache                        0\n",
       "ventilated_apache                  0\n",
       "d1_heartrate_max                   0\n",
       "d1_resprate_max                   13\n",
       "d1_spo2_min                       41\n",
       "d1_temp_min                      786\n",
       "h1_diasbp_min                      1\n",
       "h1_diasbp_noninvasive_min         16\n",
       "h1_heartrate_max                  34\n",
       "h1_mbp_min                       349\n",
       "h1_mbp_noninvasive_min           734\n",
       "h1_resprate_max                  626\n",
       "h1_resprate_min                  626\n",
       "h1_spo2_min                      518\n",
       "d1_potassium_max                   0\n",
       "apache_4a_hospital_death_prob      0\n",
       "apache_4a_icu_death_prob           0\n",
       "hospital_death                     0\n",
       "dtype: int64"
      ]
     },
     "execution_count": 419,
     "metadata": {},
     "output_type": "execute_result"
    }
   ],
   "source": [
    "dfTrain.isnull().sum()"
   ]
  },
  {
   "cell_type": "code",
   "execution_count": 420,
   "metadata": {},
   "outputs": [],
   "source": [
    "# fill null values with mean for numerical columns and mode for categorical columns\n",
    "for col in dfTrain.columns:\n",
    "    if dfTrain[col].dtype == 'object':\n",
    "        dfTrain[col].fillna(dfTrain[col].mode()[0], inplace=True) #mode if object\n",
    "    else:\n",
    "        dfTrain[col].fillna(dfTrain[col].mean(), inplace=True)\n"
   ]
  },
  {
   "cell_type": "code",
   "execution_count": 421,
   "metadata": {},
   "outputs": [],
   "source": [
    "# fill null values with mean for numerical columns and mode for categorical columns\n",
    "for col in dfTest.columns:\n",
    "    if dfTest[col].dtype == 'object':\n",
    "        dfTest[col].fillna(dfTest[col].mode()[0], inplace=True) #mode if object\n",
    "    else:\n",
    "        dfTest[col].fillna(dfTest[col].mean(), inplace=True)\n"
   ]
  },
  {
   "cell_type": "code",
   "execution_count": 423,
   "metadata": {},
   "outputs": [
    {
     "data": {
      "text/plain": [
       "RecordID                         0\n",
       "ethnicity                        0\n",
       "gender                           0\n",
       "icu_admit_source                 0\n",
       "icu_stay_type                    0\n",
       "icu_type                         0\n",
       "apache_2_bodysystem              0\n",
       "age                              0\n",
       "gcs_eyes_apache                  0\n",
       "gcs_motor_apache                 0\n",
       "gcs_verbal_apache                0\n",
       "heart_rate_apache                0\n",
       "intubated_apache                 0\n",
       "temp_apache                      0\n",
       "ventilated_apache                0\n",
       "d1_heartrate_max                 0\n",
       "d1_resprate_max                  0\n",
       "d1_spo2_min                      0\n",
       "d1_temp_min                      0\n",
       "h1_diasbp_min                    0\n",
       "h1_diasbp_noninvasive_min        0\n",
       "h1_heartrate_max                 0\n",
       "h1_mbp_min                       0\n",
       "h1_mbp_noninvasive_min           0\n",
       "h1_resprate_max                  0\n",
       "h1_resprate_min                  0\n",
       "h1_spo2_min                      0\n",
       "d1_potassium_max                 0\n",
       "apache_4a_hospital_death_prob    0\n",
       "apache_4a_icu_death_prob         0\n",
       "dtype: int64"
      ]
     },
     "execution_count": 423,
     "metadata": {},
     "output_type": "execute_result"
    }
   ],
   "source": [
    "dfTest.isnull().sum()"
   ]
  },
  {
   "cell_type": "markdown",
   "metadata": {},
   "source": [
    "NOW WE HAVE CLEAN DATASET"
   ]
  },
  {
   "cell_type": "markdown",
   "metadata": {},
   "source": [
    "DECISION TREE"
   ]
  },
  {
   "cell_type": "code",
   "execution_count": 119,
   "metadata": {},
   "outputs": [
    {
     "name": "stdout",
     "output_type": "stream",
     "text": [
      "Collecting scikit-learn\n",
      "  Obtaining dependency information for scikit-learn from https://files.pythonhosted.org/packages/59/ed/548f6f686845d386a727a51a3daa411d95fc599649a2d54705f6773ac259/scikit_learn-1.3.1-cp310-cp310-win_amd64.whl.metadata\n",
      "  Downloading scikit_learn-1.3.1-cp310-cp310-win_amd64.whl.metadata (11 kB)\n",
      "Requirement already satisfied: numpy<2.0,>=1.17.3 in c:\\users\\hamza\\appdata\\local\\packages\\pythonsoftwarefoundation.python.3.10_qbz5n2kfra8p0\\localcache\\local-packages\\python310\\site-packages (from scikit-learn) (1.23.5)\n",
      "Requirement already satisfied: scipy>=1.5.0 in c:\\users\\hamza\\appdata\\local\\packages\\pythonsoftwarefoundation.python.3.10_qbz5n2kfra8p0\\localcache\\local-packages\\python310\\site-packages (from scikit-learn) (1.9.3)\n",
      "Requirement already satisfied: joblib>=1.1.1 in c:\\users\\hamza\\appdata\\local\\packages\\pythonsoftwarefoundation.python.3.10_qbz5n2kfra8p0\\localcache\\local-packages\\python310\\site-packages (from scikit-learn) (1.3.2)\n",
      "Collecting threadpoolctl>=2.0.0 (from scikit-learn)\n",
      "  Obtaining dependency information for threadpoolctl>=2.0.0 from https://files.pythonhosted.org/packages/81/12/fd4dea011af9d69e1cad05c75f3f7202cdcbeac9b712eea58ca779a72865/threadpoolctl-3.2.0-py3-none-any.whl.metadata\n",
      "  Downloading threadpoolctl-3.2.0-py3-none-any.whl.metadata (10.0 kB)\n",
      "Downloading scikit_learn-1.3.1-cp310-cp310-win_amd64.whl (9.3 MB)\n",
      "   ---------------------------------------- 0.0/9.3 MB ? eta -:--:--\n",
      "   ---------------------------------------- 0.0/9.3 MB ? eta -:--:--\n",
      "   ---------------------------------------- 0.0/9.3 MB 660.6 kB/s eta 0:00:14\n",
      "   ---------------------------------------- 0.0/9.3 MB 279.3 kB/s eta 0:00:33\n",
      "   ---------------------------------------- 0.1/9.3 MB 476.3 kB/s eta 0:00:20\n",
      "   ---------------------------------------- 0.1/9.3 MB 544.7 kB/s eta 0:00:17\n",
      "    --------------------------------------- 0.1/9.3 MB 532.5 kB/s eta 0:00:18\n",
      "    --------------------------------------- 0.2/9.3 MB 687.0 kB/s eta 0:00:14\n",
      "   - -------------------------------------- 0.3/9.3 MB 803.7 kB/s eta 0:00:12\n",
      "   - -------------------------------------- 0.4/9.3 MB 857.5 kB/s eta 0:00:11\n",
      "   - -------------------------------------- 0.4/9.3 MB 958.5 kB/s eta 0:00:10\n",
      "   -- ------------------------------------- 0.5/9.3 MB 1.0 MB/s eta 0:00:09\n",
      "   -- ------------------------------------- 0.6/9.3 MB 1.1 MB/s eta 0:00:08\n",
      "   -- ------------------------------------- 0.6/9.3 MB 1.1 MB/s eta 0:00:08\n",
      "   --- ------------------------------------ 0.7/9.3 MB 1.1 MB/s eta 0:00:08\n",
      "   --- ------------------------------------ 0.8/9.3 MB 1.1 MB/s eta 0:00:08\n",
      "   --- ------------------------------------ 0.9/9.3 MB 1.2 MB/s eta 0:00:08\n",
      "   ---- ----------------------------------- 0.9/9.3 MB 1.2 MB/s eta 0:00:07\n",
      "   ---- ----------------------------------- 1.0/9.3 MB 1.2 MB/s eta 0:00:07\n",
      "   ---- ----------------------------------- 1.1/9.3 MB 1.3 MB/s eta 0:00:07\n",
      "   ----- ---------------------------------- 1.2/9.3 MB 1.3 MB/s eta 0:00:07\n",
      "   ----- ---------------------------------- 1.3/9.3 MB 1.3 MB/s eta 0:00:06\n",
      "   ----- ---------------------------------- 1.4/9.3 MB 1.4 MB/s eta 0:00:06\n",
      "   ------ --------------------------------- 1.5/9.3 MB 1.4 MB/s eta 0:00:06\n",
      "   ------ --------------------------------- 1.5/9.3 MB 1.4 MB/s eta 0:00:06\n",
      "   ------- -------------------------------- 1.6/9.3 MB 1.4 MB/s eta 0:00:06\n",
      "   ------- -------------------------------- 1.7/9.3 MB 1.4 MB/s eta 0:00:06\n",
      "   ------- -------------------------------- 1.8/9.3 MB 1.5 MB/s eta 0:00:06\n",
      "   -------- ------------------------------- 1.9/9.3 MB 1.5 MB/s eta 0:00:06\n",
      "   -------- ------------------------------- 2.0/9.3 MB 1.5 MB/s eta 0:00:05\n",
      "   -------- ------------------------------- 2.1/9.3 MB 1.5 MB/s eta 0:00:05\n",
      "   --------- ------------------------------ 2.1/9.3 MB 1.5 MB/s eta 0:00:05\n",
      "   --------- ------------------------------ 2.2/9.3 MB 1.5 MB/s eta 0:00:05\n",
      "   ---------- ----------------------------- 2.3/9.3 MB 1.5 MB/s eta 0:00:05\n",
      "   ---------- ----------------------------- 2.4/9.3 MB 1.5 MB/s eta 0:00:05\n",
      "   ---------- ----------------------------- 2.5/9.3 MB 1.5 MB/s eta 0:00:05\n",
      "   ----------- ---------------------------- 2.6/9.3 MB 1.6 MB/s eta 0:00:05\n",
      "   ----------- ---------------------------- 2.7/9.3 MB 1.6 MB/s eta 0:00:05\n",
      "   ----------- ---------------------------- 2.8/9.3 MB 1.6 MB/s eta 0:00:05\n",
      "   ------------ --------------------------- 2.8/9.3 MB 1.6 MB/s eta 0:00:05\n",
      "   ------------ --------------------------- 2.9/9.3 MB 1.6 MB/s eta 0:00:04\n",
      "   ------------- -------------------------- 3.0/9.3 MB 1.6 MB/s eta 0:00:04\n",
      "   ------------- -------------------------- 3.1/9.3 MB 1.6 MB/s eta 0:00:04\n",
      "   ------------- -------------------------- 3.2/9.3 MB 1.6 MB/s eta 0:00:04\n",
      "   -------------- ------------------------- 3.3/9.3 MB 1.6 MB/s eta 0:00:04\n",
      "   -------------- ------------------------- 3.4/9.3 MB 1.6 MB/s eta 0:00:04\n",
      "   -------------- ------------------------- 3.5/9.3 MB 1.6 MB/s eta 0:00:04\n",
      "   --------------- ------------------------ 3.5/9.3 MB 1.6 MB/s eta 0:00:04\n",
      "   --------------- ------------------------ 3.6/9.3 MB 1.6 MB/s eta 0:00:04\n",
      "   ---------------- ----------------------- 3.7/9.3 MB 1.6 MB/s eta 0:00:04\n",
      "   ---------------- ----------------------- 3.8/9.3 MB 1.7 MB/s eta 0:00:04\n",
      "   ---------------- ----------------------- 3.9/9.3 MB 1.7 MB/s eta 0:00:04\n",
      "   ----------------- ---------------------- 4.0/9.3 MB 1.7 MB/s eta 0:00:04\n",
      "   ----------------- ---------------------- 4.1/9.3 MB 1.7 MB/s eta 0:00:04\n",
      "   ----------------- ---------------------- 4.2/9.3 MB 1.7 MB/s eta 0:00:04\n",
      "   ------------------ --------------------- 4.2/9.3 MB 1.7 MB/s eta 0:00:04\n",
      "   ------------------ --------------------- 4.3/9.3 MB 1.7 MB/s eta 0:00:03\n",
      "   ------------------- -------------------- 4.4/9.3 MB 1.7 MB/s eta 0:00:03\n",
      "   ------------------- -------------------- 4.4/9.3 MB 1.7 MB/s eta 0:00:03\n",
      "   ------------------- -------------------- 4.4/9.3 MB 1.7 MB/s eta 0:00:03\n",
      "   ------------------- -------------------- 4.4/9.3 MB 1.6 MB/s eta 0:00:04\n",
      "   ------------------- -------------------- 4.5/9.3 MB 1.6 MB/s eta 0:00:03\n",
      "   ------------------- -------------------- 4.6/9.3 MB 1.6 MB/s eta 0:00:03\n",
      "   -------------------- ------------------- 4.7/9.3 MB 1.6 MB/s eta 0:00:03\n",
      "   -------------------- ------------------- 4.8/9.3 MB 1.6 MB/s eta 0:00:03\n",
      "   --------------------- ------------------ 4.9/9.3 MB 1.6 MB/s eta 0:00:03\n",
      "   --------------------- ------------------ 4.9/9.3 MB 1.6 MB/s eta 0:00:03\n",
      "   --------------------- ------------------ 5.0/9.3 MB 1.6 MB/s eta 0:00:03\n",
      "   ---------------------- ----------------- 5.1/9.3 MB 1.6 MB/s eta 0:00:03\n",
      "   ---------------------- ----------------- 5.2/9.3 MB 1.6 MB/s eta 0:00:03\n",
      "   ---------------------- ----------------- 5.3/9.3 MB 1.6 MB/s eta 0:00:03\n",
      "   ----------------------- ---------------- 5.4/9.3 MB 1.7 MB/s eta 0:00:03\n",
      "   ----------------------- ---------------- 5.4/9.3 MB 1.6 MB/s eta 0:00:03\n",
      "   ------------------------ --------------- 5.7/9.3 MB 1.7 MB/s eta 0:00:03\n",
      "   ------------------------ --------------- 5.7/9.3 MB 1.7 MB/s eta 0:00:03\n",
      "   ------------------------- -------------- 5.8/9.3 MB 1.7 MB/s eta 0:00:03\n",
      "   ------------------------- -------------- 5.9/9.3 MB 1.7 MB/s eta 0:00:03\n",
      "   ------------------------- -------------- 5.9/9.3 MB 1.7 MB/s eta 0:00:02\n",
      "   -------------------------- ------------- 6.1/9.3 MB 1.7 MB/s eta 0:00:02\n",
      "   -------------------------- ------------- 6.2/9.3 MB 1.7 MB/s eta 0:00:02\n",
      "   -------------------------- ------------- 6.2/9.3 MB 1.7 MB/s eta 0:00:02\n",
      "   --------------------------- ------------ 6.3/9.3 MB 1.7 MB/s eta 0:00:02\n",
      "   --------------------------- ------------ 6.3/9.3 MB 1.7 MB/s eta 0:00:02\n",
      "   --------------------------- ------------ 6.4/9.3 MB 1.7 MB/s eta 0:00:02\n",
      "   ---------------------------- ----------- 6.5/9.3 MB 1.7 MB/s eta 0:00:02\n",
      "   ---------------------------- ----------- 6.6/9.3 MB 1.7 MB/s eta 0:00:02\n",
      "   ---------------------------- ----------- 6.7/9.3 MB 1.7 MB/s eta 0:00:02\n",
      "   ----------------------------- ---------- 6.8/9.3 MB 1.7 MB/s eta 0:00:02\n",
      "   ----------------------------- ---------- 6.8/9.3 MB 1.7 MB/s eta 0:00:02\n",
      "   ------------------------------ --------- 7.0/9.3 MB 1.7 MB/s eta 0:00:02\n",
      "   ------------------------------ --------- 7.0/9.3 MB 1.7 MB/s eta 0:00:02\n",
      "   ------------------------------ --------- 7.1/9.3 MB 1.7 MB/s eta 0:00:02\n",
      "   ------------------------------- -------- 7.2/9.3 MB 1.7 MB/s eta 0:00:02\n",
      "   ------------------------------- -------- 7.3/9.3 MB 1.7 MB/s eta 0:00:02\n",
      "   ------------------------------- -------- 7.4/9.3 MB 1.7 MB/s eta 0:00:02\n",
      "   -------------------------------- ------- 7.5/9.3 MB 1.7 MB/s eta 0:00:02\n",
      "   -------------------------------- ------- 7.5/9.3 MB 1.7 MB/s eta 0:00:02\n",
      "   -------------------------------- ------- 7.6/9.3 MB 1.7 MB/s eta 0:00:01\n",
      "   --------------------------------- ------ 7.7/9.3 MB 1.7 MB/s eta 0:00:01\n",
      "   --------------------------------- ------ 7.8/9.3 MB 1.7 MB/s eta 0:00:01\n",
      "   --------------------------------- ------ 7.9/9.3 MB 1.7 MB/s eta 0:00:01\n",
      "   ---------------------------------- ----- 7.9/9.3 MB 1.7 MB/s eta 0:00:01\n",
      "   ---------------------------------- ----- 8.0/9.3 MB 1.7 MB/s eta 0:00:01\n",
      "   ---------------------------------- ----- 8.0/9.3 MB 1.7 MB/s eta 0:00:01\n",
      "   ----------------------------------- ---- 8.1/9.3 MB 1.7 MB/s eta 0:00:01\n",
      "   ----------------------------------- ---- 8.2/9.3 MB 1.7 MB/s eta 0:00:01\n",
      "   ----------------------------------- ---- 8.3/9.3 MB 1.7 MB/s eta 0:00:01\n",
      "   ------------------------------------ --- 8.4/9.3 MB 1.7 MB/s eta 0:00:01\n",
      "   ------------------------------------ --- 8.4/9.3 MB 1.7 MB/s eta 0:00:01\n",
      "   ------------------------------------ --- 8.5/9.3 MB 1.7 MB/s eta 0:00:01\n",
      "   ------------------------------------ --- 8.6/9.3 MB 1.7 MB/s eta 0:00:01\n",
      "   ------------------------------------- -- 8.6/9.3 MB 1.7 MB/s eta 0:00:01\n",
      "   ------------------------------------- -- 8.7/9.3 MB 1.7 MB/s eta 0:00:01\n",
      "   ------------------------------------- -- 8.8/9.3 MB 1.7 MB/s eta 0:00:01\n",
      "   -------------------------------------- - 8.8/9.3 MB 1.7 MB/s eta 0:00:01\n",
      "   -------------------------------------- - 8.9/9.3 MB 1.7 MB/s eta 0:00:01\n",
      "   -------------------------------------- - 9.0/9.3 MB 1.7 MB/s eta 0:00:01\n",
      "   -------------------------------------- - 9.0/9.3 MB 1.7 MB/s eta 0:00:01\n",
      "   -------------------------------------- - 9.0/9.3 MB 1.7 MB/s eta 0:00:01\n",
      "   -------------------------------------- - 9.0/9.3 MB 1.7 MB/s eta 0:00:01\n",
      "   -------------------------------------- - 9.0/9.3 MB 1.7 MB/s eta 0:00:01\n",
      "   ---------------------------------------  9.2/9.3 MB 1.6 MB/s eta 0:00:01\n",
      "   ---------------------------------------- 9.3/9.3 MB 1.6 MB/s eta 0:00:00\n",
      "Downloading threadpoolctl-3.2.0-py3-none-any.whl (15 kB)\n",
      "Installing collected packages: threadpoolctl, scikit-learn\n",
      "Successfully installed scikit-learn-1.3.1 threadpoolctl-3.2.0\n",
      "Note: you may need to restart the kernel to use updated packages.\n"
     ]
    },
    {
     "data": {
      "text/plain": [
       "'1.3.1'"
      ]
     },
     "execution_count": 119,
     "metadata": {},
     "output_type": "execute_result"
    }
   ],
   "source": [
    "%pip install scikit-learn\n",
    "import sklearn\n",
    "sklearn.__version__"
   ]
  },
  {
   "cell_type": "code",
   "execution_count": 424,
   "metadata": {},
   "outputs": [],
   "source": [
    "from sklearn.tree import DecisionTreeClassifier\n",
    "from sklearn.model_selection import train_test_split, RepeatedKFold, GridSearchCV, cross_val_score\n",
    "from sklearn.metrics import roc_curve, roc_auc_score\n",
    "from sklearn.preprocessing import MinMaxScaler\n"
   ]
  },
  {
   "cell_type": "code",
   "execution_count": 425,
   "metadata": {},
   "outputs": [
    {
     "data": {
      "text/plain": [
       "['ethnicity',\n",
       " 'gender',\n",
       " 'icu_admit_source',\n",
       " 'icu_stay_type',\n",
       " 'icu_type',\n",
       " 'apache_2_bodysystem']"
      ]
     },
     "execution_count": 425,
     "metadata": {},
     "output_type": "execute_result"
    }
   ],
   "source": [
    "typesobject=dfTrain.dtypes[dfTrain.dtypes=='object'].index.tolist()\n",
    "typesobject"
   ]
  },
  {
   "cell_type": "code",
   "execution_count": 426,
   "metadata": {},
   "outputs": [
    {
     "data": {
      "text/plain": [
       "['RecordID',\n",
       " 'age',\n",
       " 'gcs_eyes_apache',\n",
       " 'gcs_motor_apache',\n",
       " 'gcs_verbal_apache',\n",
       " 'heart_rate_apache',\n",
       " 'intubated_apache',\n",
       " 'temp_apache',\n",
       " 'ventilated_apache',\n",
       " 'd1_heartrate_max',\n",
       " 'd1_resprate_max',\n",
       " 'd1_spo2_min',\n",
       " 'd1_temp_min',\n",
       " 'h1_diasbp_min',\n",
       " 'h1_diasbp_noninvasive_min',\n",
       " 'h1_heartrate_max',\n",
       " 'h1_mbp_min',\n",
       " 'h1_mbp_noninvasive_min',\n",
       " 'h1_resprate_max',\n",
       " 'h1_resprate_min',\n",
       " 'h1_spo2_min',\n",
       " 'd1_potassium_max',\n",
       " 'apache_4a_hospital_death_prob',\n",
       " 'apache_4a_icu_death_prob',\n",
       " 'hospital_death']"
      ]
     },
     "execution_count": 426,
     "metadata": {},
     "output_type": "execute_result"
    }
   ],
   "source": [
    "typesNOTobject=dfTrain.dtypes[dfTrain.dtypes!='object'].index.tolist()\n",
    "typesNOTobject"
   ]
  },
  {
   "cell_type": "markdown",
   "metadata": {},
   "source": [
    "no need to convert any"
   ]
  },
  {
   "cell_type": "code",
   "execution_count": 427,
   "metadata": {},
   "outputs": [
    {
     "data": {
      "text/plain": [
       "Med-Surg ICU    27852\n",
       "MICU             4539\n",
       "Neuro ICU        4309\n",
       "CCU-CTICU        3872\n",
       "SICU             3030\n",
       "Cardiac ICU      2676\n",
       "CSICU            2238\n",
       "CTICU            1484\n",
       "Name: icu_type, dtype: int64"
      ]
     },
     "execution_count": 427,
     "metadata": {},
     "output_type": "execute_result"
    }
   ],
   "source": [
    "dfTrain['icu_type'].value_counts()\n"
   ]
  },
  {
   "cell_type": "code",
   "execution_count": 428,
   "metadata": {},
   "outputs": [
    {
     "data": {
      "text/plain": [
       "Med-Surg ICU    16728\n",
       "MICU             2764\n",
       "Neuro ICU        2601\n",
       "CCU-CTICU        2302\n",
       "SICU             1748\n",
       "Cardiac ICU      1549\n",
       "CSICU            1350\n",
       "CTICU             958\n",
       "Name: icu_type, dtype: int64"
      ]
     },
     "execution_count": 428,
     "metadata": {},
     "output_type": "execute_result"
    }
   ],
   "source": [
    "dfTest['icu_type'].value_counts()\n"
   ]
  },
  {
   "cell_type": "code",
   "execution_count": 429,
   "metadata": {},
   "outputs": [],
   "source": [
    "dfTrain['icu_type'] = dfTrain['icu_type'].replace(['Cardiac ICU', 'CSICU', 'CTICU', 'CCU-CTICU'], 'Cardiac related')"
   ]
  },
  {
   "cell_type": "code",
   "execution_count": 430,
   "metadata": {},
   "outputs": [],
   "source": [
    "dfTest['icu_type'] = dfTrain['icu_type'].replace(['Cardiac ICU', 'CSICU', 'CTICU', 'CCU-CTICU'], 'Cardiac related')"
   ]
  },
  {
   "cell_type": "code",
   "execution_count": 431,
   "metadata": {},
   "outputs": [
    {
     "data": {
      "text/plain": [
       "Med-Surg ICU       27852\n",
       "Cardiac related    10270\n",
       "MICU                4539\n",
       "Neuro ICU           4309\n",
       "SICU                3030\n",
       "Name: icu_type, dtype: int64"
      ]
     },
     "execution_count": 431,
     "metadata": {},
     "output_type": "execute_result"
    }
   ],
   "source": [
    "dfTrain['icu_type'].value_counts()\n"
   ]
  },
  {
   "cell_type": "code",
   "execution_count": 432,
   "metadata": {},
   "outputs": [
    {
     "data": {
      "text/plain": [
       "Med-Surg ICU       16752\n",
       "Cardiac related     6120\n",
       "MICU                2703\n",
       "Neuro ICU           2597\n",
       "SICU                1828\n",
       "Name: icu_type, dtype: int64"
      ]
     },
     "execution_count": 432,
     "metadata": {},
     "output_type": "execute_result"
    }
   ],
   "source": [
    "dfTest['icu_type'].value_counts()\n"
   ]
  },
  {
   "cell_type": "code",
   "execution_count": 433,
   "metadata": {},
   "outputs": [
    {
     "data": {
      "text/plain": [
       "Cardiovascular         21502\n",
       "Neurologic              6838\n",
       "Respiratory             6518\n",
       "Gastrointestinal        5062\n",
       "Metabolic               4391\n",
       "Trauma                  2202\n",
       "Undefined diagnoses     1556\n",
       "Renal/Genitourinary     1393\n",
       "Haematologic             345\n",
       "Undefined Diagnoses      193\n",
       "Name: apache_2_bodysystem, dtype: int64"
      ]
     },
     "execution_count": 433,
     "metadata": {},
     "output_type": "execute_result"
    }
   ],
   "source": [
    "dfTrain['apache_2_bodysystem'].value_counts()\n"
   ]
  },
  {
   "cell_type": "code",
   "execution_count": 434,
   "metadata": {},
   "outputs": [
    {
     "data": {
      "text/plain": [
       "Cardiovascular         12895\n",
       "Respiratory             4031\n",
       "Neurologic              3929\n",
       "Gastrointestinal        3089\n",
       "Metabolic               2637\n",
       "Trauma                  1301\n",
       "Undefined diagnoses      967\n",
       "Renal/Genitourinary      795\n",
       "Haematologic             240\n",
       "Undefined Diagnoses      116\n",
       "Name: apache_2_bodysystem, dtype: int64"
      ]
     },
     "execution_count": 434,
     "metadata": {},
     "output_type": "execute_result"
    }
   ],
   "source": [
    "dfTest['apache_2_bodysystem'].value_counts()\n"
   ]
  },
  {
   "cell_type": "code",
   "execution_count": 435,
   "metadata": {},
   "outputs": [],
   "source": [
    "dfTrain['apache_2_bodysystem'] = dfTrain['apache_2_bodysystem'].replace(['Undefined Diagnoses'], 'Undefined diagnoses')"
   ]
  },
  {
   "cell_type": "code",
   "execution_count": 436,
   "metadata": {},
   "outputs": [],
   "source": [
    "dfTest['apache_2_bodysystem'] = dfTest['apache_2_bodysystem'].replace(['Undefined Diagnoses'], 'Undefined diagnoses')"
   ]
  },
  {
   "cell_type": "code",
   "execution_count": 437,
   "metadata": {},
   "outputs": [
    {
     "data": {
      "text/plain": [
       "Cardiovascular         21502\n",
       "Neurologic              6838\n",
       "Respiratory             6518\n",
       "Gastrointestinal        5062\n",
       "Metabolic               4391\n",
       "Trauma                  2202\n",
       "Undefined diagnoses     1749\n",
       "Renal/Genitourinary     1393\n",
       "Haematologic             345\n",
       "Name: apache_2_bodysystem, dtype: int64"
      ]
     },
     "execution_count": 437,
     "metadata": {},
     "output_type": "execute_result"
    }
   ],
   "source": [
    "dfTrain['apache_2_bodysystem'].value_counts()\n"
   ]
  },
  {
   "cell_type": "code",
   "execution_count": 438,
   "metadata": {},
   "outputs": [
    {
     "data": {
      "text/plain": [
       "RecordID                                        int64\n",
       "age                                           float64\n",
       "gcs_eyes_apache                               float64\n",
       "gcs_motor_apache                              float64\n",
       "gcs_verbal_apache                             float64\n",
       "heart_rate_apache                             float64\n",
       "intubated_apache                                int64\n",
       "temp_apache                                   float64\n",
       "ventilated_apache                               int64\n",
       "d1_heartrate_max                                int64\n",
       "d1_resprate_max                               float64\n",
       "d1_spo2_min                                   float64\n",
       "d1_temp_min                                   float64\n",
       "h1_diasbp_min                                 float64\n",
       "h1_diasbp_noninvasive_min                     float64\n",
       "h1_heartrate_max                              float64\n",
       "h1_mbp_min                                    float64\n",
       "h1_mbp_noninvasive_min                        float64\n",
       "h1_resprate_max                               float64\n",
       "h1_resprate_min                               float64\n",
       "h1_spo2_min                                   float64\n",
       "d1_potassium_max                              float64\n",
       "apache_4a_hospital_death_prob                 float64\n",
       "apache_4a_icu_death_prob                      float64\n",
       "hospital_death                                  int64\n",
       "ethnicity_African American                      uint8\n",
       "ethnicity_Asian                                 uint8\n",
       "ethnicity_Caucasian                             uint8\n",
       "ethnicity_Hispanic                              uint8\n",
       "ethnicity_Native American                       uint8\n",
       "ethnicity_Other/Unknown                         uint8\n",
       "gender_F                                        uint8\n",
       "gender_M                                        uint8\n",
       "icu_admit_source_Accident & Emergency           uint8\n",
       "icu_admit_source_Floor                          uint8\n",
       "icu_admit_source_Operating Room / Recovery      uint8\n",
       "icu_admit_source_Other Hospital                 uint8\n",
       "icu_admit_source_Other ICU                      uint8\n",
       "icu_stay_type_admit                             uint8\n",
       "icu_stay_type_readmit                           uint8\n",
       "icu_stay_type_transfer                          uint8\n",
       "icu_type_Cardiac related                        uint8\n",
       "icu_type_MICU                                   uint8\n",
       "icu_type_Med-Surg ICU                           uint8\n",
       "icu_type_Neuro ICU                              uint8\n",
       "icu_type_SICU                                   uint8\n",
       "apache_2_bodysystem_Cardiovascular              uint8\n",
       "apache_2_bodysystem_Gastrointestinal            uint8\n",
       "apache_2_bodysystem_Haematologic                uint8\n",
       "apache_2_bodysystem_Metabolic                   uint8\n",
       "apache_2_bodysystem_Neurologic                  uint8\n",
       "apache_2_bodysystem_Renal/Genitourinary         uint8\n",
       "apache_2_bodysystem_Respiratory                 uint8\n",
       "apache_2_bodysystem_Trauma                      uint8\n",
       "apache_2_bodysystem_Undefined diagnoses         uint8\n",
       "dtype: object"
      ]
     },
     "execution_count": 438,
     "metadata": {},
     "output_type": "execute_result"
    }
   ],
   "source": [
    "df_onehot = pd.get_dummies(dfTrain)\n",
    "df_onehot.dtypes"
   ]
  },
  {
   "cell_type": "code",
   "execution_count": 439,
   "metadata": {},
   "outputs": [
    {
     "data": {
      "text/plain": [
       "RecordID                                        int64\n",
       "age                                           float64\n",
       "gcs_eyes_apache                               float64\n",
       "gcs_motor_apache                              float64\n",
       "gcs_verbal_apache                             float64\n",
       "heart_rate_apache                             float64\n",
       "intubated_apache                                int64\n",
       "temp_apache                                   float64\n",
       "ventilated_apache                               int64\n",
       "d1_heartrate_max                                int64\n",
       "d1_resprate_max                               float64\n",
       "d1_spo2_min                                   float64\n",
       "d1_temp_min                                   float64\n",
       "h1_diasbp_min                                 float64\n",
       "h1_diasbp_noninvasive_min                     float64\n",
       "h1_heartrate_max                              float64\n",
       "h1_mbp_min                                    float64\n",
       "h1_mbp_noninvasive_min                        float64\n",
       "h1_resprate_max                               float64\n",
       "h1_resprate_min                               float64\n",
       "h1_spo2_min                                   float64\n",
       "d1_potassium_max                              float64\n",
       "apache_4a_hospital_death_prob                 float64\n",
       "apache_4a_icu_death_prob                      float64\n",
       "ethnicity_African American                      uint8\n",
       "ethnicity_Asian                                 uint8\n",
       "ethnicity_Caucasian                             uint8\n",
       "ethnicity_Hispanic                              uint8\n",
       "ethnicity_Native American                       uint8\n",
       "ethnicity_Other/Unknown                         uint8\n",
       "gender_F                                        uint8\n",
       "gender_M                                        uint8\n",
       "icu_admit_source_Accident & Emergency           uint8\n",
       "icu_admit_source_Floor                          uint8\n",
       "icu_admit_source_Operating Room / Recovery      uint8\n",
       "icu_admit_source_Other Hospital                 uint8\n",
       "icu_admit_source_Other ICU                      uint8\n",
       "icu_stay_type_admit                             uint8\n",
       "icu_stay_type_readmit                           uint8\n",
       "icu_stay_type_transfer                          uint8\n",
       "icu_type_Cardiac related                        uint8\n",
       "icu_type_MICU                                   uint8\n",
       "icu_type_Med-Surg ICU                           uint8\n",
       "icu_type_Neuro ICU                              uint8\n",
       "icu_type_SICU                                   uint8\n",
       "apache_2_bodysystem_Cardiovascular              uint8\n",
       "apache_2_bodysystem_Gastrointestinal            uint8\n",
       "apache_2_bodysystem_Haematologic                uint8\n",
       "apache_2_bodysystem_Metabolic                   uint8\n",
       "apache_2_bodysystem_Neurologic                  uint8\n",
       "apache_2_bodysystem_Renal/Genitourinary         uint8\n",
       "apache_2_bodysystem_Respiratory                 uint8\n",
       "apache_2_bodysystem_Trauma                      uint8\n",
       "apache_2_bodysystem_Undefined diagnoses         uint8\n",
       "dtype: object"
      ]
     },
     "execution_count": 439,
     "metadata": {},
     "output_type": "execute_result"
    }
   ],
   "source": [
    "df_onehotTest = pd.get_dummies(dfTest)\n",
    "df_onehotTest.dtypes"
   ]
  },
  {
   "cell_type": "code",
   "execution_count": 440,
   "metadata": {},
   "outputs": [
    {
     "data": {
      "text/plain": [
       "(50000, 55)"
      ]
     },
     "execution_count": 440,
     "metadata": {},
     "output_type": "execute_result"
    }
   ],
   "source": [
    "df_onehot.shape\n"
   ]
  },
  {
   "cell_type": "code",
   "execution_count": 441,
   "metadata": {},
   "outputs": [
    {
     "data": {
      "text/plain": [
       "(30000, 54)"
      ]
     },
     "execution_count": 441,
     "metadata": {},
     "output_type": "execute_result"
    }
   ],
   "source": [
    "df_onehotTest.shape"
   ]
  },
  {
   "cell_type": "markdown",
   "metadata": {},
   "source": [
    "first we will divide the test data itself and check for best model"
   ]
  },
  {
   "cell_type": "code",
   "execution_count": 442,
   "metadata": {},
   "outputs": [],
   "source": [
    "X = df_onehot.loc[:, df_onehot.columns != 'hospital_death']\n",
    "y = df_onehot[['hospital_death']]"
   ]
  },
  {
   "cell_type": "code",
   "execution_count": 443,
   "metadata": {},
   "outputs": [
    {
     "name": "stdout",
     "output_type": "stream",
     "text": [
      "hospital_death\n",
      "0                 45662\n",
      "1                  4338\n",
      "dtype: int64\n"
     ]
    }
   ],
   "source": [
    "print(y.value_counts())"
   ]
  },
  {
   "cell_type": "code",
   "execution_count": 444,
   "metadata": {},
   "outputs": [],
   "source": [
    "trainX, testX, trainy, testy = train_test_split(X, y, test_size=0.1, random_state=42)"
   ]
  },
  {
   "cell_type": "code",
   "execution_count": 445,
   "metadata": {},
   "outputs": [],
   "source": [
    "def fit_model(model, model_name):\n",
    "    model.fit(trainX,trainy)\n",
    "    md_probs = model.predict_proba(testX)\n",
    "    md_probs = md_probs[:,1]\n",
    "    md_auc = roc_auc_score(testy, md_probs)\n",
    "    print(model_name, \" : \", md_auc)\n",
    "    md_fpr, md_tpr, _ = roc_curve(testy, md_probs)\n",
    "    plt.plot(md_fpr, md_tpr, marker='.', label=model_name)\n",
    "    #return (md_fpr, md_tpr)"
   ]
  },
  {
   "cell_type": "code",
   "execution_count": null,
   "metadata": {},
   "outputs": [],
   "source": [
    "def fit_model(model, model_name):\n",
    "    model.fit(trainX_scaled,trainy)\n",
    "    md_probs = model.predict_proba(testX_scaled)\n",
    "    md_probs = md_probs[:,1]\n",
    "    md_auc = roc_auc_score(testy, md_probs)\n",
    "    print(model_name, \" : \", md_auc)\n",
    "    md_fpr, md_tpr, _ = roc_curve(testy, md_probs)\n",
    "    plt.plot(md_fpr, md_tpr, marker='.', label=model_name)\n",
    "    #return (md_fpr, md_tpr)"
   ]
  },
  {
   "cell_type": "code",
   "execution_count": 463,
   "metadata": {},
   "outputs": [
    {
     "name": "stdout",
     "output_type": "stream",
     "text": [
      "Depth 5 Split 2  :  0.8495945354394627\n",
      "Depth 7 Split 2  :  0.8338660793913113\n",
      "Depth 5 Split 5  :  0.8495945354394627\n",
      "Depth 7 Split 5  :  0.8347546343785853\n",
      "Depth 3 Split 2  :  0.8352059819600948\n",
      "Depth 3 Split 5  :  0.8352059819600948\n"
     ]
    },
    {
     "data": {
      "image/png": "[encoded data removed]",
      "text/plain": [
       "<Figure size 1200x800 with 1 Axes>"
      ]
     },
     "metadata": {},
     "output_type": "display_data"
    }
   ],
   "source": [
    "#scaled version\n",
    "from sklearn.preprocessing import StandardScaler\n",
    "\n",
    "trainX, testX, trainy, testy = train_test_split(X, y, test_size=0.3, random_state=2)\n",
    "# Create a scaler object\n",
    "scaler = StandardScaler()\n",
    "\n",
    "# Fit the scaler to the training data and transform\n",
    "trainX_scaled = scaler.fit_transform(trainX)\n",
    "\n",
    "# Apply the scaler to the test data\n",
    "testX_scaled = scaler.transform(testX)\n",
    "\n",
    "# Then use trainX_scaled and testX_scaled in place of trainX and testX\n",
    "SCALED_dt_5_2 = DecisionTreeClassifier(max_depth=5)  \n",
    "fit_model(SCALED_dt_5_2, \"Depth 5 Split 2\") #BEST\n",
    "\n",
    "SCALED_dt_7_2 = DecisionTreeClassifier(max_depth=7)  \n",
    "fit_model(SCALED_dt_7_2, \"Depth 7 Split 2\") \n",
    "\n",
    "SCALED_dt_5_5 = DecisionTreeClassifier(max_depth=5, min_samples_split=3)  \n",
    "fit_model(SCALED_dt_5_5, \"Depth 5 Split 5\") #BEST\n",
    "\n",
    "SCALED_dt_7_5 = DecisionTreeClassifier(max_depth=7, min_samples_split=5)  \n",
    "fit_model(SCALED_dt_7_5, \"Depth 7 Split 5\") \n",
    "\n",
    "SCALED_dt_3_2 = DecisionTreeClassifier(max_depth=3, min_samples_split=2)  \n",
    "fit_model(SCALED_dt_3_2, \"Depth 3 Split 2\") \n",
    "\n",
    "SCALED_dt_3_5 = DecisionTreeClassifier(max_depth=3, min_samples_split=5)  \n",
    "fit_model(SCALED_dt_3_5, \"Depth 3 Split 5\") \n",
    "\n",
    "#kn = KNeighborsClassifier(n_neighbors=5)\n",
    "#fit_model(kn, \"k-NN\")\n",
    "\n",
    "#pipe_kn = Pipeline([(\"scaler\", MinMaxScaler()), (\"knr\", KNeighborsClassifier(n_neighbors=5))])\n",
    "\n",
    "plt.xlabel('False Positive Rate')\n",
    "plt.ylabel('True Positive Rate')\n",
    "# show the legend\n",
    "plt.legend()\n",
    "# show the plot\n",
    "plt.show()\n",
    "\n"
   ]
  },
  {
   "cell_type": "code",
   "execution_count": 462,
   "metadata": {},
   "outputs": [
    {
     "name": "stdout",
     "output_type": "stream",
     "text": [
      "Depth 5 Split 2  :  0.860113430049734\n",
      "Depth 7 Split 2  :  0.8504610373506041\n",
      "Depth 5 Split 5  :  0.860113430049734\n",
      "Depth 7 Split 5  :  0.8544726917841544\n",
      "Depth 3 Split 2  :  0.8404472833772868\n",
      "Depth 3 Split 5  :  0.8404472833772868\n"
     ]
    },
    {
     "data": {
      "image/png": "[encoded data removed]",
      "text/plain": [
       "<Figure size 1200x800 with 1 Axes>"
      ]
     },
     "metadata": {},
     "output_type": "display_data"
    }
   ],
   "source": [
    "import matplotlib.pyplot as plt\n",
    "\n",
    "trainX, testX, trainy, testy = train_test_split(X, y, test_size=0.1, random_state=2)\n",
    "dt_5_2 = DecisionTreeClassifier(max_depth=5)  \n",
    "fit_model(dt_5_2, \"Depth 5 Split 2\") #BEST\n",
    "\n",
    "dt_7_2 = DecisionTreeClassifier(max_depth=7)  \n",
    "fit_model(dt_7_2, \"Depth 7 Split 2\") \n",
    "\n",
    "dt_5_5 = DecisionTreeClassifier(max_depth=5, min_samples_split=3)  \n",
    "fit_model(dt_5_5, \"Depth 5 Split 5\") #BEST\n",
    "\n",
    "dt_7_5 = DecisionTreeClassifier(max_depth=7, min_samples_split=5)  \n",
    "fit_model(dt_7_5, \"Depth 7 Split 5\") \n",
    "\n",
    "dt_3_2 = DecisionTreeClassifier(max_depth=3, min_samples_split=2)  \n",
    "fit_model(dt_3_2, \"Depth 3 Split 2\") \n",
    "\n",
    "dt_3_5 = DecisionTreeClassifier(max_depth=3, min_samples_split=5)  \n",
    "fit_model(dt_3_5, \"Depth 3 Split 5\") \n",
    "\n",
    "#kn = KNeighborsClassifier(n_neighbors=5)\n",
    "#fit_model(kn, \"k-NN\")\n",
    "\n",
    "#pipe_kn = Pipeline([(\"scaler\", MinMaxScaler()), (\"knr\", KNeighborsClassifier(n_neighbors=5))])\n",
    "\n",
    "plt.xlabel('False Positive Rate')\n",
    "plt.ylabel('True Positive Rate')\n",
    "# show the legend\n",
    "plt.legend()\n",
    "# show the plot\n",
    "plt.show()\n"
   ]
  },
  {
   "cell_type": "code",
   "execution_count": 464,
   "metadata": {},
   "outputs": [
    {
     "name": "stdout",
     "output_type": "stream",
     "text": [
      "{'mean_fit_time': array([0.15335615, 0.17386096, 0.15606446, 0.15159416, 0.14817572,\n",
      "       0.14546161, 0.15526576, 0.14470005, 0.14337306, 0.23649831,\n",
      "       0.23413217, 0.23995364, 0.24541075, 0.23979356, 0.24004872,\n",
      "       0.24266183, 0.23850369, 0.24093673, 0.34599445, 0.34595661,\n",
      "       0.34380908, 0.3373554 , 0.37864807, 0.34149084, 0.3442852 ,\n",
      "       0.34505291, 0.34538803, 0.45103018, 0.44618371, 0.44138727,\n",
      "       0.43925357, 0.44196239, 0.43928599, 0.44778461, 0.4374491 ,\n",
      "       0.46442266, 0.66499281, 0.64428475, 0.77376208, 0.76350572,\n",
      "       0.75874057, 0.76738105, 0.75841353, 0.76180007, 0.75320501,\n",
      "       0.91489623, 1.00301008, 1.02104523, 0.69900305, 0.7603368 ,\n",
      "       0.77594087, 0.66980925, 0.66105223, 0.66127651, 0.78340361,\n",
      "       0.78050158, 0.77716439, 0.77379103, 0.77675231, 0.77369866,\n",
      "       0.77456262, 0.79469657, 0.78622568, 0.89796419, 0.89627535,\n",
      "       0.89871311, 0.89359074, 0.90008097, 0.89966314, 0.91042829,\n",
      "       0.91657794, 0.92890244, 1.12427349, 1.34896865, 0.92251461,\n",
      "       1.28719645, 1.38876572, 1.40627637, 1.49139411, 1.4140394 ,\n",
      "       1.46455638, 1.07887652, 1.06166117, 1.05264168, 1.04933085,\n",
      "       1.04217033, 1.07557821, 1.02937672, 1.03743234, 1.09364672]), 'std_fit_time': array([0.01093387, 0.04023378, 0.01026898, 0.01164998, 0.00752474,\n",
      "       0.00451151, 0.01811621, 0.00422623, 0.005934  , 0.01161581,\n",
      "       0.01025594, 0.0080932 , 0.00784411, 0.00695624, 0.00836683,\n",
      "       0.00516985, 0.00574095, 0.00892217, 0.02087751, 0.00616501,\n",
      "       0.00544183, 0.0097666 , 0.04991771, 0.01306255, 0.00525786,\n",
      "       0.01169838, 0.01222642, 0.02090456, 0.01067749, 0.00945876,\n",
      "       0.00754172, 0.01160685, 0.010473  , 0.03270475, 0.01395774,\n",
      "       0.01749312, 0.17307472, 0.11656188, 0.03339878, 0.01627323,\n",
      "       0.01473378, 0.02495975, 0.01536593, 0.02331858, 0.01419097,\n",
      "       0.01697157, 0.05599167, 0.13024103, 0.04488505, 0.05718793,\n",
      "       0.08690749, 0.02581668, 0.00786508, 0.01468403, 0.01834969,\n",
      "       0.01467231, 0.00971159, 0.01901717, 0.03200621, 0.01187811,\n",
      "       0.01429121, 0.02606446, 0.01324299, 0.01147203, 0.01465246,\n",
      "       0.00644914, 0.00962131, 0.01418711, 0.01118919, 0.0203047 ,\n",
      "       0.01970052, 0.02084935, 0.11671456, 0.02790107, 0.56326731,\n",
      "       0.65366043, 0.30685299, 0.03267681, 0.11037548, 0.03449944,\n",
      "       0.07485388, 0.03803693, 0.04278894, 0.03162036, 0.0350359 ,\n",
      "       0.0268677 , 0.02794324, 0.026345  , 0.02972217, 0.08314372]), 'mean_score_time': array([0.01400313, 0.01528075, 0.01465392, 0.01255054, 0.01250234,\n",
      "       0.01243954, 0.01405506, 0.01328461, 0.01216965, 0.01271145,\n",
      "       0.01273944, 0.01285214, 0.01331124, 0.01253016, 0.01358311,\n",
      "       0.01389823, 0.01249323, 0.01280606, 0.01310246, 0.01348915,\n",
      "       0.01273894, 0.01384444, 0.01559248, 0.01393445, 0.01338933,\n",
      "       0.01322529, 0.01290028, 0.01358933, 0.01277211, 0.01324663,\n",
      "       0.01382525, 0.01313715, 0.01183536, 0.01395497, 0.01289637,\n",
      "       0.01795547, 0.01897039, 0.01532991, 0.01868408, 0.01881537,\n",
      "       0.01844292, 0.01864467, 0.0175545 , 0.01852868, 0.01780779,\n",
      "       0.01855385, 0.0204982 , 0.02080228, 0.01388037, 0.01720629,\n",
      "       0.01778562, 0.01412327, 0.01330974, 0.0135962 , 0.01403577,\n",
      "       0.01436632, 0.01287746, 0.01355252, 0.01346867, 0.01227012,\n",
      "       0.01393814, 0.01398408, 0.01393654, 0.01380403, 0.01395998,\n",
      "       0.01442716, 0.013429  , 0.0131073 , 0.01374896, 0.01515269,\n",
      "       0.0132575 , 0.01387873, 0.01800673, 0.01776516, 0.01042664,\n",
      "       0.02703805, 0.02151196, 0.02070861, 0.02220101, 0.02056212,\n",
      "       0.02090566, 0.01290092, 0.01241395, 0.01235259, 0.01261623,\n",
      "       0.01332638, 0.01282721, 0.01258354, 0.01242354, 0.01360397]), 'std_score_time': array([0.00203299, 0.0036011 , 0.00200878, 0.00254838, 0.00120764,\n",
      "       0.00196968, 0.00276144, 0.00204248, 0.00196102, 0.00199284,\n",
      "       0.00132864, 0.00176563, 0.00151907, 0.00149041, 0.00148218,\n",
      "       0.00159451, 0.0015578 , 0.00181259, 0.00137888, 0.00145277,\n",
      "       0.00183426, 0.00177524, 0.00296929, 0.00232948, 0.00133265,\n",
      "       0.0018011 , 0.00120395, 0.00151984, 0.0013658 , 0.00134593,\n",
      "       0.00136074, 0.00145134, 0.00106051, 0.00189452, 0.00235373,\n",
      "       0.01193223, 0.00935691, 0.00334498, 0.00237837, 0.00230239,\n",
      "       0.00208365, 0.00192274, 0.00296497, 0.00166297, 0.00190431,\n",
      "       0.00140405, 0.00359084, 0.00426041, 0.00295063, 0.00178191,\n",
      "       0.00405479, 0.00122384, 0.00203964, 0.00142122, 0.00202896,\n",
      "       0.00136576, 0.00202832, 0.00156619, 0.00106368, 0.00131196,\n",
      "       0.0015372 , 0.00132274, 0.00209493, 0.00149261, 0.0019326 ,\n",
      "       0.00105044, 0.0017379 , 0.00137564, 0.00166476, 0.00495551,\n",
      "       0.00157221, 0.00197163, 0.00956579, 0.00223694, 0.00625716,\n",
      "       0.01872145, 0.01085221, 0.00225086, 0.00459676, 0.00363989,\n",
      "       0.00318972, 0.00090893, 0.00121432, 0.0010345 , 0.00167556,\n",
      "       0.00338446, 0.00139381, 0.00107783, 0.00089873, 0.00210671]), 'param_max_depth': masked_array(data=[1, 1, 1, 1, 1, 1, 1, 1, 1, 2, 2, 2, 2, 2, 2, 2, 2, 2,\n",
      "                   3, 3, 3, 3, 3, 3, 3, 3, 3, 4, 4, 4, 4, 4, 4, 4, 4, 4,\n",
      "                   5, 5, 5, 5, 5, 5, 5, 5, 5, 6, 6, 6, 6, 6, 6, 6, 6, 6,\n",
      "                   7, 7, 7, 7, 7, 7, 7, 7, 7, 8, 8, 8, 8, 8, 8, 8, 8, 8,\n",
      "                   9, 9, 9, 9, 9, 9, 9, 9, 9, 10, 10, 10, 10, 10, 10, 10,\n",
      "                   10, 10],\n",
      "             mask=[False, False, False, False, False, False, False, False,\n",
      "                   False, False, False, False, False, False, False, False,\n",
      "                   False, False, False, False, False, False, False, False,\n",
      "                   False, False, False, False, False, False, False, False,\n",
      "                   False, False, False, False, False, False, False, False,\n",
      "                   False, False, False, False, False, False, False, False,\n",
      "                   False, False, False, False, False, False, False, False,\n",
      "                   False, False, False, False, False, False, False, False,\n",
      "                   False, False, False, False, False, False, False, False,\n",
      "                   False, False, False, False, False, False, False, False,\n",
      "                   False, False, False, False, False, False, False, False,\n",
      "                   False, False],\n",
      "       fill_value='?',\n",
      "            dtype=object), 'param_min_samples_split': masked_array(data=[2, 3, 4, 5, 6, 7, 8, 9, 10, 2, 3, 4, 5, 6, 7, 8, 9, 10,\n",
      "                   2, 3, 4, 5, 6, 7, 8, 9, 10, 2, 3, 4, 5, 6, 7, 8, 9, 10,\n",
      "                   2, 3, 4, 5, 6, 7, 8, 9, 10, 2, 3, 4, 5, 6, 7, 8, 9, 10,\n",
      "                   2, 3, 4, 5, 6, 7, 8, 9, 10, 2, 3, 4, 5, 6, 7, 8, 9, 10,\n",
      "                   2, 3, 4, 5, 6, 7, 8, 9, 10, 2, 3, 4, 5, 6, 7, 8, 9, 10],\n",
      "             mask=[False, False, False, False, False, False, False, False,\n",
      "                   False, False, False, False, False, False, False, False,\n",
      "                   False, False, False, False, False, False, False, False,\n",
      "                   False, False, False, False, False, False, False, False,\n",
      "                   False, False, False, False, False, False, False, False,\n",
      "                   False, False, False, False, False, False, False, False,\n",
      "                   False, False, False, False, False, False, False, False,\n",
      "                   False, False, False, False, False, False, False, False,\n",
      "                   False, False, False, False, False, False, False, False,\n",
      "                   False, False, False, False, False, False, False, False,\n",
      "                   False, False, False, False, False, False, False, False,\n",
      "                   False, False],\n",
      "       fill_value='?',\n",
      "            dtype=object), 'params': [{'max_depth': 1, 'min_samples_split': 2}, {'max_depth': 1, 'min_samples_split': 3}, {'max_depth': 1, 'min_samples_split': 4}, {'max_depth': 1, 'min_samples_split': 5}, {'max_depth': 1, 'min_samples_split': 6}, {'max_depth': 1, 'min_samples_split': 7}, {'max_depth': 1, 'min_samples_split': 8}, {'max_depth': 1, 'min_samples_split': 9}, {'max_depth': 1, 'min_samples_split': 10}, {'max_depth': 2, 'min_samples_split': 2}, {'max_depth': 2, 'min_samples_split': 3}, {'max_depth': 2, 'min_samples_split': 4}, {'max_depth': 2, 'min_samples_split': 5}, {'max_depth': 2, 'min_samples_split': 6}, {'max_depth': 2, 'min_samples_split': 7}, {'max_depth': 2, 'min_samples_split': 8}, {'max_depth': 2, 'min_samples_split': 9}, {'max_depth': 2, 'min_samples_split': 10}, {'max_depth': 3, 'min_samples_split': 2}, {'max_depth': 3, 'min_samples_split': 3}, {'max_depth': 3, 'min_samples_split': 4}, {'max_depth': 3, 'min_samples_split': 5}, {'max_depth': 3, 'min_samples_split': 6}, {'max_depth': 3, 'min_samples_split': 7}, {'max_depth': 3, 'min_samples_split': 8}, {'max_depth': 3, 'min_samples_split': 9}, {'max_depth': 3, 'min_samples_split': 10}, {'max_depth': 4, 'min_samples_split': 2}, {'max_depth': 4, 'min_samples_split': 3}, {'max_depth': 4, 'min_samples_split': 4}, {'max_depth': 4, 'min_samples_split': 5}, {'max_depth': 4, 'min_samples_split': 6}, {'max_depth': 4, 'min_samples_split': 7}, {'max_depth': 4, 'min_samples_split': 8}, {'max_depth': 4, 'min_samples_split': 9}, {'max_depth': 4, 'min_samples_split': 10}, {'max_depth': 5, 'min_samples_split': 2}, {'max_depth': 5, 'min_samples_split': 3}, {'max_depth': 5, 'min_samples_split': 4}, {'max_depth': 5, 'min_samples_split': 5}, {'max_depth': 5, 'min_samples_split': 6}, {'max_depth': 5, 'min_samples_split': 7}, {'max_depth': 5, 'min_samples_split': 8}, {'max_depth': 5, 'min_samples_split': 9}, {'max_depth': 5, 'min_samples_split': 10}, {'max_depth': 6, 'min_samples_split': 2}, {'max_depth': 6, 'min_samples_split': 3}, {'max_depth': 6, 'min_samples_split': 4}, {'max_depth': 6, 'min_samples_split': 5}, {'max_depth': 6, 'min_samples_split': 6}, {'max_depth': 6, 'min_samples_split': 7}, {'max_depth': 6, 'min_samples_split': 8}, {'max_depth': 6, 'min_samples_split': 9}, {'max_depth': 6, 'min_samples_split': 10}, {'max_depth': 7, 'min_samples_split': 2}, {'max_depth': 7, 'min_samples_split': 3}, {'max_depth': 7, 'min_samples_split': 4}, {'max_depth': 7, 'min_samples_split': 5}, {'max_depth': 7, 'min_samples_split': 6}, {'max_depth': 7, 'min_samples_split': 7}, {'max_depth': 7, 'min_samples_split': 8}, {'max_depth': 7, 'min_samples_split': 9}, {'max_depth': 7, 'min_samples_split': 10}, {'max_depth': 8, 'min_samples_split': 2}, {'max_depth': 8, 'min_samples_split': 3}, {'max_depth': 8, 'min_samples_split': 4}, {'max_depth': 8, 'min_samples_split': 5}, {'max_depth': 8, 'min_samples_split': 6}, {'max_depth': 8, 'min_samples_split': 7}, {'max_depth': 8, 'min_samples_split': 8}, {'max_depth': 8, 'min_samples_split': 9}, {'max_depth': 8, 'min_samples_split': 10}, {'max_depth': 9, 'min_samples_split': 2}, {'max_depth': 9, 'min_samples_split': 3}, {'max_depth': 9, 'min_samples_split': 4}, {'max_depth': 9, 'min_samples_split': 5}, {'max_depth': 9, 'min_samples_split': 6}, {'max_depth': 9, 'min_samples_split': 7}, {'max_depth': 9, 'min_samples_split': 8}, {'max_depth': 9, 'min_samples_split': 9}, {'max_depth': 9, 'min_samples_split': 10}, {'max_depth': 10, 'min_samples_split': 2}, {'max_depth': 10, 'min_samples_split': 3}, {'max_depth': 10, 'min_samples_split': 4}, {'max_depth': 10, 'min_samples_split': 5}, {'max_depth': 10, 'min_samples_split': 6}, {'max_depth': 10, 'min_samples_split': 7}, {'max_depth': 10, 'min_samples_split': 8}, {'max_depth': 10, 'min_samples_split': 9}, {'max_depth': 10, 'min_samples_split': 10}], 'split0_test_score': array([0.91285714, 0.91285714, 0.91285714, 0.91285714, 0.91285714,\n",
      "       0.91285714, 0.91285714, 0.91285714, 0.91285714, 0.91628571,\n",
      "       0.91628571, 0.91628571, 0.91628571, 0.91628571, 0.91628571,\n",
      "       0.91628571, 0.91628571, 0.91628571, 0.91628571, 0.91628571,\n",
      "       0.91628571, 0.91628571, 0.91628571, 0.91628571, 0.91628571,\n",
      "       0.91628571, 0.91628571, 0.91714286, 0.91714286, 0.91714286,\n",
      "       0.91714286, 0.91714286, 0.91714286, 0.91714286, 0.91714286,\n",
      "       0.91714286, 0.91657143, 0.91657143, 0.91657143, 0.91657143,\n",
      "       0.91657143, 0.91657143, 0.91657143, 0.91657143, 0.91657143,\n",
      "       0.91771429, 0.91771429, 0.918     , 0.91771429, 0.918     ,\n",
      "       0.918     , 0.91771429, 0.918     , 0.918     , 0.91542857,\n",
      "       0.91514286, 0.91485714, 0.91542857, 0.91542857, 0.91514286,\n",
      "       0.91485714, 0.91514286, 0.91571429, 0.90942857, 0.90971429,\n",
      "       0.91028571, 0.90942857, 0.90942857, 0.91028571, 0.91      ,\n",
      "       0.91028571, 0.91      , 0.908     , 0.90771429, 0.90742857,\n",
      "       0.90885714, 0.90828571, 0.90742857, 0.90942857, 0.90714286,\n",
      "       0.90685714, 0.908     , 0.90714286, 0.90742857, 0.90771429,\n",
      "       0.908     , 0.90714286, 0.90828571, 0.90628571, 0.90742857]), 'split1_test_score': array([0.91285714, 0.91285714, 0.91285714, 0.91285714, 0.91285714,\n",
      "       0.91285714, 0.91285714, 0.91285714, 0.91285714, 0.91657143,\n",
      "       0.91657143, 0.91657143, 0.91657143, 0.91657143, 0.91657143,\n",
      "       0.91657143, 0.91657143, 0.91657143, 0.91657143, 0.91657143,\n",
      "       0.91657143, 0.91657143, 0.91657143, 0.91657143, 0.91657143,\n",
      "       0.91657143, 0.91657143, 0.91828571, 0.91828571, 0.91828571,\n",
      "       0.91828571, 0.91828571, 0.91828571, 0.91828571, 0.91828571,\n",
      "       0.91828571, 0.91857143, 0.91857143, 0.91857143, 0.91857143,\n",
      "       0.91857143, 0.91857143, 0.91857143, 0.91857143, 0.91857143,\n",
      "       0.91828571, 0.91828571, 0.91828571, 0.91828571, 0.91828571,\n",
      "       0.91828571, 0.91828571, 0.91828571, 0.91828571, 0.91885714,\n",
      "       0.91885714, 0.91885714, 0.91885714, 0.91857143, 0.91914286,\n",
      "       0.91885714, 0.91914286, 0.91914286, 0.916     , 0.91657143,\n",
      "       0.91657143, 0.916     , 0.91685714, 0.91657143, 0.91628571,\n",
      "       0.91571429, 0.91657143, 0.91      , 0.91057143, 0.91      ,\n",
      "       0.91057143, 0.91057143, 0.91142857, 0.91142857, 0.91085714,\n",
      "       0.91      , 0.91171429, 0.91142857, 0.91057143, 0.91028571,\n",
      "       0.91085714, 0.90971429, 0.91057143, 0.91085714, 0.91057143]), 'split2_test_score': array([0.91285714, 0.91285714, 0.91285714, 0.91285714, 0.91285714,\n",
      "       0.91285714, 0.91285714, 0.91285714, 0.91285714, 0.914     ,\n",
      "       0.914     , 0.914     , 0.914     , 0.914     , 0.914     ,\n",
      "       0.914     , 0.914     , 0.914     , 0.914     , 0.914     ,\n",
      "       0.914     , 0.914     , 0.914     , 0.914     , 0.914     ,\n",
      "       0.914     , 0.914     , 0.91885714, 0.91885714, 0.91885714,\n",
      "       0.91885714, 0.91885714, 0.91885714, 0.91885714, 0.91885714,\n",
      "       0.91885714, 0.92028571, 0.92028571, 0.92028571, 0.92028571,\n",
      "       0.92028571, 0.92028571, 0.92028571, 0.92028571, 0.92028571,\n",
      "       0.91914286, 0.92      , 0.91914286, 0.92      , 0.91914286,\n",
      "       0.91971429, 0.91942857, 0.91942857, 0.92      , 0.91857143,\n",
      "       0.91857143, 0.91885714, 0.918     , 0.91857143, 0.91885714,\n",
      "       0.91857143, 0.91885714, 0.91857143, 0.91714286, 0.91657143,\n",
      "       0.91771429, 0.91771429, 0.91742857, 0.91685714, 0.91657143,\n",
      "       0.91742857, 0.91685714, 0.91514286, 0.91514286, 0.91514286,\n",
      "       0.91628571, 0.91542857, 0.91371429, 0.914     , 0.91457143,\n",
      "       0.91457143, 0.91257143, 0.91342857, 0.912     , 0.91314286,\n",
      "       0.91085714, 0.91257143, 0.91371429, 0.91142857, 0.91342857]), 'split3_test_score': array([0.91257143, 0.91257143, 0.91257143, 0.91257143, 0.91257143,\n",
      "       0.91257143, 0.91257143, 0.91257143, 0.91257143, 0.92114286,\n",
      "       0.92114286, 0.92114286, 0.92114286, 0.92114286, 0.92114286,\n",
      "       0.92114286, 0.92114286, 0.92114286, 0.92342857, 0.92342857,\n",
      "       0.92342857, 0.92342857, 0.92342857, 0.92342857, 0.92342857,\n",
      "       0.92342857, 0.92342857, 0.92314286, 0.92314286, 0.92314286,\n",
      "       0.92314286, 0.92314286, 0.92314286, 0.92314286, 0.92314286,\n",
      "       0.92314286, 0.92428571, 0.92428571, 0.92428571, 0.92428571,\n",
      "       0.92428571, 0.92428571, 0.92428571, 0.92428571, 0.92457143,\n",
      "       0.92171429, 0.92171429, 0.92171429, 0.92171429, 0.92171429,\n",
      "       0.92171429, 0.92171429, 0.92171429, 0.92171429, 0.92085714,\n",
      "       0.92114286, 0.92085714, 0.92142857, 0.92114286, 0.92114286,\n",
      "       0.92142857, 0.92085714, 0.92114286, 0.91657143, 0.91657143,\n",
      "       0.91657143, 0.91628571, 0.91628571, 0.91657143, 0.91685714,\n",
      "       0.91657143, 0.91714286, 0.91428571, 0.91428571, 0.91342857,\n",
      "       0.91342857, 0.91314286, 0.91257143, 0.91257143, 0.912     ,\n",
      "       0.91257143, 0.90857143, 0.90885714, 0.90771429, 0.90828571,\n",
      "       0.90685714, 0.90714286, 0.90714286, 0.90742857, 0.90628571]), 'split4_test_score': array([0.91257143, 0.91257143, 0.91257143, 0.91257143, 0.91257143,\n",
      "       0.91257143, 0.91257143, 0.91257143, 0.91257143, 0.918     ,\n",
      "       0.918     , 0.918     , 0.918     , 0.918     , 0.918     ,\n",
      "       0.918     , 0.918     , 0.918     , 0.91942857, 0.91942857,\n",
      "       0.91942857, 0.91942857, 0.91942857, 0.91942857, 0.91942857,\n",
      "       0.91942857, 0.91942857, 0.92      , 0.92      , 0.92      ,\n",
      "       0.92      , 0.92      , 0.92      , 0.92      , 0.92      ,\n",
      "       0.92      , 0.92114286, 0.92114286, 0.92114286, 0.92114286,\n",
      "       0.92114286, 0.92114286, 0.92114286, 0.92114286, 0.92114286,\n",
      "       0.92142857, 0.92142857, 0.92142857, 0.92142857, 0.92142857,\n",
      "       0.92085714, 0.92142857, 0.92142857, 0.92142857, 0.91885714,\n",
      "       0.91857143, 0.91857143, 0.91942857, 0.91857143, 0.91942857,\n",
      "       0.91857143, 0.91914286, 0.91942857, 0.91714286, 0.91657143,\n",
      "       0.91685714, 0.91685714, 0.91628571, 0.91685714, 0.91685714,\n",
      "       0.91685714, 0.91685714, 0.91685714, 0.91742857, 0.91857143,\n",
      "       0.91657143, 0.91571429, 0.916     , 0.91685714, 0.91571429,\n",
      "       0.91628571, 0.91457143, 0.91485714, 0.91428571, 0.91457143,\n",
      "       0.91457143, 0.91485714, 0.91514286, 0.91542857, 0.91485714]), 'split5_test_score': array([0.91257143, 0.91257143, 0.91257143, 0.91257143, 0.91257143,\n",
      "       0.91257143, 0.91257143, 0.91257143, 0.91257143, 0.92      ,\n",
      "       0.92      , 0.92      , 0.92      , 0.92      , 0.92      ,\n",
      "       0.92      , 0.92      , 0.92      , 0.92028571, 0.92028571,\n",
      "       0.92028571, 0.92028571, 0.92028571, 0.92028571, 0.92028571,\n",
      "       0.92028571, 0.92028571, 0.92028571, 0.92028571, 0.92028571,\n",
      "       0.92028571, 0.92028571, 0.92028571, 0.92028571, 0.92028571,\n",
      "       0.92028571, 0.91771429, 0.91771429, 0.91771429, 0.91771429,\n",
      "       0.91771429, 0.91771429, 0.91771429, 0.91771429, 0.91771429,\n",
      "       0.91628571, 0.91628571, 0.91628571, 0.91628571, 0.91628571,\n",
      "       0.91628571, 0.91628571, 0.91628571, 0.91628571, 0.91428571,\n",
      "       0.91428571, 0.91428571, 0.91428571, 0.91485714, 0.91485714,\n",
      "       0.91485714, 0.91485714, 0.91485714, 0.91828571, 0.91914286,\n",
      "       0.91857143, 0.91857143, 0.91857143, 0.91942857, 0.918     ,\n",
      "       0.91828571, 0.918     , 0.914     , 0.91342857, 0.91428571,\n",
      "       0.91371429, 0.91314286, 0.91342857, 0.91457143, 0.914     ,\n",
      "       0.91428571, 0.91142857, 0.91028571, 0.91171429, 0.91257143,\n",
      "       0.91114286, 0.91085714, 0.91028571, 0.91085714, 0.91028571]), 'split6_test_score': array([0.91257143, 0.91257143, 0.91257143, 0.91257143, 0.91257143,\n",
      "       0.91257143, 0.91257143, 0.91257143, 0.91257143, 0.918     ,\n",
      "       0.918     , 0.918     , 0.918     , 0.918     , 0.918     ,\n",
      "       0.918     , 0.918     , 0.918     , 0.91828571, 0.91828571,\n",
      "       0.91828571, 0.91828571, 0.91828571, 0.91828571, 0.91828571,\n",
      "       0.91828571, 0.91828571, 0.91857143, 0.91857143, 0.91857143,\n",
      "       0.91857143, 0.91857143, 0.91857143, 0.91857143, 0.91857143,\n",
      "       0.91857143, 0.92028571, 0.92028571, 0.92028571, 0.92028571,\n",
      "       0.92028571, 0.92028571, 0.92028571, 0.92028571, 0.92028571,\n",
      "       0.92      , 0.92      , 0.92      , 0.92      , 0.92      ,\n",
      "       0.92      , 0.92      , 0.92      , 0.92      , 0.91485714,\n",
      "       0.91428571, 0.91428571, 0.91428571, 0.91428571, 0.91428571,\n",
      "       0.91457143, 0.91457143, 0.91457143, 0.91371429, 0.91514286,\n",
      "       0.91371429, 0.914     , 0.91457143, 0.91342857, 0.91485714,\n",
      "       0.91342857, 0.91428571, 0.91314286, 0.914     , 0.91371429,\n",
      "       0.914     , 0.914     , 0.91371429, 0.91371429, 0.91371429,\n",
      "       0.91371429, 0.91114286, 0.91257143, 0.91114286, 0.91142857,\n",
      "       0.91085714, 0.91057143, 0.91171429, 0.912     , 0.91057143]), 'split7_test_score': array([0.91257143, 0.91257143, 0.91257143, 0.91257143, 0.91257143,\n",
      "       0.91257143, 0.91257143, 0.91257143, 0.91257143, 0.92142857,\n",
      "       0.92142857, 0.92142857, 0.92142857, 0.92142857, 0.92142857,\n",
      "       0.92142857, 0.92142857, 0.92142857, 0.92171429, 0.92171429,\n",
      "       0.92171429, 0.92171429, 0.92171429, 0.92171429, 0.92171429,\n",
      "       0.92171429, 0.92171429, 0.92142857, 0.92142857, 0.92142857,\n",
      "       0.92142857, 0.92142857, 0.92142857, 0.92142857, 0.92142857,\n",
      "       0.92142857, 0.92171429, 0.92171429, 0.92171429, 0.92171429,\n",
      "       0.92171429, 0.92171429, 0.92171429, 0.92171429, 0.92171429,\n",
      "       0.92171429, 0.92171429, 0.92171429, 0.92171429, 0.92171429,\n",
      "       0.92171429, 0.92171429, 0.92171429, 0.92171429, 0.91742857,\n",
      "       0.91771429, 0.91714286, 0.918     , 0.918     , 0.91685714,\n",
      "       0.91714286, 0.91771429, 0.91714286, 0.916     , 0.916     ,\n",
      "       0.91628571, 0.916     , 0.916     , 0.91628571, 0.91542857,\n",
      "       0.91571429, 0.916     , 0.91171429, 0.91171429, 0.912     ,\n",
      "       0.91114286, 0.91085714, 0.91114286, 0.91142857, 0.91114286,\n",
      "       0.91142857, 0.90828571, 0.90885714, 0.91142857, 0.90971429,\n",
      "       0.90971429, 0.90857143, 0.90971429, 0.91      , 0.90885714]), 'split8_test_score': array([0.91257143, 0.91257143, 0.91257143, 0.91257143, 0.91257143,\n",
      "       0.91257143, 0.91257143, 0.91257143, 0.91257143, 0.92057143,\n",
      "       0.92057143, 0.92057143, 0.92057143, 0.92057143, 0.92057143,\n",
      "       0.92057143, 0.92057143, 0.92057143, 0.92171429, 0.92171429,\n",
      "       0.92171429, 0.92171429, 0.92171429, 0.92171429, 0.92171429,\n",
      "       0.92171429, 0.92171429, 0.91914286, 0.91914286, 0.91914286,\n",
      "       0.91914286, 0.91914286, 0.91914286, 0.91914286, 0.91914286,\n",
      "       0.91914286, 0.91742857, 0.91742857, 0.91742857, 0.91742857,\n",
      "       0.91742857, 0.91742857, 0.91742857, 0.91742857, 0.91742857,\n",
      "       0.91628571, 0.91657143, 0.91628571, 0.916     , 0.91628571,\n",
      "       0.91628571, 0.91628571, 0.91628571, 0.91628571, 0.91514286,\n",
      "       0.91542857, 0.91542857, 0.91514286, 0.91514286, 0.91514286,\n",
      "       0.91542857, 0.91571429, 0.916     , 0.91342857, 0.91285714,\n",
      "       0.91371429, 0.91371429, 0.91371429, 0.91285714, 0.91257143,\n",
      "       0.91371429, 0.914     , 0.90914286, 0.90914286, 0.90885714,\n",
      "       0.90942857, 0.90942857, 0.91      , 0.90971429, 0.90885714,\n",
      "       0.90971429, 0.908     , 0.90771429, 0.90657143, 0.90542857,\n",
      "       0.90657143, 0.906     , 0.90628571, 0.90742857, 0.90828571]), 'split9_test_score': array([0.91257143, 0.91257143, 0.91257143, 0.91257143, 0.91257143,\n",
      "       0.91257143, 0.91257143, 0.91257143, 0.91257143, 0.92028571,\n",
      "       0.92028571, 0.92028571, 0.92028571, 0.92028571, 0.92028571,\n",
      "       0.92028571, 0.92028571, 0.92028571, 0.92057143, 0.92057143,\n",
      "       0.92057143, 0.92057143, 0.92057143, 0.92057143, 0.92057143,\n",
      "       0.92057143, 0.92057143, 0.92      , 0.92      , 0.92      ,\n",
      "       0.92      , 0.92      , 0.92      , 0.92      , 0.92      ,\n",
      "       0.92      , 0.92057143, 0.92057143, 0.92057143, 0.92057143,\n",
      "       0.92057143, 0.92057143, 0.92057143, 0.92057143, 0.92057143,\n",
      "       0.92028571, 0.92028571, 0.92028571, 0.92028571, 0.92028571,\n",
      "       0.92028571, 0.92028571, 0.92028571, 0.92028571, 0.91914286,\n",
      "       0.91885714, 0.91914286, 0.91914286, 0.91914286, 0.91914286,\n",
      "       0.91914286, 0.91914286, 0.91914286, 0.91885714, 0.91742857,\n",
      "       0.91914286, 0.91857143, 0.91771429, 0.91828571, 0.91742857,\n",
      "       0.91857143, 0.91828571, 0.91514286, 0.91457143, 0.914     ,\n",
      "       0.91485714, 0.914     , 0.91514286, 0.914     , 0.914     ,\n",
      "       0.91457143, 0.912     , 0.91285714, 0.912     , 0.91142857,\n",
      "       0.91028571, 0.91057143, 0.91057143, 0.91028571, 0.91028571]), 'mean_test_score': array([0.91265714, 0.91265714, 0.91265714, 0.91265714, 0.91265714,\n",
      "       0.91265714, 0.91265714, 0.91265714, 0.91265714, 0.91862857,\n",
      "       0.91862857, 0.91862857, 0.91862857, 0.91862857, 0.91862857,\n",
      "       0.91862857, 0.91862857, 0.91862857, 0.91922857, 0.91922857,\n",
      "       0.91922857, 0.91922857, 0.91922857, 0.91922857, 0.91922857,\n",
      "       0.91922857, 0.91922857, 0.91968571, 0.91968571, 0.91968571,\n",
      "       0.91968571, 0.91968571, 0.91968571, 0.91968571, 0.91968571,\n",
      "       0.91968571, 0.91985714, 0.91985714, 0.91985714, 0.91985714,\n",
      "       0.91985714, 0.91985714, 0.91985714, 0.91985714, 0.91988571,\n",
      "       0.91928571, 0.9194    , 0.91931429, 0.91934286, 0.91931429,\n",
      "       0.91931429, 0.91931429, 0.91934286, 0.9194    , 0.91734286,\n",
      "       0.91728571, 0.91722857, 0.9174    , 0.91737143, 0.9174    ,\n",
      "       0.91734286, 0.91751429, 0.91757143, 0.91565714, 0.91565714,\n",
      "       0.91594286, 0.91571429, 0.91568571, 0.91574286, 0.91548571,\n",
      "       0.91565714, 0.9158    , 0.91274286, 0.9128    , 0.91274286,\n",
      "       0.91288571, 0.91245714, 0.91245714, 0.91277143, 0.9122    ,\n",
      "       0.9124    , 0.91062857, 0.9108    , 0.91048571, 0.91045714,\n",
      "       0.90997143, 0.9098    , 0.91034286, 0.9102    , 0.91008571]), 'std_test_score': array([0.00013093, 0.00013093, 0.00013093, 0.00013093, 0.00013093,\n",
      "       0.00013093, 0.00013093, 0.00013093, 0.00013093, 0.00233448,\n",
      "       0.00233448, 0.00233448, 0.00233448, 0.00233448, 0.00233448,\n",
      "       0.00233448, 0.00233448, 0.00233448, 0.0027732 , 0.0027732 ,\n",
      "       0.0027732 , 0.0027732 , 0.0027732 , 0.0027732 , 0.0027732 ,\n",
      "       0.0027732 , 0.0027732 , 0.00161852, 0.00161852, 0.00161852,\n",
      "       0.00161852, 0.00161852, 0.00161852, 0.00161852, 0.00161852,\n",
      "       0.00161852, 0.00220297, 0.00220297, 0.00220297, 0.00220297,\n",
      "       0.00220297, 0.00220297, 0.00220297, 0.00220297, 0.0022613 ,\n",
      "       0.00198463, 0.00195229, 0.00196375, 0.00204061, 0.00196375,\n",
      "       0.00191322, 0.00198443, 0.00196313, 0.00197308, 0.00213828,\n",
      "       0.00222142, 0.00223899, 0.00233675, 0.00216012, 0.00230155,\n",
      "       0.00221332, 0.00213446, 0.00211216, 0.00264899, 0.00249342,\n",
      "       0.00252918, 0.00261861, 0.002489  , 0.00260126, 0.00233797,\n",
      "       0.00241695, 0.00234233, 0.00276774, 0.00281918, 0.00310681,\n",
      "       0.00260439, 0.00240476, 0.00240815, 0.00219108, 0.00257793,\n",
      "       0.00272913, 0.0021639 , 0.00248686, 0.00232835, 0.00261924,\n",
      "       0.00224044, 0.00256205, 0.00260235, 0.00252352, 0.00246461]), 'rank_test_score': array([69, 69, 69, 69, 69, 69, 69, 69, 69, 37, 37, 37, 37, 37, 37, 37, 37,\n",
      "       37, 28, 28, 28, 28, 28, 28, 28, 28, 28, 10, 10, 10, 10, 10, 10, 10,\n",
      "       10, 10,  2,  2,  2,  2,  2,  2,  2,  2,  1, 27, 19, 24, 21, 24, 23,\n",
      "       24, 21, 20, 51, 53, 54, 48, 50, 48, 51, 47, 46, 60, 60, 55, 58, 59,\n",
      "       57, 63, 60, 56, 67, 65, 68, 64, 78, 78, 66, 81, 80, 83, 82, 84, 85,\n",
      "       89, 90, 86, 87, 88])}\n",
      "0.9198857142857142\n",
      "{'max_depth': 5, 'min_samples_split': 10}\n"
     ]
    }
   ],
   "source": [
    "#grid search\n",
    "from sklearn.model_selection import GridSearchCV\n",
    "from sklearn.tree import DecisionTreeClassifier\n",
    "\n",
    "# Define the parameter values that should be searched\n",
    "max_depth_values = list(range(1, 11)) # depth of the tree\n",
    "min_samples_split_values = list(range(2, 11)) # minimum number of samples required to split an internal node\n",
    "\n",
    "# Create a parameter grid: map the parameter names to the values that should be searched\n",
    "param_grid = dict(max_depth=max_depth_values, min_samples_split=min_samples_split_values)\n",
    "\n",
    "# Instantiate the grid\n",
    "grid = GridSearchCV(DecisionTreeClassifier(), param_grid, cv=10, scoring='accuracy')\n",
    "\n",
    "trainX, testX, trainy, testy = train_test_split(X, y, test_size=0.3, random_state=2)\n",
    "# Fit the grid with data\n",
    "grid.fit(trainX, trainy)\n",
    "\n",
    "# View the complete results\n",
    "print(grid.cv_results_)\n",
    "\n",
    "# Examine the best model\n",
    "print(grid.best_score_)\n",
    "print(grid.best_params_)\n"
   ]
  },
  {
   "cell_type": "code",
   "execution_count": 465,
   "metadata": {},
   "outputs": [],
   "source": [
    "best_model = grid.best_estimator_\n"
   ]
  },
  {
   "cell_type": "code",
   "execution_count": 470,
   "metadata": {},
   "outputs": [
    {
     "name": "stdout",
     "output_type": "stream",
     "text": [
      "Depth 5 Split 2  :  0.8495945354394627\n",
      "Depth 7 Split 2  :  0.8345811967300176\n",
      "Depth 5 Split 5  :  0.8495945354394627\n",
      "Depth 7 Split 5  :  0.8352728134949511\n",
      "Depth 3 Split 2  :  0.8352059819600948\n",
      "Depth 3 Split 5  :  0.8352059819600948\n"
     ]
    },
    {
     "data": {
      "image/png": "[encoded data removed]",
      "text/plain": [
       "<Figure size 1200x800 with 1 Axes>"
      ]
     },
     "metadata": {},
     "output_type": "display_data"
    }
   ],
   "source": [
    "X = df_onehot.loc[:, df_onehot.columns != 'hospital_death']\n",
    "y = df_onehot[['hospital_death']]\n",
    "\n",
    "import matplotlib.pyplot as plt\n",
    "\n",
    "trainX, testX, trainy, testy = train_test_split(X, y, test_size=0.3, random_state=2)\n",
    "dt_5_2 = DecisionTreeClassifier(max_depth=5, min_samples_split= 10)  \n",
    "fit_model(dt_5_2, \"Depth 5 Split 2\") #BEST\n",
    "\n",
    "dt_7_2 = DecisionTreeClassifier(max_depth=7)  \n",
    "fit_model(dt_7_2, \"Depth 7 Split 2\") \n",
    "\n",
    "dt_5_5 = DecisionTreeClassifier(max_depth=5, min_samples_split=5)  \n",
    "fit_model(dt_5_5, \"Depth 5 Split 5\") #BEST\n",
    "\n",
    "dt_7_5 = DecisionTreeClassifier(max_depth=7, min_samples_split=5)  \n",
    "fit_model(dt_7_5, \"Depth 7 Split 5\") \n",
    "\n",
    "dt_3_2 = DecisionTreeClassifier(max_depth=3, min_samples_split=2)  \n",
    "fit_model(dt_3_2, \"Depth 3 Split 2\") \n",
    "\n",
    "dt_3_5 = DecisionTreeClassifier(max_depth=3, min_samples_split=5)  \n",
    "fit_model(dt_3_5, \"Depth 3 Split 5\") \n",
    "\n",
    "#kn = KNeighborsClassifier(n_neighbors=5)\n",
    "#fit_model(kn, \"k-NN\")\n",
    "\n",
    "#pipe_kn = Pipeline([(\"scaler\", MinMaxScaler()), (\"knr\", KNeighborsClassifier(n_neighbors=5))])\n",
    "\n",
    "plt.xlabel('False Positive Rate')\n",
    "plt.ylabel('True Positive Rate')\n",
    "# show the legend\n",
    "plt.legend()\n",
    "# show the plot\n",
    "plt.show()\n"
   ]
  },
  {
   "cell_type": "code",
   "execution_count": 458,
   "metadata": {},
   "outputs": [],
   "source": [
    "hospital_death = dt_5_2.predict(df_onehotTest)\n"
   ]
  },
  {
   "cell_type": "code",
   "execution_count": 466,
   "metadata": {},
   "outputs": [],
   "source": [
    "#predicitng using grid searches best model\n",
    "hospital_death = best_model.predict(df_onehotTest)\n"
   ]
  },
  {
   "cell_type": "code",
   "execution_count": 467,
   "metadata": {},
   "outputs": [
    {
     "data": {
      "text/plain": [
       "array([0, 1, 0, ..., 0, 0, 0], dtype=int64)"
      ]
     },
     "execution_count": 467,
     "metadata": {},
     "output_type": "execute_result"
    }
   ],
   "source": [
    "hospital_death"
   ]
  },
  {
   "cell_type": "code",
   "execution_count": 468,
   "metadata": {},
   "outputs": [
    {
     "data": {
      "text/plain": [
       "30000"
      ]
     },
     "execution_count": 468,
     "metadata": {},
     "output_type": "execute_result"
    }
   ],
   "source": [
    "len(hospital_death)"
   ]
  },
  {
   "cell_type": "code",
   "execution_count": 469,
   "metadata": {},
   "outputs": [],
   "source": [
    "# Create a DataFrame for the predictions\n",
    "predictions_df = pd.DataFrame(hospital_death, columns=['hospital_death'])\n",
    "\n",
    "# Add the record ID from the test data to the predictions DataFrame\n",
    "predictions_df.insert(0, 'RecordID', df_onehotTest['RecordID'])\n",
    "\n",
    "# Save the predictions to a CSV file\n",
    "predictions_df.to_csv('predictions.csv', index=False)"
   ]
  },
  {
   "cell_type": "code",
   "execution_count": null,
   "metadata": {},
   "outputs": [],
   "source": [
    "pd.DataFrame(predictions).to_csv('predictions.csv', index=False)\n"
   ]
  },
  {
   "cell_type": "code",
   "execution_count": 471,
   "metadata": {},
   "outputs": [],
   "source": [
    "TrainWithnoChanges = pd.read_csv(\"Data/train.csv\")\n",
    "TestWithnoChanges = pd.read_csv(\"Data/test.csv\")"
   ]
  },
  {
   "cell_type": "markdown",
   "metadata": {},
   "source": [
    "Will not be performing feature extraction"
   ]
  },
  {
   "cell_type": "code",
   "execution_count": 472,
   "metadata": {},
   "outputs": [],
   "source": [
    "#since all these r heavily skewed andaffected by the outliers we will fill them using median imputation\n",
    "\n",
    "# fill null values with median for temp_apache\n",
    "TrainWithnoChanges['temp_apache'].fillna(TrainWithnoChanges['temp_apache'].median(), inplace=True)\n",
    "\n",
    "# fill null values with median for d1_potassium_max\n",
    "TrainWithnoChanges['d1_potassium_max'].fillna(TrainWithnoChanges['d1_potassium_max'].median(), inplace=True)\n",
    "\n",
    "# fill null values with median for apache_4a_hospital_death_prob\n",
    "TrainWithnoChanges['apache_4a_hospital_death_prob'].fillna(TrainWithnoChanges['apache_4a_hospital_death_prob'].median(), inplace=True)\n",
    "\n",
    "# fill null values with median for apache_4a_icu_death_prob\n",
    "TrainWithnoChanges['apache_4a_icu_death_prob'].fillna(TrainWithnoChanges['apache_4a_icu_death_prob'].median(), inplace=True)\n"
   ]
  },
  {
   "cell_type": "code",
   "execution_count": 473,
   "metadata": {},
   "outputs": [],
   "source": [
    "#since all these r heavily skewed andaffected by the outliers we will fill them using median imputation\n",
    "\n",
    "# fill null values with median for temp_apache\n",
    "TestWithnoChanges['temp_apache'].fillna(TestWithnoChanges['temp_apache'].median(), inplace=True)\n",
    "\n",
    "# fill null values with median for d1_potassium_max\n",
    "TestWithnoChanges['d1_potassium_max'].fillna(TestWithnoChanges['d1_potassium_max'].median(), inplace=True)\n",
    "\n",
    "# fill null values with median for apache_4a_hospital_death_prob\n",
    "TestWithnoChanges['apache_4a_hospital_death_prob'].fillna(TestWithnoChanges['apache_4a_hospital_death_prob'].median(), inplace=True)\n",
    "\n",
    "# fill null values with median for apache_4a_icu_death_prob\n",
    "TestWithnoChanges['apache_4a_icu_death_prob'].fillna(TestWithnoChanges['apache_4a_icu_death_prob'].median(), inplace=True)\n"
   ]
  },
  {
   "cell_type": "code",
   "execution_count": 477,
   "metadata": {},
   "outputs": [],
   "source": [
    "# group the dataframe by apache_2_bodysystem and calculate the mean age for each group\n",
    "mean_age_by_bodysystem = TestWithnoChanges.groupby('apache_2_bodysystem')['age'].mean()\n",
    "\n",
    "# define a function that takes a row of the dataframe as input and returns the mean age of the corresponding apache_2_bodysystem\n",
    "def fill_age(row):\n",
    "    if pd.isnull(row['age']):\n",
    "        if pd.isnull(row['apache_2_bodysystem']):\n",
    "            return np.nan\n",
    "        else:\n",
    "            return mean_age_by_bodysystem[row['apache_2_bodysystem']]\n",
    "    else:\n",
    "        return row['age']\n",
    "\n",
    "# apply the function to each row of the dataframe and fill the missing age values with the corresponding mean age\n",
    "TestWithnoChanges['age'] = TestWithnoChanges.apply(fill_age, axis=1)\n"
   ]
  },
  {
   "cell_type": "code",
   "execution_count": 478,
   "metadata": {},
   "outputs": [],
   "source": [
    "# group the dataframe by apache_2_bodysystem and calculate the mean age for each group\n",
    "mean_age_by_bodysystem = TrainWithnoChanges.groupby('apache_2_bodysystem')['age'].mean()\n",
    "\n",
    "# define a function that takes a row of the dataframe as input and returns the mean age of the corresponding apache_2_bodysystem\n",
    "def fill_age(row):\n",
    "    if pd.isnull(row['age']):\n",
    "        if pd.isnull(row['apache_2_bodysystem']):\n",
    "            return np.nan\n",
    "        else:\n",
    "            return mean_age_by_bodysystem[row['apache_2_bodysystem']]\n",
    "    else:\n",
    "        return row['age']\n",
    "\n",
    "# apply the function to each row of the dataframe and fill the missing age values with the corresponding mean age\n",
    "TrainWithnoChanges['age'] = TrainWithnoChanges.apply(fill_age, axis=1)\n"
   ]
  },
  {
   "cell_type": "code",
   "execution_count": 479,
   "metadata": {},
   "outputs": [],
   "source": [
    "# fill null values with mean for numerical columns and mode for categorical columns\n",
    "for col in TestWithnoChanges.columns:\n",
    "    if TestWithnoChanges[col].dtype == 'object':\n",
    "        TestWithnoChanges[col].fillna(TestWithnoChanges[col].mode()[0], inplace=True) #mode if object\n",
    "    else:\n",
    "        TestWithnoChanges[col].fillna(TestWithnoChanges[col].mean(), inplace=True)\n"
   ]
  },
  {
   "cell_type": "code",
   "execution_count": 480,
   "metadata": {},
   "outputs": [],
   "source": [
    "# fill null values with mean for numerical columns and mode for categorical columns\n",
    "for col in TrainWithnoChanges.columns:\n",
    "    if TrainWithnoChanges[col].dtype == 'object':\n",
    "        TrainWithnoChanges[col].fillna(TrainWithnoChanges[col].mode()[0], inplace=True) #mode if object\n",
    "    else:\n",
    "        TrainWithnoChanges[col].fillna(TrainWithnoChanges[col].mean(), inplace=True)\n"
   ]
  },
  {
   "cell_type": "code",
   "execution_count": 484,
   "metadata": {},
   "outputs": [
    {
     "data": {
      "text/plain": [
       "RecordID                         0\n",
       "hospital_id                      0\n",
       "icu_id                           0\n",
       "ethnicity                        0\n",
       "gender                           0\n",
       "icu_admit_source                 0\n",
       "icu_stay_type                    0\n",
       "icu_type                         0\n",
       "apache_3j_bodysystem             0\n",
       "apache_2_bodysystem              0\n",
       "age                              0\n",
       "elective_surgery                 0\n",
       "pre_icu_los_days                 0\n",
       "apache_2_diagnosis               0\n",
       "apache_3j_diagnosis              0\n",
       "apache_post_operative            0\n",
       "gcs_eyes_apache                  0\n",
       "gcs_motor_apache                 0\n",
       "gcs_unable_apache                0\n",
       "gcs_verbal_apache                0\n",
       "heart_rate_apache                0\n",
       "intubated_apache                 0\n",
       "resprate_apache                  0\n",
       "temp_apache                      0\n",
       "ventilated_apache                0\n",
       "d1_diasbp_min                    0\n",
       "d1_diasbp_noninvasive_min        0\n",
       "d1_heartrate_max                 0\n",
       "d1_mbp_min                       0\n",
       "d1_mbp_noninvasive_min           0\n",
       "d1_resprate_max                  0\n",
       "d1_spo2_min                      0\n",
       "d1_sysbp_min                     0\n",
       "d1_sysbp_noninvasive_min         0\n",
       "d1_temp_min                      0\n",
       "h1_diasbp_min                    0\n",
       "h1_diasbp_noninvasive_min        0\n",
       "h1_heartrate_max                 0\n",
       "h1_heartrate_min                 0\n",
       "h1_mbp_max                       0\n",
       "h1_mbp_min                       0\n",
       "h1_mbp_noninvasive_max           0\n",
       "h1_mbp_noninvasive_min           0\n",
       "h1_resprate_max                  0\n",
       "h1_resprate_min                  0\n",
       "h1_spo2_max                      0\n",
       "h1_spo2_min                      0\n",
       "h1_sysbp_max                     0\n",
       "h1_sysbp_min                     0\n",
       "h1_sysbp_noninvasive_max         0\n",
       "h1_sysbp_noninvasive_min         0\n",
       "d1_glucose_max                   0\n",
       "d1_potassium_max                 0\n",
       "apache_4a_hospital_death_prob    0\n",
       "apache_4a_icu_death_prob         0\n",
       "immunosuppression                0\n",
       "solid_tumor_with_metastasis      0\n",
       "hospital_death                   0\n",
       "dtype: int64"
      ]
     },
     "execution_count": 484,
     "metadata": {},
     "output_type": "execute_result"
    }
   ],
   "source": [
    "TrainWithnoChanges.isnull().sum()"
   ]
  },
  {
   "cell_type": "code",
   "execution_count": 485,
   "metadata": {},
   "outputs": [
    {
     "data": {
      "text/plain": [
       "Med-Surg ICU    27852\n",
       "MICU             4539\n",
       "Neuro ICU        4309\n",
       "CCU-CTICU        3872\n",
       "SICU             3030\n",
       "Cardiac ICU      2676\n",
       "CSICU            2238\n",
       "CTICU            1484\n",
       "Name: icu_type, dtype: int64"
      ]
     },
     "execution_count": 485,
     "metadata": {},
     "output_type": "execute_result"
    }
   ],
   "source": [
    "TrainWithnoChanges['icu_type'].value_counts()\n"
   ]
  },
  {
   "cell_type": "code",
   "execution_count": 486,
   "metadata": {},
   "outputs": [
    {
     "data": {
      "text/plain": [
       "Med-Surg ICU    16728\n",
       "MICU             2764\n",
       "Neuro ICU        2601\n",
       "CCU-CTICU        2302\n",
       "SICU             1748\n",
       "Cardiac ICU      1549\n",
       "CSICU            1350\n",
       "CTICU             958\n",
       "Name: icu_type, dtype: int64"
      ]
     },
     "execution_count": 486,
     "metadata": {},
     "output_type": "execute_result"
    }
   ],
   "source": [
    "TestWithnoChanges['icu_type'].value_counts()"
   ]
  },
  {
   "cell_type": "code",
   "execution_count": 487,
   "metadata": {},
   "outputs": [],
   "source": [
    "#put the replace code i did above\n",
    "TrainWithnoChanges['icu_type'] = TrainWithnoChanges['icu_type'].replace(['Cardiac ICU', 'CSICU', 'CTICU', 'CCU-CTICU'], 'Cardiac related')"
   ]
  },
  {
   "cell_type": "code",
   "execution_count": 489,
   "metadata": {},
   "outputs": [],
   "source": [
    "#put replace code for test as well\n",
    "TestWithnoChanges['icu_type'] = TrainWithnoChanges['icu_type'].replace(['Cardiac ICU', 'CSICU', 'CTICU', 'CCU-CTICU'], 'Cardiac related')"
   ]
  },
  {
   "cell_type": "code",
   "execution_count": 491,
   "metadata": {},
   "outputs": [],
   "source": [
    "TrainWithnoChanges['apache_2_bodysystem'] = TrainWithnoChanges['apache_2_bodysystem'].replace(['Undefined Diagnoses'], 'Undefined diagnoses')"
   ]
  },
  {
   "cell_type": "code",
   "execution_count": 493,
   "metadata": {},
   "outputs": [],
   "source": [
    "#do above code for test as well\n",
    "TestWithnoChanges['apache_2_bodysystem'] = TestWithnoChanges['apache_2_bodysystem'].replace(['Undefined Diagnoses'], 'Undefined diagnoses')"
   ]
  },
  {
   "cell_type": "code",
   "execution_count": 498,
   "metadata": {},
   "outputs": [],
   "source": [
    "#write the onedummies code for Train data\n",
    "df_onehotNC = pd.get_dummies(TrainWithnoChanges)"
   ]
  },
  {
   "cell_type": "code",
   "execution_count": 499,
   "metadata": {},
   "outputs": [],
   "source": [
    "#do same for test \n",
    "df_onehotTestNC = pd.get_dummies(TestWithnoChanges)\n"
   ]
  },
  {
   "cell_type": "code",
   "execution_count": 500,
   "metadata": {},
   "outputs": [
    {
     "data": {
      "text/plain": [
       "(50000, 92)"
      ]
     },
     "execution_count": 500,
     "metadata": {},
     "output_type": "execute_result"
    }
   ],
   "source": [
    "#tell shape of ptest and train\n",
    "df_onehotNC.shape\n"
   ]
  },
  {
   "cell_type": "code",
   "execution_count": 502,
   "metadata": {},
   "outputs": [
    {
     "data": {
      "text/plain": [
       "(30000, 91)"
      ]
     },
     "execution_count": 502,
     "metadata": {},
     "output_type": "execute_result"
    }
   ],
   "source": [
    "#tell shape of train\n",
    "df_onehotTestNC.shape"
   ]
  },
  {
   "cell_type": "code",
   "execution_count": 503,
   "metadata": {},
   "outputs": [],
   "source": [
    "xNC=df_onehotNC.loc[:, df_onehotNC.columns != 'hospital_death']\n",
    "yNC=df_onehotNC[['hospital_death']]"
   ]
  },
  {
   "cell_type": "code",
   "execution_count": 513,
   "metadata": {},
   "outputs": [],
   "source": [
    "trainXN, testXN, trainyN, testyN = train_test_split(xNC, yNC, test_size=0.3, random_state=2)"
   ]
  },
  {
   "cell_type": "code",
   "execution_count": 516,
   "metadata": {},
   "outputs": [],
   "source": [
    "def fit_model(model, model_name):\n",
    "    model.fit(trainX,trainyN)\n",
    "    md_probs = model.predict_proba(testXN)\n",
    "    md_probs = md_probs[:,1]\n",
    "    md_auc = roc_auc_score(testyN, md_probs)\n",
    "    print(model_name, \" : \", md_auc)\n",
    "    md_fpr, md_tpr, _ = roc_curve(testyN, md_probs)\n",
    "    plt.plot(md_fpr, md_tpr, marker='.', label=model_name)\n",
    "    #return (md_fpr, md_tpr)"
   ]
  },
  {
   "cell_type": "code",
   "execution_count": 526,
   "metadata": {},
   "outputs": [
    {
     "name": "stdout",
     "output_type": "stream",
     "text": [
      "Depth 5 Split 2  :  0.8468927091831308\n",
      "Depth 7 Split 2  :  0.8458366912694345\n",
      "Depth 5 Split 5  :  0.8468927091831308\n",
      "Depth 7 Split 5  :  0.8480055154082677\n",
      "Depth 3 Split 2  :  0.8349969520381741\n",
      "Depth 3 Split 5  :  0.8349969520381741\n"
     ]
    },
    {
     "data": {
      "image/png": "[encoded data removed]",
      "text/plain": [
       "<Figure size 1200x800 with 1 Axes>"
      ]
     },
     "metadata": {},
     "output_type": "display_data"
    }
   ],
   "source": [
    "import matplotlib.pyplot as plt\n",
    "\n",
    "trainX, testX, trainy, testy = train_test_split(xNC, yNC, test_size=0.3, random_state=2)\n",
    "NCdt_5_2 = DecisionTreeClassifier(max_depth=5, min_samples_split= 10)  \n",
    "fit_model(NCdt_5_2, \"Depth 5 Split 2\") #BEST\n",
    "\n",
    "NCdt_7_2 = DecisionTreeClassifier(max_depth=7)  \n",
    "fit_model(NCdt_7_2, \"Depth 7 Split 2\") \n",
    "\n",
    "NCdt_5_5 = DecisionTreeClassifier(max_depth=5, min_samples_split=3)  \n",
    "fit_model(NCdt_5_5, \"Depth 5 Split 5\") #BEST\n",
    "\n",
    "NCdt_7_5 = DecisionTreeClassifier(max_depth=7, min_samples_split=5)  \n",
    "fit_model(NCdt_7_5, \"Depth 7 Split 5\") #BEST\n",
    "\n",
    "NCdt_3_2 = DecisionTreeClassifier(max_depth=3, min_samples_split=2)  \n",
    "fit_model(NCdt_3_2, \"Depth 3 Split 2\") \n",
    "\n",
    "NCdt_3_5 = DecisionTreeClassifier(max_depth=3, min_samples_split=5)  \n",
    "fit_model(NCdt_3_5, \"Depth 3 Split 5\") \n",
    "\n",
    "#kn = KNeighborsClassifier(n_neighbors=5)\n",
    "#fit_model(kn, \"k-NN\")\n",
    "\n",
    "#pipe_kn = Pipeline([(\"scaler\", MinMaxScaler()), (\"knr\", KNeighborsClassifier(n_neighbors=5))])\n",
    "\n",
    "plt.xlabel('False Positive Rate')\n",
    "plt.ylabel('True Positive Rate')\n",
    "# show the legend\n",
    "plt.legend()\n",
    "# show the plot\n",
    "plt.show()\n"
   ]
  },
  {
   "cell_type": "code",
   "execution_count": 527,
   "metadata": {},
   "outputs": [],
   "source": [
    "#predict\n",
    "hospital_death = NCdt_7_5.predict(df_onehotTestNC)"
   ]
  },
  {
   "cell_type": "code",
   "execution_count": 529,
   "metadata": {},
   "outputs": [],
   "source": [
    "#put it in csv with record id\n",
    "# Create a DataFrame for the predictions\n",
    "predictions_df = pd.DataFrame(hospital_death, columns=['hospital_death'])\n",
    "#put record id\n",
    "predictions_df.insert(0, 'RecordID', df_onehotTestNC['RecordID'])\n",
    "# Save the predictions to a CSV file\n",
    "predictions_df.to_csv('predictions.csv', index=False)"
   ]
  },
  {
   "cell_type": "code",
   "execution_count": 532,
   "metadata": {},
   "outputs": [],
   "source": [
    "#another one but this time without one hot encoding and doing the others thing\n",
    "import pandas as pd\n",
    "\n",
    "TrainNoothers = pd.read_csv(\"Data/train.csv\")\n",
    "\n",
    "# fill null values with median for temp_apache\n",
    "TrainNoothers['temp_apache'].fillna(TrainNoothers['temp_apache'].median(), inplace=True)\n",
    "\n",
    "# fill null values with median for d1_potassium_max\n",
    "TrainNoothers['d1_potassium_max'].fillna(TrainNoothers['d1_potassium_max'].median(), inplace=True)\n",
    "\n",
    "# fill null values with median for apache_4a_hospital_death_prob\n",
    "TrainNoothers['apache_4a_hospital_death_prob'].fillna(TrainNoothers['apache_4a_hospital_death_prob'].median(), inplace=True)\n",
    "\n",
    "# fill null values with median for apache_4a_icu_death_prob\n",
    "TrainNoothers['apache_4a_icu_death_prob'].fillna(TrainNoothers['apache_4a_icu_death_prob'].median(), inplace=True)\n",
    "\n",
    "TestNoothers = pd.read_csv(\"Data/test.csv\")\n",
    "#since all these r heavily skewed andaffected by the outliers we will fill them using median imputation\n",
    "\n",
    "# fill null values with median for temp_apache\n",
    "TestNoothers['temp_apache'].fillna(TestNoothers['temp_apache'].median(), inplace=True)\n",
    "\n",
    "# fill null values with median for d1_potassium_max\n",
    "TestNoothers['d1_potassium_max'].fillna(TestNoothers['d1_potassium_max'].median(), inplace=True)\n",
    "\n",
    "# fill null values with median for apache_4a_hospital_death_prob\n",
    "TestNoothers['apache_4a_hospital_death_prob'].fillna(TestNoothers['apache_4a_hospital_death_prob'].median(), inplace=True)\n",
    "\n",
    "# fill null values with median for apache_4a_icu_death_prob\n",
    "TestNoothers['apache_4a_icu_death_prob'].fillna(TestNoothers['apache_4a_icu_death_prob'].median(), inplace=True)\n",
    "\n",
    "# group the dataframe by apache_2_bodysystem and calculate the mean age for each group\n",
    "mean_age_by_bodysystem = TrainNoothers.groupby('apache_2_bodysystem')['age'].mean()\n",
    "\n",
    "# define a function that takes a row of the dataframe as input and returns the mean age of the corresponding apache_2_bodysystem\n",
    "def fill_age(row):\n",
    "    if pd.isnull(row['age']):\n",
    "        if pd.isnull(row['apache_2_bodysystem']):\n",
    "            return np.nan\n",
    "        else:\n",
    "            return mean_age_by_bodysystem[row['apache_2_bodysystem']]\n",
    "    else:\n",
    "        return row['age']\n",
    "\n",
    "# apply the function to each row of the dataframe and fill the missing age values with the corresponding mean age\n",
    "TrainNoothers['age'] = TrainNoothers.apply(fill_age, axis=1)\n",
    "\n",
    "# fill null values with mean for numerical columns and mode for categorical columns\n",
    "for col in TestNoothers.columns:\n",
    "    if TestNoothers[col].dtype == 'object':\n",
    "        TestNoothers[col].fillna(TestNoothers[col].mode()[0], inplace=True) #mode if object\n",
    "    else:\n",
    "        TestNoothers[col].fillna(TestNoothers[col].mean(), inplace=True)\n",
    "# fill null values with mean for numerical columns and mode for categorical columns\n",
    "for col in TrainNoothers.columns:\n",
    "    if TrainNoothers[col].dtype == 'object':\n",
    "        TrainNoothers[col].fillna(TrainNoothers[col].mode()[0], inplace=True) #mode if object\n",
    "    else:\n",
    "        TrainNoothers[col].fillna(TrainNoothers[col].mean(), inplace=True)\n",
    "\n",
    "\n",
    "#do same for test \n",
    "df_onehotTestOther = pd.get_dummies(TestNoothers)\n",
    "#write the onedummies code for Train data\n",
    "df_onehotOther= pd.get_dummies(TrainNoothers)\n",
    "\n",
    "        \n",
    "\n"
   ]
  },
  {
   "cell_type": "code",
   "execution_count": 537,
   "metadata": {},
   "outputs": [],
   "source": [
    "xNC=df_onehotOther.loc[:, df_onehotOther.columns != 'hospital_death']\n",
    "yNC=df_onehotOther[['hospital_death']]\n"
   ]
  },
  {
   "cell_type": "code",
   "execution_count": 538,
   "metadata": {},
   "outputs": [],
   "source": [
    "def fit_model(model, model_name):\n",
    "    model.fit(trainX,trainyN)\n",
    "    md_probs = model.predict_proba(testXN)\n",
    "    md_probs = md_probs[:,1]\n",
    "    md_auc = roc_auc_score(testyN, md_probs)\n",
    "    print(model_name, \" : \", md_auc)\n",
    "    md_fpr, md_tpr, _ = roc_curve(testyN, md_probs)\n",
    "    plt.plot(md_fpr, md_tpr, marker='.', label=model_name)\n",
    "    #return (md_fpr, md_tpr)"
   ]
  },
  {
   "cell_type": "code",
   "execution_count": 542,
   "metadata": {},
   "outputs": [
    {
     "name": "stdout",
     "output_type": "stream",
     "text": [
      "{'mean_fit_time': array([0.28013151, 0.2595288 , 0.24986866, 0.24611044, 0.24734752,\n",
      "       0.24815352, 0.24587574, 0.24870555, 0.24813662, 0.41924875,\n",
      "       0.4157393 , 0.41806178, 0.40488865, 0.41430466, 0.40259006,\n",
      "       0.42315879, 0.44043331, 0.4230022 , 0.59378574, 0.60016921,\n",
      "       0.59077322, 0.59318202, 0.59298551, 0.59054005, 0.65152054,\n",
      "       0.75167112, 0.73030827, 1.05736067, 0.8981853 , 0.84840775,\n",
      "       0.83107076, 0.81428261, 0.85711026, 0.84235725, 0.91162834,\n",
      "       0.81539395, 1.08968472, 1.07659841, 1.3500828 , 1.4425415 ,\n",
      "       1.30950408, 1.17768602, 1.18985026, 1.10104415, 1.13202415,\n",
      "       1.33346643, 1.3147275 , 1.31765261, 1.29704912, 1.36774895,\n",
      "       1.37556233, 1.48463986, 1.67437356, 1.80938888, 1.71803541,\n",
      "       1.91363754, 1.97709565, 1.89617198, 1.88799398, 1.83236017,\n",
      "       1.74042709, 1.79162431, 1.72689755, 1.93320284, 1.57354634,\n",
      "       2.07682455, 1.41793468, 1.31563475, 1.88844192, 1.98106611,\n",
      "       2.12741861, 2.02563272, 2.1221916 , 2.13310788, 2.29518621,\n",
      "       2.33555398, 2.27704227, 2.47046134, 2.18364189, 2.27498522,\n",
      "       1.9154439 , 2.06284826, 2.06223841, 2.04459715, 2.06597838,\n",
      "       2.05891314, 2.19663157, 2.36084781, 2.60922027, 2.42884471]), 'std_fit_time': array([0.04744323, 0.0078811 , 0.01223719, 0.00937606, 0.01383805,\n",
      "       0.00259565, 0.01292634, 0.00954791, 0.00786155, 0.00951481,\n",
      "       0.01293331, 0.02212726, 0.01744273, 0.01721264, 0.01933331,\n",
      "       0.0132212 , 0.04665794, 0.02114652, 0.02653882, 0.03498343,\n",
      "       0.01589004, 0.02078747, 0.01673934, 0.04609586, 0.04501734,\n",
      "       0.19313265, 0.05964462, 0.11548959, 0.06143736, 0.05784409,\n",
      "       0.02219864, 0.04138706, 0.04010501, 0.02699557, 0.04150767,\n",
      "       0.0244108 , 0.04702861, 0.04497391, 0.60817652, 0.2753009 ,\n",
      "       0.15207123, 0.11355185, 0.0922051 , 0.0257584 , 0.0593282 ,\n",
      "       0.07617234, 0.0464227 , 0.04719107, 0.05847283, 0.07473019,\n",
      "       0.06575374, 0.17309091, 0.18021202, 0.28734163, 0.06587058,\n",
      "       0.24156264, 0.10323718, 0.04352164, 0.07692561, 0.14056096,\n",
      "       0.0699725 , 0.1313843 , 0.09713224, 0.06503762, 0.59020436,\n",
      "       0.12212661, 0.5209273 , 0.43699773, 0.21307271, 0.20296319,\n",
      "       0.40992571, 0.13874944, 0.10427489, 0.11926425, 0.18595744,\n",
      "       0.40871101, 0.12653248, 0.36890052, 0.30755393, 0.26682941,\n",
      "       0.09251082, 0.05454958, 0.04926252, 0.0426402 , 0.03265135,\n",
      "       0.0357046 , 0.10984677, 0.23445677, 0.38484026, 0.06169235]), 'mean_score_time': array([0.01491675, 0.01350808, 0.01239531, 0.01325762, 0.01284094,\n",
      "       0.01268706, 0.01246135, 0.01291404, 0.01201236, 0.01220882,\n",
      "       0.01278269, 0.0128792 , 0.01264658, 0.01226985, 0.01207936,\n",
      "       0.0141443 , 0.01319215, 0.01253657, 0.0137054 , 0.01395102,\n",
      "       0.01304011, 0.01362901, 0.01408134, 0.01288257, 0.01557415,\n",
      "       0.01845458, 0.01929717, 0.02043753, 0.01920047, 0.01445243,\n",
      "       0.01553366, 0.01488428, 0.01488705, 0.01711195, 0.01693153,\n",
      "       0.01477952, 0.01974525, 0.01622319, 0.02704375, 0.02822881,\n",
      "       0.02033412, 0.02002215, 0.01985633, 0.01899774, 0.01900163,\n",
      "       0.01713336, 0.01801026, 0.01783133, 0.0192574 , 0.01809356,\n",
      "       0.01916819, 0.01855071, 0.0230747 , 0.04733386, 0.01974442,\n",
      "       0.02053592, 0.02390585, 0.0222656 , 0.02139244, 0.0206465 ,\n",
      "       0.01896789, 0.02101469, 0.01902273, 0.01774337, 0.01680551,\n",
      "       0.0210098 , 0.01241486, 0.01685584, 0.01620834, 0.02248647,\n",
      "       0.02523675, 0.01851692, 0.01884806, 0.01727104, 0.01915624,\n",
      "       0.02032692, 0.01889055, 0.02000241, 0.01762626, 0.01622574,\n",
      "       0.01519499, 0.01408916, 0.01465259, 0.01481314, 0.01488543,\n",
      "       0.01473825, 0.01693892, 0.01689613, 0.0180738 , 0.01769304]), 'std_score_time': array([0.0016985 , 0.00181729, 0.002093  , 0.001079  , 0.00177775,\n",
      "       0.00199604, 0.00211225, 0.00165408, 0.0013441 , 0.00185092,\n",
      "       0.00077445, 0.00160512, 0.00164037, 0.00173825, 0.0016558 ,\n",
      "       0.00224756, 0.00285157, 0.00139062, 0.00264737, 0.00204279,\n",
      "       0.00149654, 0.0018026 , 0.00196729, 0.00202015, 0.00247746,\n",
      "       0.00535467, 0.00362   , 0.00420425, 0.00643532, 0.00215737,\n",
      "       0.00178868, 0.00170622, 0.00176537, 0.00420971, 0.00212152,\n",
      "       0.00182813, 0.00229279, 0.00143449, 0.01723963, 0.01176509,\n",
      "       0.003183  , 0.00383037, 0.00513332, 0.00526101, 0.00370904,\n",
      "       0.00195899, 0.0022674 , 0.00193256, 0.00410416, 0.0020302 ,\n",
      "       0.00264483, 0.00367474, 0.00609156, 0.06822864, 0.00237836,\n",
      "       0.00364496, 0.00399987, 0.00454514, 0.00409367, 0.00440203,\n",
      "       0.00304402, 0.0043308 , 0.00296633, 0.00253778, 0.00821631,\n",
      "       0.00401742, 0.00457556, 0.01732186, 0.00252916, 0.00910071,\n",
      "       0.02111895, 0.00243057, 0.00184109, 0.00193812, 0.00336172,\n",
      "       0.00592731, 0.00362909, 0.00642083, 0.0047483 , 0.00205005,\n",
      "       0.00209105, 0.00114748, 0.00118446, 0.00087135, 0.00072901,\n",
      "       0.00107028, 0.00233269, 0.00174886, 0.00187372, 0.00101498]), 'param_max_depth': masked_array(data=[1, 1, 1, 1, 1, 1, 1, 1, 1, 2, 2, 2, 2, 2, 2, 2, 2, 2,\n",
      "                   3, 3, 3, 3, 3, 3, 3, 3, 3, 4, 4, 4, 4, 4, 4, 4, 4, 4,\n",
      "                   5, 5, 5, 5, 5, 5, 5, 5, 5, 6, 6, 6, 6, 6, 6, 6, 6, 6,\n",
      "                   7, 7, 7, 7, 7, 7, 7, 7, 7, 8, 8, 8, 8, 8, 8, 8, 8, 8,\n",
      "                   9, 9, 9, 9, 9, 9, 9, 9, 9, 10, 10, 10, 10, 10, 10, 10,\n",
      "                   10, 10],\n",
      "             mask=[False, False, False, False, False, False, False, False,\n",
      "                   False, False, False, False, False, False, False, False,\n",
      "                   False, False, False, False, False, False, False, False,\n",
      "                   False, False, False, False, False, False, False, False,\n",
      "                   False, False, False, False, False, False, False, False,\n",
      "                   False, False, False, False, False, False, False, False,\n",
      "                   False, False, False, False, False, False, False, False,\n",
      "                   False, False, False, False, False, False, False, False,\n",
      "                   False, False, False, False, False, False, False, False,\n",
      "                   False, False, False, False, False, False, False, False,\n",
      "                   False, False, False, False, False, False, False, False,\n",
      "                   False, False],\n",
      "       fill_value='?',\n",
      "            dtype=object), 'param_min_samples_split': masked_array(data=[2, 3, 4, 5, 6, 7, 8, 9, 10, 2, 3, 4, 5, 6, 7, 8, 9, 10,\n",
      "                   2, 3, 4, 5, 6, 7, 8, 9, 10, 2, 3, 4, 5, 6, 7, 8, 9, 10,\n",
      "                   2, 3, 4, 5, 6, 7, 8, 9, 10, 2, 3, 4, 5, 6, 7, 8, 9, 10,\n",
      "                   2, 3, 4, 5, 6, 7, 8, 9, 10, 2, 3, 4, 5, 6, 7, 8, 9, 10,\n",
      "                   2, 3, 4, 5, 6, 7, 8, 9, 10, 2, 3, 4, 5, 6, 7, 8, 9, 10],\n",
      "             mask=[False, False, False, False, False, False, False, False,\n",
      "                   False, False, False, False, False, False, False, False,\n",
      "                   False, False, False, False, False, False, False, False,\n",
      "                   False, False, False, False, False, False, False, False,\n",
      "                   False, False, False, False, False, False, False, False,\n",
      "                   False, False, False, False, False, False, False, False,\n",
      "                   False, False, False, False, False, False, False, False,\n",
      "                   False, False, False, False, False, False, False, False,\n",
      "                   False, False, False, False, False, False, False, False,\n",
      "                   False, False, False, False, False, False, False, False,\n",
      "                   False, False, False, False, False, False, False, False,\n",
      "                   False, False],\n",
      "       fill_value='?',\n",
      "            dtype=object), 'params': [{'max_depth': 1, 'min_samples_split': 2}, {'max_depth': 1, 'min_samples_split': 3}, {'max_depth': 1, 'min_samples_split': 4}, {'max_depth': 1, 'min_samples_split': 5}, {'max_depth': 1, 'min_samples_split': 6}, {'max_depth': 1, 'min_samples_split': 7}, {'max_depth': 1, 'min_samples_split': 8}, {'max_depth': 1, 'min_samples_split': 9}, {'max_depth': 1, 'min_samples_split': 10}, {'max_depth': 2, 'min_samples_split': 2}, {'max_depth': 2, 'min_samples_split': 3}, {'max_depth': 2, 'min_samples_split': 4}, {'max_depth': 2, 'min_samples_split': 5}, {'max_depth': 2, 'min_samples_split': 6}, {'max_depth': 2, 'min_samples_split': 7}, {'max_depth': 2, 'min_samples_split': 8}, {'max_depth': 2, 'min_samples_split': 9}, {'max_depth': 2, 'min_samples_split': 10}, {'max_depth': 3, 'min_samples_split': 2}, {'max_depth': 3, 'min_samples_split': 3}, {'max_depth': 3, 'min_samples_split': 4}, {'max_depth': 3, 'min_samples_split': 5}, {'max_depth': 3, 'min_samples_split': 6}, {'max_depth': 3, 'min_samples_split': 7}, {'max_depth': 3, 'min_samples_split': 8}, {'max_depth': 3, 'min_samples_split': 9}, {'max_depth': 3, 'min_samples_split': 10}, {'max_depth': 4, 'min_samples_split': 2}, {'max_depth': 4, 'min_samples_split': 3}, {'max_depth': 4, 'min_samples_split': 4}, {'max_depth': 4, 'min_samples_split': 5}, {'max_depth': 4, 'min_samples_split': 6}, {'max_depth': 4, 'min_samples_split': 7}, {'max_depth': 4, 'min_samples_split': 8}, {'max_depth': 4, 'min_samples_split': 9}, {'max_depth': 4, 'min_samples_split': 10}, {'max_depth': 5, 'min_samples_split': 2}, {'max_depth': 5, 'min_samples_split': 3}, {'max_depth': 5, 'min_samples_split': 4}, {'max_depth': 5, 'min_samples_split': 5}, {'max_depth': 5, 'min_samples_split': 6}, {'max_depth': 5, 'min_samples_split': 7}, {'max_depth': 5, 'min_samples_split': 8}, {'max_depth': 5, 'min_samples_split': 9}, {'max_depth': 5, 'min_samples_split': 10}, {'max_depth': 6, 'min_samples_split': 2}, {'max_depth': 6, 'min_samples_split': 3}, {'max_depth': 6, 'min_samples_split': 4}, {'max_depth': 6, 'min_samples_split': 5}, {'max_depth': 6, 'min_samples_split': 6}, {'max_depth': 6, 'min_samples_split': 7}, {'max_depth': 6, 'min_samples_split': 8}, {'max_depth': 6, 'min_samples_split': 9}, {'max_depth': 6, 'min_samples_split': 10}, {'max_depth': 7, 'min_samples_split': 2}, {'max_depth': 7, 'min_samples_split': 3}, {'max_depth': 7, 'min_samples_split': 4}, {'max_depth': 7, 'min_samples_split': 5}, {'max_depth': 7, 'min_samples_split': 6}, {'max_depth': 7, 'min_samples_split': 7}, {'max_depth': 7, 'min_samples_split': 8}, {'max_depth': 7, 'min_samples_split': 9}, {'max_depth': 7, 'min_samples_split': 10}, {'max_depth': 8, 'min_samples_split': 2}, {'max_depth': 8, 'min_samples_split': 3}, {'max_depth': 8, 'min_samples_split': 4}, {'max_depth': 8, 'min_samples_split': 5}, {'max_depth': 8, 'min_samples_split': 6}, {'max_depth': 8, 'min_samples_split': 7}, {'max_depth': 8, 'min_samples_split': 8}, {'max_depth': 8, 'min_samples_split': 9}, {'max_depth': 8, 'min_samples_split': 10}, {'max_depth': 9, 'min_samples_split': 2}, {'max_depth': 9, 'min_samples_split': 3}, {'max_depth': 9, 'min_samples_split': 4}, {'max_depth': 9, 'min_samples_split': 5}, {'max_depth': 9, 'min_samples_split': 6}, {'max_depth': 9, 'min_samples_split': 7}, {'max_depth': 9, 'min_samples_split': 8}, {'max_depth': 9, 'min_samples_split': 9}, {'max_depth': 9, 'min_samples_split': 10}, {'max_depth': 10, 'min_samples_split': 2}, {'max_depth': 10, 'min_samples_split': 3}, {'max_depth': 10, 'min_samples_split': 4}, {'max_depth': 10, 'min_samples_split': 5}, {'max_depth': 10, 'min_samples_split': 6}, {'max_depth': 10, 'min_samples_split': 7}, {'max_depth': 10, 'min_samples_split': 8}, {'max_depth': 10, 'min_samples_split': 9}, {'max_depth': 10, 'min_samples_split': 10}], 'split0_test_score': array([0.91285714, 0.91285714, 0.91285714, 0.91285714, 0.91285714,\n",
      "       0.91285714, 0.91285714, 0.91285714, 0.91285714, 0.91628571,\n",
      "       0.91628571, 0.91628571, 0.91628571, 0.91628571, 0.91628571,\n",
      "       0.91628571, 0.91628571, 0.91628571, 0.918     , 0.918     ,\n",
      "       0.918     , 0.918     , 0.918     , 0.918     , 0.918     ,\n",
      "       0.918     , 0.918     , 0.91914286, 0.91914286, 0.91914286,\n",
      "       0.91914286, 0.91914286, 0.91914286, 0.91914286, 0.91914286,\n",
      "       0.91914286, 0.92      , 0.92028571, 0.92028571, 0.92028571,\n",
      "       0.92028571, 0.92028571, 0.92028571, 0.92028571, 0.92028571,\n",
      "       0.91742857, 0.91771429, 0.91742857, 0.91714286, 0.91742857,\n",
      "       0.91714286, 0.91742857, 0.91742857, 0.91742857, 0.91542857,\n",
      "       0.91571429, 0.91571429, 0.91571429, 0.91628571, 0.91571429,\n",
      "       0.91514286, 0.91571429, 0.91571429, 0.914     , 0.914     ,\n",
      "       0.91428571, 0.91342857, 0.91428571, 0.91428571, 0.91371429,\n",
      "       0.914     , 0.91457143, 0.90828571, 0.90942857, 0.90771429,\n",
      "       0.90657143, 0.90771429, 0.908     , 0.90714286, 0.90742857,\n",
      "       0.90885714, 0.90657143, 0.90714286, 0.90685714, 0.90685714,\n",
      "       0.90657143, 0.90657143, 0.906     , 0.90657143, 0.908     ]), 'split1_test_score': array([0.91285714, 0.91285714, 0.91285714, 0.91285714, 0.91285714,\n",
      "       0.91285714, 0.91285714, 0.91285714, 0.91285714, 0.91657143,\n",
      "       0.91657143, 0.91657143, 0.91657143, 0.91657143, 0.91657143,\n",
      "       0.91657143, 0.91657143, 0.91657143, 0.91742857, 0.91742857,\n",
      "       0.91742857, 0.91742857, 0.91742857, 0.91742857, 0.91742857,\n",
      "       0.91742857, 0.91742857, 0.91942857, 0.91942857, 0.91942857,\n",
      "       0.91942857, 0.91942857, 0.91942857, 0.91942857, 0.91942857,\n",
      "       0.91942857, 0.91714286, 0.91685714, 0.91685714, 0.91685714,\n",
      "       0.91685714, 0.91685714, 0.91714286, 0.91685714, 0.91685714,\n",
      "       0.91885714, 0.91914286, 0.91914286, 0.91914286, 0.91914286,\n",
      "       0.91914286, 0.91914286, 0.91885714, 0.91942857, 0.91657143,\n",
      "       0.91685714, 0.916     , 0.91657143, 0.91657143, 0.91571429,\n",
      "       0.91657143, 0.91657143, 0.91628571, 0.91514286, 0.91657143,\n",
      "       0.91457143, 0.91514286, 0.91485714, 0.91542857, 0.916     ,\n",
      "       0.91542857, 0.91428571, 0.91571429, 0.91428571, 0.914     ,\n",
      "       0.91457143, 0.91457143, 0.91514286, 0.91514286, 0.91571429,\n",
      "       0.914     , 0.91314286, 0.91428571, 0.912     , 0.91342857,\n",
      "       0.91257143, 0.91285714, 0.91257143, 0.91314286, 0.912     ]), 'split2_test_score': array([0.91285714, 0.91285714, 0.91285714, 0.91285714, 0.91285714,\n",
      "       0.91285714, 0.91285714, 0.91285714, 0.91285714, 0.914     ,\n",
      "       0.914     , 0.914     , 0.914     , 0.914     , 0.914     ,\n",
      "       0.914     , 0.914     , 0.914     , 0.91428571, 0.91428571,\n",
      "       0.91428571, 0.91428571, 0.91428571, 0.91428571, 0.91428571,\n",
      "       0.91428571, 0.91428571, 0.91971429, 0.91971429, 0.91971429,\n",
      "       0.91971429, 0.91971429, 0.91971429, 0.91971429, 0.91971429,\n",
      "       0.91971429, 0.92228571, 0.92228571, 0.92228571, 0.92228571,\n",
      "       0.92228571, 0.92228571, 0.92228571, 0.92228571, 0.92228571,\n",
      "       0.91942857, 0.91942857, 0.91942857, 0.91942857, 0.91942857,\n",
      "       0.91942857, 0.91942857, 0.91942857, 0.91942857, 0.91485714,\n",
      "       0.91514286, 0.91457143, 0.91457143, 0.91428571, 0.91457143,\n",
      "       0.91457143, 0.91542857, 0.916     , 0.90971429, 0.91142857,\n",
      "       0.91171429, 0.91114286, 0.91085714, 0.91085714, 0.91057143,\n",
      "       0.91057143, 0.91      , 0.90857143, 0.91285714, 0.91114286,\n",
      "       0.91142857, 0.91142857, 0.90828571, 0.90971429, 0.90914286,\n",
      "       0.90942857, 0.90685714, 0.906     , 0.90571429, 0.90771429,\n",
      "       0.90742857, 0.90371429, 0.90714286, 0.90714286, 0.906     ]), 'split3_test_score': array([0.91257143, 0.91257143, 0.91257143, 0.91257143, 0.91257143,\n",
      "       0.91257143, 0.91257143, 0.91257143, 0.91257143, 0.92114286,\n",
      "       0.92114286, 0.92114286, 0.92114286, 0.92114286, 0.92114286,\n",
      "       0.92114286, 0.92114286, 0.92114286, 0.92342857, 0.92342857,\n",
      "       0.92342857, 0.92342857, 0.92342857, 0.92342857, 0.92342857,\n",
      "       0.92342857, 0.92342857, 0.92457143, 0.92457143, 0.92457143,\n",
      "       0.92457143, 0.92457143, 0.92457143, 0.92457143, 0.92457143,\n",
      "       0.92457143, 0.92485714, 0.92485714, 0.92485714, 0.92485714,\n",
      "       0.92485714, 0.92485714, 0.92485714, 0.92485714, 0.92485714,\n",
      "       0.92342857, 0.92342857, 0.92314286, 0.92342857, 0.92314286,\n",
      "       0.92342857, 0.92314286, 0.92314286, 0.92342857, 0.91714286,\n",
      "       0.91771429, 0.91742857, 0.91828571, 0.91742857, 0.918     ,\n",
      "       0.918     , 0.91742857, 0.918     , 0.91542857, 0.91457143,\n",
      "       0.91514286, 0.91514286, 0.91571429, 0.916     , 0.91485714,\n",
      "       0.91457143, 0.916     , 0.91257143, 0.91228571, 0.91142857,\n",
      "       0.91285714, 0.91228571, 0.91142857, 0.912     , 0.912     ,\n",
      "       0.91171429, 0.90857143, 0.90942857, 0.90828571, 0.90828571,\n",
      "       0.90885714, 0.90628571, 0.90771429, 0.90742857, 0.90828571]), 'split4_test_score': array([0.91257143, 0.91257143, 0.91257143, 0.91257143, 0.91257143,\n",
      "       0.91257143, 0.91257143, 0.91257143, 0.91257143, 0.918     ,\n",
      "       0.918     , 0.918     , 0.918     , 0.918     , 0.918     ,\n",
      "       0.918     , 0.918     , 0.918     , 0.91685714, 0.91685714,\n",
      "       0.91685714, 0.91685714, 0.91685714, 0.91685714, 0.91685714,\n",
      "       0.91685714, 0.91685714, 0.91885714, 0.91885714, 0.91885714,\n",
      "       0.91885714, 0.91885714, 0.91885714, 0.91885714, 0.91885714,\n",
      "       0.91885714, 0.92171429, 0.92171429, 0.92171429, 0.92171429,\n",
      "       0.92171429, 0.92171429, 0.92171429, 0.92171429, 0.92171429,\n",
      "       0.92085714, 0.92057143, 0.92085714, 0.92085714, 0.92057143,\n",
      "       0.92057143, 0.92057143, 0.92057143, 0.92057143, 0.91914286,\n",
      "       0.91742857, 0.91742857, 0.918     , 0.91914286, 0.91771429,\n",
      "       0.91771429, 0.91857143, 0.91857143, 0.91628571, 0.91628571,\n",
      "       0.91628571, 0.91714286, 0.91542857, 0.91628571, 0.91628571,\n",
      "       0.91628571, 0.916     , 0.91371429, 0.91542857, 0.91457143,\n",
      "       0.91485714, 0.91457143, 0.914     , 0.91514286, 0.91542857,\n",
      "       0.91542857, 0.91428571, 0.91457143, 0.91457143, 0.91371429,\n",
      "       0.91485714, 0.91314286, 0.91342857, 0.91428571, 0.914     ]), 'split5_test_score': array([0.91257143, 0.91257143, 0.91257143, 0.91257143, 0.91257143,\n",
      "       0.91257143, 0.91257143, 0.91257143, 0.91257143, 0.92      ,\n",
      "       0.92      , 0.92      , 0.92      , 0.92      , 0.92      ,\n",
      "       0.92      , 0.92      , 0.92      , 0.92028571, 0.92028571,\n",
      "       0.92028571, 0.92028571, 0.92028571, 0.92028571, 0.92028571,\n",
      "       0.92028571, 0.92028571, 0.92028571, 0.92028571, 0.92028571,\n",
      "       0.92028571, 0.92028571, 0.92028571, 0.92028571, 0.92028571,\n",
      "       0.92028571, 0.91771429, 0.91771429, 0.91771429, 0.91771429,\n",
      "       0.91771429, 0.91771429, 0.91771429, 0.91771429, 0.91771429,\n",
      "       0.91485714, 0.91514286, 0.91571429, 0.91571429, 0.91542857,\n",
      "       0.91542857, 0.91542857, 0.91542857, 0.91542857, 0.914     ,\n",
      "       0.91371429, 0.91371429, 0.914     , 0.91428571, 0.91314286,\n",
      "       0.91342857, 0.91457143, 0.91457143, 0.90857143, 0.91      ,\n",
      "       0.90914286, 0.90971429, 0.90914286, 0.90885714, 0.90885714,\n",
      "       0.90857143, 0.90828571, 0.90914286, 0.90942857, 0.90857143,\n",
      "       0.90857143, 0.90857143, 0.908     , 0.90742857, 0.90771429,\n",
      "       0.90771429, 0.90485714, 0.90428571, 0.90371429, 0.90485714,\n",
      "       0.90457143, 0.904     , 0.90542857, 0.90314286, 0.90257143]), 'split6_test_score': array([0.91257143, 0.91257143, 0.91257143, 0.91257143, 0.91257143,\n",
      "       0.91257143, 0.91257143, 0.91257143, 0.91257143, 0.918     ,\n",
      "       0.918     , 0.918     , 0.918     , 0.918     , 0.918     ,\n",
      "       0.918     , 0.918     , 0.918     , 0.91828571, 0.91828571,\n",
      "       0.91828571, 0.91828571, 0.91828571, 0.91828571, 0.91828571,\n",
      "       0.91828571, 0.91828571, 0.922     , 0.922     , 0.922     ,\n",
      "       0.922     , 0.922     , 0.922     , 0.922     , 0.922     ,\n",
      "       0.922     , 0.922     , 0.922     , 0.922     , 0.922     ,\n",
      "       0.922     , 0.922     , 0.922     , 0.922     , 0.922     ,\n",
      "       0.91914286, 0.91942857, 0.91914286, 0.91942857, 0.91942857,\n",
      "       0.91914286, 0.91942857, 0.91914286, 0.91914286, 0.91742857,\n",
      "       0.91685714, 0.916     , 0.91657143, 0.91628571, 0.91657143,\n",
      "       0.91685714, 0.91685714, 0.91657143, 0.91228571, 0.91228571,\n",
      "       0.91342857, 0.91228571, 0.91314286, 0.91285714, 0.91371429,\n",
      "       0.912     , 0.91342857, 0.91228571, 0.91142857, 0.91285714,\n",
      "       0.91257143, 0.91228571, 0.91171429, 0.91085714, 0.912     ,\n",
      "       0.91171429, 0.91228571, 0.912     , 0.91571429, 0.91314286,\n",
      "       0.91142857, 0.91057143, 0.91257143, 0.91342857, 0.91342857]), 'split7_test_score': array([0.91257143, 0.91257143, 0.91257143, 0.91257143, 0.91257143,\n",
      "       0.91257143, 0.91257143, 0.91257143, 0.91257143, 0.92142857,\n",
      "       0.92142857, 0.92142857, 0.92142857, 0.92142857, 0.92142857,\n",
      "       0.92142857, 0.92142857, 0.92142857, 0.92171429, 0.92171429,\n",
      "       0.92171429, 0.92171429, 0.92171429, 0.92171429, 0.92171429,\n",
      "       0.92171429, 0.92171429, 0.91914286, 0.91914286, 0.91914286,\n",
      "       0.91914286, 0.91914286, 0.91914286, 0.91914286, 0.91914286,\n",
      "       0.91914286, 0.92142857, 0.92142857, 0.92142857, 0.92142857,\n",
      "       0.92142857, 0.92142857, 0.92142857, 0.92142857, 0.92142857,\n",
      "       0.91828571, 0.91828571, 0.91857143, 0.91828571, 0.91828571,\n",
      "       0.91857143, 0.91828571, 0.91857143, 0.91828571, 0.91342857,\n",
      "       0.91371429, 0.91371429, 0.91371429, 0.91342857, 0.91371429,\n",
      "       0.91371429, 0.91371429, 0.91371429, 0.914     , 0.91371429,\n",
      "       0.914     , 0.91428571, 0.91457143, 0.91542857, 0.91371429,\n",
      "       0.914     , 0.91457143, 0.91057143, 0.91142857, 0.91114286,\n",
      "       0.91171429, 0.91114286, 0.91057143, 0.91171429, 0.912     ,\n",
      "       0.91171429, 0.90228571, 0.90428571, 0.90342857, 0.90371429,\n",
      "       0.904     , 0.90228571, 0.90457143, 0.90371429, 0.90514286]), 'split8_test_score': array([0.91257143, 0.91257143, 0.91257143, 0.91257143, 0.91257143,\n",
      "       0.91257143, 0.91257143, 0.91257143, 0.91257143, 0.92057143,\n",
      "       0.92057143, 0.92057143, 0.92057143, 0.92057143, 0.92057143,\n",
      "       0.92057143, 0.92057143, 0.92057143, 0.92028571, 0.92028571,\n",
      "       0.92028571, 0.92028571, 0.92028571, 0.92028571, 0.92028571,\n",
      "       0.92028571, 0.92028571, 0.91714286, 0.91714286, 0.91714286,\n",
      "       0.91714286, 0.91714286, 0.91714286, 0.91714286, 0.91714286,\n",
      "       0.91714286, 0.91485714, 0.91485714, 0.91485714, 0.91485714,\n",
      "       0.91485714, 0.91485714, 0.91485714, 0.91485714, 0.91485714,\n",
      "       0.91828571, 0.91828571, 0.918     , 0.91828571, 0.91771429,\n",
      "       0.91742857, 0.91714286, 0.91742857, 0.91742857, 0.914     ,\n",
      "       0.91457143, 0.91514286, 0.91457143, 0.91457143, 0.914     ,\n",
      "       0.91428571, 0.91457143, 0.91428571, 0.91342857, 0.91314286,\n",
      "       0.912     , 0.91371429, 0.914     , 0.91171429, 0.91285714,\n",
      "       0.91285714, 0.91342857, 0.90685714, 0.90657143, 0.90514286,\n",
      "       0.90628571, 0.90571429, 0.90542857, 0.90685714, 0.90514286,\n",
      "       0.906     , 0.90457143, 0.90342857, 0.90657143, 0.904     ,\n",
      "       0.90571429, 0.90457143, 0.904     , 0.90628571, 0.90428571]), 'split9_test_score': array([0.91257143, 0.91257143, 0.91257143, 0.91257143, 0.91257143,\n",
      "       0.91257143, 0.91257143, 0.91257143, 0.91257143, 0.92028571,\n",
      "       0.92028571, 0.92028571, 0.92028571, 0.92028571, 0.92028571,\n",
      "       0.92028571, 0.92028571, 0.92028571, 0.91914286, 0.91914286,\n",
      "       0.91914286, 0.91914286, 0.91914286, 0.91914286, 0.91914286,\n",
      "       0.91914286, 0.91914286, 0.91971429, 0.91971429, 0.91971429,\n",
      "       0.91971429, 0.91971429, 0.91971429, 0.91971429, 0.91971429,\n",
      "       0.91971429, 0.92142857, 0.92142857, 0.92142857, 0.92142857,\n",
      "       0.92142857, 0.92142857, 0.92142857, 0.92142857, 0.92142857,\n",
      "       0.92028571, 0.91942857, 0.91942857, 0.91942857, 0.92028571,\n",
      "       0.92      , 0.91942857, 0.91914286, 0.91914286, 0.91942857,\n",
      "       0.91828571, 0.91914286, 0.91914286, 0.91914286, 0.91857143,\n",
      "       0.918     , 0.91857143, 0.91885714, 0.91657143, 0.918     ,\n",
      "       0.91771429, 0.91771429, 0.91914286, 0.91857143, 0.91771429,\n",
      "       0.91628571, 0.91857143, 0.91771429, 0.91742857, 0.91742857,\n",
      "       0.91914286, 0.91742857, 0.918     , 0.91685714, 0.918     ,\n",
      "       0.91742857, 0.91657143, 0.91657143, 0.91542857, 0.91542857,\n",
      "       0.91571429, 0.91571429, 0.91542857, 0.91514286, 0.91742857]), 'mean_test_score': array([0.91265714, 0.91265714, 0.91265714, 0.91265714, 0.91265714,\n",
      "       0.91265714, 0.91265714, 0.91265714, 0.91265714, 0.91862857,\n",
      "       0.91862857, 0.91862857, 0.91862857, 0.91862857, 0.91862857,\n",
      "       0.91862857, 0.91862857, 0.91862857, 0.91897143, 0.91897143,\n",
      "       0.91897143, 0.91897143, 0.91897143, 0.91897143, 0.91897143,\n",
      "       0.91897143, 0.91897143, 0.92      , 0.92      , 0.92      ,\n",
      "       0.92      , 0.92      , 0.92      , 0.92      , 0.92      ,\n",
      "       0.92      , 0.92034286, 0.92034286, 0.92034286, 0.92034286,\n",
      "       0.92034286, 0.92034286, 0.92037143, 0.92034286, 0.92034286,\n",
      "       0.91908571, 0.91908571, 0.91908571, 0.91911429, 0.91908571,\n",
      "       0.91902857, 0.91894286, 0.91891429, 0.91897143, 0.91614286,\n",
      "       0.916     , 0.91588571, 0.91611429, 0.91614286, 0.91577143,\n",
      "       0.91582857, 0.9162    , 0.91625714, 0.91354286, 0.914     ,\n",
      "       0.91382857, 0.91397143, 0.91411429, 0.91402857, 0.91382857,\n",
      "       0.91345714, 0.91391429, 0.91154286, 0.91205714, 0.9114    ,\n",
      "       0.91185714, 0.91157143, 0.91105714, 0.91128571, 0.91145714,\n",
      "       0.9114    , 0.909     , 0.9092    , 0.90922857, 0.90911429,\n",
      "       0.90917143, 0.90797143, 0.90888571, 0.90902857, 0.90911429]), 'std_test_score': array([0.00013093, 0.00013093, 0.00013093, 0.00013093, 0.00013093,\n",
      "       0.00013093, 0.00013093, 0.00013093, 0.00013093, 0.00233448,\n",
      "       0.00233448, 0.00233448, 0.00233448, 0.00233448, 0.00233448,\n",
      "       0.00233448, 0.00233448, 0.00233448, 0.00247172, 0.00247172,\n",
      "       0.00247172, 0.00247172, 0.00247172, 0.00247172, 0.00247172,\n",
      "       0.00247172, 0.00247172, 0.00190809, 0.00190809, 0.00190809,\n",
      "       0.00190809, 0.00190809, 0.00190809, 0.00190809, 0.00190809,\n",
      "       0.00190809, 0.00280175, 0.00283362, 0.00283362, 0.00283362,\n",
      "       0.00283362, 0.00283362, 0.00279956, 0.00283362, 0.00283362,\n",
      "       0.0021335 , 0.00200326, 0.00188138, 0.00196894, 0.00197453,\n",
      "       0.00205317, 0.00198381, 0.00194118, 0.00201707, 0.00203339,\n",
      "       0.00158049, 0.00164726, 0.00181693, 0.00191343, 0.00181513,\n",
      "       0.00171047, 0.00160128, 0.0016973 , 0.00253369, 0.00233518,\n",
      "       0.00231481, 0.00237143, 0.00258157, 0.00277731, 0.00251429,\n",
      "       0.00237487, 0.0028083 , 0.00331527, 0.00300964, 0.00340815,\n",
      "       0.00375418, 0.00334237, 0.00363891, 0.00340288, 0.0039122 ,\n",
      "       0.00335748, 0.00453602, 0.0046155 , 0.00454645, 0.00420777,\n",
      "       0.00401924, 0.00447113, 0.00397225, 0.004288  , 0.00462019]), 'rank_test_score': array([64, 64, 64, 64, 64, 64, 64, 64, 64, 37, 37, 37, 37, 37, 37, 37, 37,\n",
      "       37, 25, 25, 25, 25, 25, 25, 25, 25, 25, 10, 10, 10, 10, 10, 10, 10,\n",
      "       10, 10,  2,  2,  2,  2,  2,  2,  1,  2,  2, 20, 20, 23, 19, 20, 24,\n",
      "       35, 36, 25, 48, 51, 52, 50, 48, 54, 53, 47, 46, 62, 57, 60, 58, 55,\n",
      "       56, 60, 63, 59, 76, 73, 79, 74, 75, 81, 80, 77, 78, 88, 83, 82, 86,\n",
      "       84, 90, 89, 87, 85])}\n",
      "0.9203714285714284\n",
      "{'max_depth': 5, 'min_samples_split': 8}\n"
     ]
    }
   ],
   "source": [
    "#grid search\n",
    "from sklearn.model_selection import GridSearchCV\n",
    "from sklearn.tree import DecisionTreeClassifier\n",
    "\n",
    "# Define the parameter values that should be searched\n",
    "max_depth_values = list(range(1, 11)) # depth of the tree\n",
    "min_samples_split_values = list(range(2, 11)) # minimum number of samples required to split an internal node\n",
    "\n",
    "# Create a parameter grid: map the parameter names to the values that should be searched\n",
    "param_grid = dict(max_depth=max_depth_values, min_samples_split=min_samples_split_values)\n",
    "\n",
    "# Instantiate the grid\n",
    "grid = GridSearchCV(DecisionTreeClassifier(), param_grid, cv=10, scoring='accuracy')\n",
    "\n",
    "trainXN, testXN, trainyN, testyN = train_test_split(xNC, yNC, test_size=0.3, random_state=2)\n",
    "# Fit the grid with data\n",
    "grid.fit(trainXN, trainyN)\n",
    "\n",
    "# View the complete results\n",
    "print(grid.cv_results_)\n",
    "\n",
    "# Examine the best model\n",
    "print(grid.best_score_)\n",
    "print(grid.best_params_)\n",
    "best_model = grid.best_estimator_\n"
   ]
  },
  {
   "cell_type": "code",
   "execution_count": null,
   "metadata": {},
   "outputs": [],
   "source": []
  },
  {
   "cell_type": "code",
   "execution_count": 543,
   "metadata": {},
   "outputs": [],
   "source": [
    "#predicitng using grid searches best model\n",
    "hospital_death = best_model.predict(df_onehotTestOther)\n"
   ]
  },
  {
   "cell_type": "code",
   "execution_count": 545,
   "metadata": {},
   "outputs": [],
   "source": [
    "# Create a DataFrame for the predictions\n",
    "predictions_df = pd.DataFrame(hospital_death, columns=['hospital_death'])\n",
    "\n",
    "# Add the record ID from the test data to the predictions DataFrame\n",
    "predictions_df.insert(0, 'RecordID', df_onehotTest['RecordID'])\n",
    "\n",
    "# Save the predictions to a CSV file\n",
    "predictions_df.to_csv('predictions.csv', index=False)"
   ]
  },
  {
   "cell_type": "code",
   "execution_count": null,
   "metadata": {},
   "outputs": [],
   "source": []
  }
 ],
 "metadata": {
  "kernelspec": {
   "display_name": "Python 3",
   "language": "python",
   "name": "python3"
  },
  "language_info": {
   "codemirror_mode": {
    "name": "ipython",
    "version": 3
   },
   "file_extension": ".py",
   "mimetype": "text/x-python",
   "name": "python",
   "nbconvert_exporter": "python",
   "pygments_lexer": "ipython3",
   "version": "3.10.11"
  },
  "orig_nbformat": 4
 },
 "nbformat": 4,
 "nbformat_minor": 2
}
