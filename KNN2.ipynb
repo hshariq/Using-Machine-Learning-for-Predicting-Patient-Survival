{
 "cells": [
  {
   "cell_type": "code",
   "execution_count": 1,
   "metadata": {},
   "outputs": [],
   "source": [
    "import pandas as pd\n",
    "import numpy as np\n",
    "from io import StringIO\n",
    "dfTrain = pd.read_csv(\"Data/train.csv\")\n",
    "dfTest = pd.read_csv(\"Data/test.csv\")\n",
    "\n"
   ]
  },
  {
   "cell_type": "code",
   "execution_count": 2,
   "metadata": {},
   "outputs": [],
   "source": [
    "#next we drop simialr record columns\n",
    "dfTrain = dfTrain.drop('apache_3j_bodysystem', axis=1)\n",
    "dfTest = dfTest.drop('apache_3j_bodysystem', axis=1)"
   ]
  },
  {
   "cell_type": "code",
   "execution_count": 3,
   "metadata": {},
   "outputs": [
    {
     "name": "stderr",
     "output_type": "stream",
     "text": [
      "C:\\Users\\hamza\\AppData\\Local\\Temp\\ipykernel_20736\\3604662654.py:3: FutureWarning: The default value of numeric_only in DataFrame.corr is deprecated. In a future version, it will default to False. Select only valid columns or specify the value of numeric_only to silence this warning.\n",
      "  corr_matrix = dfTrain.corr()\n"
     ]
    }
   ],
   "source": [
    "\n",
    "#next we drop columns that have less -0.1<corelation<0.1 with hospital_death\n",
    "# create correlation matrix\n",
    "corr_matrix = dfTrain.corr()\n",
    "\n",
    "# get the columns with correlation less than -0.1 and greater than 0.1\n",
    "corr_cols = corr_matrix.columns[(corr_matrix['hospital_death'] > -0.1) & (corr_matrix['hospital_death'] < 0.1)]\n",
    "\n",
    "# remove the first element of the array\n",
    "corr_cols = corr_cols[1:]\n",
    "corr_cols\n",
    "# drop the columns with correlation gr8 than -0.1 and less than 0.1\n",
    "# FILEPATH: c:\\Users\\hamza\\Documents\\7th Sem\\IDM\\Challenge 1\\C1.ipynb\n",
    "dfTrain = dfTrain.drop(corr_cols, axis=1)\n",
    "dfTest=dfTest.drop(corr_cols, axis=1)\n"
   ]
  },
  {
   "cell_type": "code",
   "execution_count": null,
   "metadata": {},
   "outputs": [],
   "source": [
    "corr_matrix = dfTrain.corr()\n",
    "corr_matrix['hospital_death'].sort_values(ascending=False)\n"
   ]
  },
  {
   "cell_type": "code",
   "execution_count": 5,
   "metadata": {},
   "outputs": [
    {
     "name": "stderr",
     "output_type": "stream",
     "text": [
      "C:\\Users\\hamza\\AppData\\Local\\Temp\\ipykernel_20736\\3664579305.py:3: FutureWarning: The default value of numeric_only in DataFrame.corr is deprecated. In a future version, it will default to False. Select only valid columns or specify the value of numeric_only to silence this warning.\n",
      "  corr_matrix = dfTrain.corr()\n"
     ]
    }
   ],
   "source": [
    "\n",
    "#next we drop columns that have less -0.1<corelation<0.1 with hospital_death\n",
    "# create correlation matrix\n",
    "corr_matrix = dfTrain.corr()\n",
    "\n",
    "# get the columns with correlation less than -0.1 and greater than 0.1\n",
    "corr_cols = corr_matrix.columns[(corr_matrix['hospital_death'] > 0.1) & (corr_matrix['hospital_death'] < 0.2)]\n",
    "\n",
    "# remove the first element of the array\n",
    "# corr_cols = corr_cols[1:]\n",
    "corr_cols\n",
    "# drop the columns with correlation gr8 than -0.1 and less than 0.1\n",
    "# FILEPATH: c:\\Users\\hamza\\Documents\\7th Sem\\IDM\\Challenge 1\\C1.ipynb\n",
    "dfTrain = dfTrain.drop(corr_cols, axis=1)\n",
    "dfTest=dfTest.drop(corr_cols, axis=1)\n"
   ]
  },
  {
   "cell_type": "code",
   "execution_count": 6,
   "metadata": {},
   "outputs": [],
   "source": [
    "\n",
    "#next we drop columns that have less -0.1<corelation<0.1 with hospital_death\n",
    "# create correlation matrix\n",
    "# corr_matrix = dfTrain.corr()\n",
    "\n",
    "# get the columns with correlation less than -0.1 and greater than 0.1\n",
    "corr_cols = corr_matrix.columns[(corr_matrix['hospital_death'] < 0) & (corr_matrix['hospital_death'] >-0.2)]\n",
    "\n",
    "# remove the first element of the array\n",
    "# corr_cols = corr_cols[1:]\n",
    "corr_cols\n",
    "# len(corr_cols)\n",
    "# drop the columns with correlation gr8 than -0.1 and less than 0.1\n",
    "# FILEPATH: c:\\Users\\hamza\\Documents\\7th Sem\\IDM\\Challenge 1\\C1.ipynb\n",
    "dfTrain = dfTrain.drop(corr_cols, axis=1)\n",
    "dfTest=dfTest.drop(corr_cols, axis=1)\n"
   ]
  },
  {
   "cell_type": "code",
   "execution_count": 7,
   "metadata": {},
   "outputs": [
    {
     "name": "stdout",
     "output_type": "stream",
     "text": [
      "Columns with high interdependency:\n",
      "['d1_sysbp_noninvasive_min', 'd1_sysbp_min']\n"
     ]
    },
    {
     "name": "stderr",
     "output_type": "stream",
     "text": [
      "C:\\Users\\hamza\\AppData\\Local\\Temp\\ipykernel_20736\\1033782445.py:5: FutureWarning: The default value of numeric_only in DataFrame.corr is deprecated. In a future version, it will default to False. Select only valid columns or specify the value of numeric_only to silence this warning.\n",
      "  corr_matrix = dfTrain.corr()\n",
      "C:\\Users\\hamza\\AppData\\Local\\Temp\\ipykernel_20736\\1033782445.py:8: DeprecationWarning: `np.bool` is a deprecated alias for the builtin `bool`. To silence this warning, use `bool` by itself. Doing this will not modify any behavior and is safe. If you specifically wanted the numpy scalar type, use `np.bool_` here.\n",
      "Deprecated in NumPy 1.20; for more details and guidance: https://numpy.org/devdocs/release/1.20.0-notes.html#deprecations\n",
      "  upper = corr_matrix.where(np.triu(np.ones(corr_matrix.shape), k=1).astype(np.bool))\n"
     ]
    }
   ],
   "source": [
    "# set the correlation threshold\n",
    "corr_threshold = 0.9\n",
    "\n",
    "# create correlation matrix\n",
    "corr_matrix = dfTrain.corr()\n",
    "\n",
    "# get the upper triangle of the correlation matrix\n",
    "upper = corr_matrix.where(np.triu(np.ones(corr_matrix.shape), k=1).astype(np.bool))\n",
    "\n",
    "# find all correlations with a value greater than the threshold\n",
    "high_corr = upper.stack().sort_values(ascending=False)[upper.stack() > corr_threshold]\n",
    "\n",
    "# get the columns with high correlation\n",
    "high_corr_cols = set(high_corr.index.get_level_values(0)) | set(high_corr.index.get_level_values(1))\n",
    "\n",
    "# drop the columns with correlation >0.99\n",
    "high_corr_cols = list(high_corr_cols)\n",
    "high_corr_cols.sort(key=lambda x: abs(corr_matrix.loc[x, 'hospital_death']), reverse=True)\n",
    "high_corr_cols = high_corr_cols[:8]\n",
    "dfTrain = dfTrain.drop(high_corr_cols, axis=1)\n",
    "dfTest = dfTest.drop(high_corr_cols, axis=1)\n",
    "\n",
    "# print the columns with high correlation\n",
    "print(\"Columns with high interdependency:\")\n",
    "print(high_corr_cols)\n"
   ]
  },
  {
   "cell_type": "code",
   "execution_count": 8,
   "metadata": {},
   "outputs": [
    {
     "data": {
      "text/plain": [
       "(50000, 16)"
      ]
     },
     "execution_count": 8,
     "metadata": {},
     "output_type": "execute_result"
    }
   ],
   "source": [
    "dfTrain.shape"
   ]
  },
  {
   "cell_type": "code",
   "execution_count": 9,
   "metadata": {},
   "outputs": [
    {
     "data": {
      "text/plain": [
       "(30000, 15)"
      ]
     },
     "execution_count": 9,
     "metadata": {},
     "output_type": "execute_result"
    }
   ],
   "source": [
    "dfTest.shape"
   ]
  },
  {
   "cell_type": "code",
   "execution_count": 10,
   "metadata": {},
   "outputs": [],
   "source": [
    "dfTest.drop('gender', axis=1, inplace=True)\n",
    "dfTrain.drop('gender', axis=1, inplace=True)"
   ]
  },
  {
   "cell_type": "code",
   "execution_count": 3,
   "metadata": {},
   "outputs": [],
   "source": [
    "#do for resprate_apache as well\n",
    "dfTrain['d1_resprate_max'] = np.log1p(dfTrain['d1_resprate_max'])\n",
    "#make hsitogram of normlaised Train['pre_icu_los_days']\n"
   ]
  },
  {
   "cell_type": "code",
   "execution_count": 4,
   "metadata": {},
   "outputs": [],
   "source": [
    "dfTest['d1_resprate_max'] = np.log1p(dfTest['d1_resprate_max'])\n"
   ]
  },
  {
   "cell_type": "code",
   "execution_count": 5,
   "metadata": {},
   "outputs": [],
   "source": [
    "#do for temp_apache as well\n",
    "dfTrain['temp_apache'] = np.log1p(dfTrain['temp_apache'])\n",
    "#do for test as well\n",
    "dfTest['temp_apache'] = np.log1p(dfTest['temp_apache'])\n",
    "\n"
   ]
  },
  {
   "cell_type": "code",
   "execution_count": 6,
   "metadata": {},
   "outputs": [],
   "source": [
    "#do foor d1_resprate_max as well\n",
    "dfTest['d1_resprate_max'] = np.log1p(dfTest['d1_resprate_max'])\n",
    "#do for test as well\n",
    "dfTrain['d1_resprate_max'] = np.log1p(dfTrain['d1_resprate_max'])"
   ]
  },
  {
   "cell_type": "code",
   "execution_count": 7,
   "metadata": {},
   "outputs": [],
   "source": [
    "#do for d1_temp_min\n",
    "dfTrain['d1_temp_min'] = np.log1p(dfTrain['d1_temp_min'])\n",
    "#do for test as well\n",
    "dfTest['d1_temp_min'] = np.log1p(dfTest['d1_temp_min'])"
   ]
  },
  {
   "cell_type": "code",
   "execution_count": 8,
   "metadata": {},
   "outputs": [],
   "source": [
    "#do foe h1_spo2_max\n",
    "dfTrain['h1_spo2_min'] = np.log1p(dfTrain['h1_spo2_min'])\n",
    "#do for test as well\n",
    "dfTest['h1_spo2_min'] = np.log1p(dfTest['h1_spo2_min'])"
   ]
  },
  {
   "cell_type": "code",
   "execution_count": 10,
   "metadata": {},
   "outputs": [
    {
     "data": {
      "text/plain": [
       "['ethnicity',\n",
       " 'gender',\n",
       " 'icu_admit_source',\n",
       " 'icu_stay_type',\n",
       " 'icu_type',\n",
       " 'apache_2_bodysystem']"
      ]
     },
     "execution_count": 10,
     "metadata": {},
     "output_type": "execute_result"
    }
   ],
   "source": [
    "typesobject=dfTrain.dtypes[dfTrain.dtypes=='object'].index.tolist()\n",
    "typesobject"
   ]
  },
  {
   "cell_type": "code",
   "execution_count": 11,
   "metadata": {},
   "outputs": [
    {
     "data": {
      "text/plain": [
       "['RecordID',\n",
       " 'hospital_id',\n",
       " 'icu_id',\n",
       " 'age',\n",
       " 'elective_surgery',\n",
       " 'pre_icu_los_days',\n",
       " 'apache_2_diagnosis',\n",
       " 'apache_3j_diagnosis',\n",
       " 'apache_post_operative',\n",
       " 'gcs_eyes_apache',\n",
       " 'gcs_motor_apache',\n",
       " 'gcs_unable_apache',\n",
       " 'gcs_verbal_apache',\n",
       " 'heart_rate_apache',\n",
       " 'intubated_apache',\n",
       " 'resprate_apache',\n",
       " 'temp_apache',\n",
       " 'ventilated_apache',\n",
       " 'd1_diasbp_min',\n",
       " 'd1_diasbp_noninvasive_min',\n",
       " 'd1_heartrate_max',\n",
       " 'd1_mbp_min',\n",
       " 'd1_mbp_noninvasive_min',\n",
       " 'd1_resprate_max',\n",
       " 'd1_spo2_min',\n",
       " 'd1_sysbp_min',\n",
       " 'd1_sysbp_noninvasive_min',\n",
       " 'd1_temp_min',\n",
       " 'h1_diasbp_min',\n",
       " 'h1_diasbp_noninvasive_min',\n",
       " 'h1_heartrate_max',\n",
       " 'h1_heartrate_min',\n",
       " 'h1_mbp_max',\n",
       " 'h1_mbp_min',\n",
       " 'h1_mbp_noninvasive_max',\n",
       " 'h1_mbp_noninvasive_min',\n",
       " 'h1_resprate_max',\n",
       " 'h1_resprate_min',\n",
       " 'h1_spo2_max',\n",
       " 'h1_spo2_min',\n",
       " 'h1_sysbp_max',\n",
       " 'h1_sysbp_min',\n",
       " 'h1_sysbp_noninvasive_max',\n",
       " 'h1_sysbp_noninvasive_min',\n",
       " 'd1_glucose_max',\n",
       " 'd1_potassium_max',\n",
       " 'apache_4a_hospital_death_prob',\n",
       " 'apache_4a_icu_death_prob',\n",
       " 'immunosuppression',\n",
       " 'solid_tumor_with_metastasis',\n",
       " 'hospital_death']"
      ]
     },
     "execution_count": 11,
     "metadata": {},
     "output_type": "execute_result"
    }
   ],
   "source": [
    "NOTtypesobject=dfTrain.dtypes[dfTrain.dtypes!='object'].index.tolist()\n",
    "NOTtypesobject"
   ]
  },
  {
   "cell_type": "code",
   "execution_count": 12,
   "metadata": {},
   "outputs": [
    {
     "data": {
      "text/plain": [
       "Index(['RecordID', 'hospital_id', 'icu_id', 'ethnicity', 'gender',\n",
       "       'icu_admit_source', 'icu_stay_type', 'icu_type', 'apache_2_bodysystem',\n",
       "       'age', 'elective_surgery', 'pre_icu_los_days', 'apache_2_diagnosis',\n",
       "       'apache_3j_diagnosis', 'apache_post_operative', 'gcs_eyes_apache',\n",
       "       'gcs_motor_apache', 'gcs_unable_apache', 'gcs_verbal_apache',\n",
       "       'heart_rate_apache', 'intubated_apache', 'resprate_apache',\n",
       "       'temp_apache', 'ventilated_apache', 'd1_diasbp_min',\n",
       "       'd1_diasbp_noninvasive_min', 'd1_heartrate_max', 'd1_mbp_min',\n",
       "       'd1_mbp_noninvasive_min', 'd1_resprate_max', 'd1_spo2_min',\n",
       "       'd1_sysbp_min', 'd1_sysbp_noninvasive_min', 'd1_temp_min',\n",
       "       'h1_diasbp_min', 'h1_diasbp_noninvasive_min', 'h1_heartrate_max',\n",
       "       'h1_heartrate_min', 'h1_mbp_max', 'h1_mbp_min',\n",
       "       'h1_mbp_noninvasive_max', 'h1_mbp_noninvasive_min', 'h1_resprate_max',\n",
       "       'h1_resprate_min', 'h1_spo2_max', 'h1_spo2_min', 'h1_sysbp_max',\n",
       "       'h1_sysbp_min', 'h1_sysbp_noninvasive_max', 'h1_sysbp_noninvasive_min',\n",
       "       'd1_glucose_max', 'd1_potassium_max', 'apache_4a_hospital_death_prob',\n",
       "       'apache_4a_icu_death_prob', 'immunosuppression',\n",
       "       'solid_tumor_with_metastasis', 'hospital_death'],\n",
       "      dtype='object')"
      ]
     },
     "execution_count": 12,
     "metadata": {},
     "output_type": "execute_result"
    }
   ],
   "source": [
    "dfTrain.columns"
   ]
  },
  {
   "cell_type": "code",
   "execution_count": 13,
   "metadata": {},
   "outputs": [],
   "source": [
    "#for all binary columns we will apply knn imputer for missing values\n",
    "#first we will create a list of all binary columns\n",
    "binary_cols = ['ventilated_apache']\n",
    "#now we will apply knn imputer on these columns\n",
    "from sklearn.impute import KNNImputer\n",
    "imputer = KNNImputer(n_neighbors=5)\n",
    "dfTrain[binary_cols] = imputer.fit_transform(dfTrain[binary_cols])\n",
    "dfTest[binary_cols] = imputer.fit_transform(dfTest[binary_cols])\n"
   ]
  },
  {
   "cell_type": "code",
   "execution_count": 10,
   "metadata": {},
   "outputs": [],
   "source": [
    "numeric_cols = [col for col in dfTrain.select_dtypes(include=[np.number]).columns]\n",
    "# make a dataframe for numeric values\n",
    "numeric_data = dfTrain[numeric_cols]"
   ]
  },
  {
   "cell_type": "code",
   "execution_count": 11,
   "metadata": {},
   "outputs": [],
   "source": [
    "numeric_colsTest = [col for col in dfTest.select_dtypes(include=[np.number]).columns]\n",
    "numeric_dataTest = dfTest[numeric_colsTest]\n"
   ]
  },
  {
   "cell_type": "code",
   "execution_count": 12,
   "metadata": {},
   "outputs": [],
   "source": [
    "#now run mean imputer on numeric_data\n",
    "from sklearn.impute import SimpleImputer\n",
    "imputer = SimpleImputer(strategy='mean')\n",
    "dfTrain[numeric_cols] = imputer.fit_transform(dfTrain[numeric_cols])\n",
    "#do same for test\n",
    "dfTest[numeric_colsTest] = imputer.fit_transform(dfTest[numeric_colsTest])"
   ]
  },
  {
   "cell_type": "code",
   "execution_count": 13,
   "metadata": {},
   "outputs": [],
   "source": [
    "categorical_data = dfTest.select_dtypes(exclude=[np.number])\n",
    "categorical_dataTest = dfTrain.select_dtypes(exclude=[np.number])"
   ]
  },
  {
   "cell_type": "code",
   "execution_count": 14,
   "metadata": {},
   "outputs": [],
   "source": [
    "#fill in the cateogrical data using mode iputer\n",
    "from sklearn.impute import SimpleImputer\n",
    "imputer = SimpleImputer(strategy='most_frequent')\n",
    "dfTest[categorical_data.columns] = imputer.fit_transform(dfTest[categorical_data.columns])\n",
    "#do same for test\n",
    "dfTrain[categorical_dataTest.columns] = imputer.fit_transform(dfTrain[categorical_dataTest.columns])"
   ]
  },
  {
   "cell_type": "code",
   "execution_count": 15,
   "metadata": {},
   "outputs": [
    {
     "data": {
      "text/plain": [
       "0"
      ]
     },
     "execution_count": 15,
     "metadata": {},
     "output_type": "execute_result"
    }
   ],
   "source": [
    "dfTrain.isnull().sum().sum()"
   ]
  },
  {
   "cell_type": "code",
   "execution_count": 16,
   "metadata": {},
   "outputs": [],
   "source": [
    "dfTrain['apache_2_bodysystem'] = dfTrain['apache_2_bodysystem'].replace(['Undefined Diagnoses'], 'Undefined diagnoses')\n",
    "dfTest['apache_2_bodysystem'] = dfTest['apache_2_bodysystem'].replace(['Undefined Diagnoses'], 'Undefined diagnoses')"
   ]
  },
  {
   "cell_type": "code",
   "execution_count": 17,
   "metadata": {},
   "outputs": [],
   "source": [
    "Train = pd.get_dummies(dfTrain)\n",
    "Test = pd.get_dummies(dfTest)\n"
   ]
  },
  {
   "cell_type": "code",
   "execution_count": 18,
   "metadata": {},
   "outputs": [],
   "source": [
    "X = Train.loc[:, Train.columns != 'hospital_death']\n",
    "y = Train[['hospital_death']]"
   ]
  },
  {
   "cell_type": "code",
   "execution_count": 19,
   "metadata": {},
   "outputs": [],
   "source": [
    "#now i want to run knearest neightour machine learning model on this prepared data\n",
    "#first we will split the data into train and test\n",
    "from sklearn.model_selection import train_test_split\n",
    "X_train, X_test, y_train, y_test = train_test_split(X, y, test_size=0.3, random_state=2)\n"
   ]
  },
  {
   "cell_type": "code",
   "execution_count": 27,
   "metadata": {},
   "outputs": [
    {
     "name": "stderr",
     "output_type": "stream",
     "text": [
      "C:\\Users\\hamza\\AppData\\Local\\Packages\\PythonSoftwareFoundation.Python.3.10_qbz5n2kfra8p0\\LocalCache\\local-packages\\Python310\\site-packages\\sklearn\\neighbors\\_classification.py:233: DataConversionWarning: A column-vector y was passed when a 1d array was expected. Please change the shape of y to (n_samples,), for example using ravel().\n",
      "  return self._fit(X, y)\n"
     ]
    },
    {
     "name": "stdout",
     "output_type": "stream",
     "text": [
      "0.7141544695559171\n"
     ]
    }
   ],
   "source": [
    "from sklearn.neighbors import KNeighborsClassifier\n",
    "from sklearn.metrics import roc_auc_score\n",
    "\n",
    "# select only the required columns\n",
    "cols = ['hospital_id', 'icu_id', 'age', 'pre_icu_los_days', 'apache_3j_diagnosis', 'gcs_verbal_apache', 'heart_rate_apache', 'resprate_apache', 'ventilated_apache', 'd1_diasbp_min', 'd1_heartrate_max', 'd1_resprate_max', 'd1_spo2_min', 'd1_sysbp_min', 'd1_temp_min', 'h1_mbp_max', 'h1_mbp_noninvasive_max', 'h1_resprate_min', 'h1_spo2_max', 'h1_spo2_min', 'h1_sysbp_max', 'd1_potassium_max', 'apache_4a_hospital_death_prob', 'apache_4a_icu_death_prob']\n",
    "X_train = X_train[cols]\n",
    "X_test = X_test[cols]\n",
    "\n",
    "# Fit the model on the transformed X_train\n",
    "model = KNeighborsClassifier(n_neighbors=1000)\n",
    "model.fit(X_train, y_train)\n",
    "\n",
    "# Predict and evaluate on the transformed X_test\n",
    "y_pred = model.predict_proba(X_test)[:, 1]\n",
    "print(roc_auc_score(y_test, y_pred))\n"
   ]
  },
  {
   "cell_type": "code",
   "execution_count": null,
   "metadata": {},
   "outputs": [],
   "source": [
    "hospital_death_prob = model.predict_proba(TT)\n",
    "# The predicted probabilities of each class are stored in the second column of the output array\n",
    "hospital_death = hospital_death_prob[:, 1]"
   ]
  },
  {
   "cell_type": "code",
   "execution_count": 41,
   "metadata": {},
   "outputs": [],
   "source": [
    "from sklearn.metrics import roc_curve, roc_auc_score\n",
    "\n",
    "def fit_model(model, model_name):\n",
    "    model.fit(X_train,y_train)\n",
    "    md_probs = model.predict_proba(X_test)\n",
    "    md_probs = md_probs[:,1]\n",
    "    md_auc = roc_auc_score(y_test, md_probs)\n",
    "    print(model_name, \" : \", md_auc)\n",
    "    md_fpr, md_tpr, _ = roc_curve(y_test, md_probs)\n",
    "    pyplot.plot(md_fpr, md_tpr, marker='.', label=model_name)\n",
    "    #return (md_fpr, md_tpr)"
   ]
  },
  {
   "cell_type": "code",
   "execution_count": 143,
   "metadata": {},
   "outputs": [
    {
     "name": "stderr",
     "output_type": "stream",
     "text": [
      "C:\\Users\\hamza\\AppData\\Local\\Packages\\PythonSoftwareFoundation.Python.3.10_qbz5n2kfra8p0\\LocalCache\\local-packages\\Python310\\site-packages\\sklearn\\neighbors\\_classification.py:233: DataConversionWarning: A column-vector y was passed when a 1d array was expected. Please change the shape of y to (n_samples,), for example using ravel().\n",
      "  return self._fit(X, y)\n"
     ]
    },
    {
     "name": "stdout",
     "output_type": "stream",
     "text": [
      "k-NN11  :  0.5460508253111309\n"
     ]
    },
    {
     "name": "stderr",
     "output_type": "stream",
     "text": [
      "C:\\Users\\hamza\\AppData\\Local\\Packages\\PythonSoftwareFoundation.Python.3.10_qbz5n2kfra8p0\\LocalCache\\local-packages\\Python310\\site-packages\\sklearn\\neighbors\\_classification.py:233: DataConversionWarning: A column-vector y was passed when a 1d array was expected. Please change the shape of y to (n_samples,), for example using ravel().\n",
      "  return self._fit(X, y)\n"
     ]
    },
    {
     "name": "stdout",
     "output_type": "stream",
     "text": [
      "Scaled k-NN11  :  0.797655223139086\n"
     ]
    },
    {
     "data": {
      "image/png": "[encoded data removed]",
      "text/plain": [
       "<Figure size 640x480 with 1 Axes>"
      ]
     },
     "metadata": {},
     "output_type": "display_data"
    }
   ],
   "source": [
    "from sklearn.metrics import roc_curve, roc_auc_score\n",
    "from sklearn.preprocessing import MinMaxScaler\n",
    "\n",
    "from sklearn.pipeline import Pipeline\n",
    "from matplotlib import pyplot\n",
    "from sklearn.neighbors import KNeighborsClassifier\n",
    "# kn = KNeighborsClassifier(n_neighbors=5)\n",
    "# fit_model(kn, \"k-NN\")\n",
    "\n",
    "# pipe_kn = Pipeline([(\"scaler\", MinMaxScaler()), (\"knr\", KNeighborsClassifier(n_neighbors=5))])\n",
    "# fit_model(pipe_kn, \"Scaled k-NN\")\n",
    "\n",
    "# kn8 = KNeighborsClassifier(n_neighbors=8)\n",
    "# fit_model(kn8, \"k-NN8\")\n",
    "\n",
    "# pipe_kn8 = Pipeline([(\"scaler\", MinMaxScaler()), (\"knr\", KNeighborsClassifier(n_neighbors=8))])\n",
    "# fit_model(pipe_kn8, \"Scaled k-NN8\")\n",
    "\n",
    "# kn3 = KNeighborsClassifier(n_neighbors=3)\n",
    "# fit_model(kn3, \"k-NN3\")\n",
    "\n",
    "# pipe_kn3 = Pipeline([(\"scaler\", MinMaxScaler()), (\"knr\", KNeighborsClassifier(n_neighbors=3))])\n",
    "# fit_model(pipe_kn3, \"Scaled k-NN3\")\n",
    "\n",
    "kn11 = KNeighborsClassifier(n_neighbors=10)\n",
    "fit_model(kn11, \"k-NN11\")\n",
    "\n",
    "pipe_kn11 = Pipeline([(\"scaler\", MinMaxScaler()), (\"knr\", KNeighborsClassifier(n_neighbors=2000))])\n",
    "fit_model(pipe_kn11, \"Scaled k-NN11\")\n",
    "\n",
    "pyplot.xlabel('False Positive Rate')\n",
    "pyplot.ylabel('True Positive Rate')\n",
    "# show the legend\n",
    "pyplot.legend()\n",
    "# show the plot\n",
    "pyplot.show()"
   ]
  },
  {
   "cell_type": "code",
   "execution_count": 142,
   "metadata": {},
   "outputs": [],
   "source": [
    "#predict using pipe_kn11\n",
    "predictions = pipe_kn11.predict(Test)\n",
    "# y_pred = pd.DataFrame(y_pred)\n",
    "# y_pred.to_csv('y_pred.csv')\n",
    "predictions\n",
    "# Create a DataFrame for the predictions\n",
    "predictions_df = pd.DataFrame(predictions, columns=['hospital_death'])\n",
    "\n",
    "# Add the record ID from the test data to the predictions DataFrame\n",
    "predictions_df.insert(0, 'RecordID', Test['RecordID'])\n",
    "\n",
    "# Save the predictions to a CSV file\n",
    "predictions_df.to_csv('predictionsknn.csv', index=False)"
   ]
  },
  {
   "cell_type": "code",
   "execution_count": 27,
   "metadata": {},
   "outputs": [
    {
     "data": {
      "text/plain": [
       "(50000, 7)"
      ]
     },
     "execution_count": 27,
     "metadata": {},
     "output_type": "execute_result"
    }
   ],
   "source": [
    "dfTrainNONUMERIC.shape"
   ]
  },
  {
   "cell_type": "code",
   "execution_count": 28,
   "metadata": {},
   "outputs": [
    {
     "data": {
      "text/html": [
       "<div>\n",
       "<style scoped>\n",
       "    .dataframe tbody tr th:only-of-type {\n",
       "        vertical-align: middle;\n",
       "    }\n",
       "\n",
       "    .dataframe tbody tr th {\n",
       "        vertical-align: top;\n",
       "    }\n",
       "\n",
       "    .dataframe thead th {\n",
       "        text-align: right;\n",
       "    }\n",
       "</style>\n",
       "<table border=\"1\" class=\"dataframe\">\n",
       "  <thead>\n",
       "    <tr style=\"text-align: right;\">\n",
       "      <th></th>\n",
       "      <th>RecordID</th>\n",
       "      <th>ethnicity</th>\n",
       "      <th>icu_admit_source</th>\n",
       "      <th>icu_stay_type</th>\n",
       "      <th>icu_type</th>\n",
       "      <th>apache_2_bodysystem</th>\n",
       "    </tr>\n",
       "  </thead>\n",
       "  <tbody>\n",
       "    <tr>\n",
       "      <th>0</th>\n",
       "      <td>50001.0</td>\n",
       "      <td>Caucasian</td>\n",
       "      <td>Accident &amp; Emergency</td>\n",
       "      <td>admit</td>\n",
       "      <td>CCU-CTICU</td>\n",
       "      <td>Cardiovascular</td>\n",
       "    </tr>\n",
       "    <tr>\n",
       "      <th>1</th>\n",
       "      <td>50002.0</td>\n",
       "      <td>Other/Unknown</td>\n",
       "      <td>Accident &amp; Emergency</td>\n",
       "      <td>admit</td>\n",
       "      <td>Neuro ICU</td>\n",
       "      <td>Neurologic</td>\n",
       "    </tr>\n",
       "    <tr>\n",
       "      <th>2</th>\n",
       "      <td>50003.0</td>\n",
       "      <td>Caucasian</td>\n",
       "      <td>Floor</td>\n",
       "      <td>transfer</td>\n",
       "      <td>CSICU</td>\n",
       "      <td>Cardiovascular</td>\n",
       "    </tr>\n",
       "    <tr>\n",
       "      <th>3</th>\n",
       "      <td>50004.0</td>\n",
       "      <td>Other/Unknown</td>\n",
       "      <td>Accident &amp; Emergency</td>\n",
       "      <td>admit</td>\n",
       "      <td>Med-Surg ICU</td>\n",
       "      <td>Neurologic</td>\n",
       "    </tr>\n",
       "    <tr>\n",
       "      <th>4</th>\n",
       "      <td>50005.0</td>\n",
       "      <td>African American</td>\n",
       "      <td>Accident &amp; Emergency</td>\n",
       "      <td>admit</td>\n",
       "      <td>CCU-CTICU</td>\n",
       "      <td>Respiratory</td>\n",
       "    </tr>\n",
       "  </tbody>\n",
       "</table>\n",
       "</div>"
      ],
      "text/plain": [
       "   RecordID         ethnicity      icu_admit_source icu_stay_type  \\\n",
       "0   50001.0         Caucasian  Accident & Emergency         admit   \n",
       "1   50002.0     Other/Unknown  Accident & Emergency         admit   \n",
       "2   50003.0         Caucasian                 Floor      transfer   \n",
       "3   50004.0     Other/Unknown  Accident & Emergency         admit   \n",
       "4   50005.0  African American  Accident & Emergency         admit   \n",
       "\n",
       "       icu_type apache_2_bodysystem  \n",
       "0     CCU-CTICU      Cardiovascular  \n",
       "1     Neuro ICU          Neurologic  \n",
       "2         CSICU      Cardiovascular  \n",
       "3  Med-Surg ICU          Neurologic  \n",
       "4     CCU-CTICU         Respiratory  "
      ]
     },
     "execution_count": 28,
     "metadata": {},
     "output_type": "execute_result"
    }
   ],
   "source": [
    "dfTestNONUMERIC.head()"
   ]
  },
  {
   "cell_type": "code",
   "execution_count": 29,
   "metadata": {},
   "outputs": [],
   "source": [
    "dfTestNONUMERIC.loc[dfTestNONUMERIC['ethnicity'] != 'Caucasian', 'ethnicity'] = 'Others'\n",
    "dfTrainNONUMERIC.loc[dfTrainNONUMERIC['ethnicity'] != 'Caucasian', 'ethnicity'] = 'Others'\n",
    "\n"
   ]
  },
  {
   "cell_type": "code",
   "execution_count": 30,
   "metadata": {},
   "outputs": [],
   "source": [
    "dfTrainNONUMERIC['icu_type'] = dfTrainNONUMERIC['icu_type'].replace(['Cardiac ICU', 'CSICU', 'CTICU', 'CCU-CTICU'], 'Cardiac related')\n",
    "dfTestNONUMERIC['icu_type'] = dfTestNONUMERIC['icu_type'].replace(['Cardiac ICU', 'CSICU', 'CTICU', 'CCU-CTICU'], 'Cardiac related')"
   ]
  },
  {
   "cell_type": "code",
   "execution_count": 31,
   "metadata": {},
   "outputs": [],
   "source": [
    "dfTrainNONUMERIC['icu_stay_type'] = dfTrainNONUMERIC['icu_stay_type'].replace(['transfer', 'readmit'], 'Not Admit')\n",
    "dfTestNONUMERIC['icu_stay_type'] = dfTestNONUMERIC['icu_stay_type'].replace(['transfer', 'readmit'], 'Not Admit')\n"
   ]
  },
  {
   "cell_type": "code",
   "execution_count": 32,
   "metadata": {},
   "outputs": [],
   "source": [
    "dfTrainNONUMERIC['icu_admit_source'] = dfTrainNONUMERIC['icu_admit_source'].replace(['Other ICU', 'Other Hospital'], 'Other')\n",
    "dfTestNONUMERIC['icu_admit_source'] = dfTestNONUMERIC['icu_admit_source'].replace(['Other ICU', 'Other Hospital'], 'Other')\n"
   ]
  },
  {
   "cell_type": "code",
   "execution_count": 33,
   "metadata": {},
   "outputs": [],
   "source": [
    "dfTrainNONUMERIC['icu_admit_source'] = dfTrainNONUMERIC['icu_admit_source'].replace(['Floor', 'Operating Room / Recovery'], 'Not emergency')\n",
    "dfTestNONUMERIC['icu_admit_source'] = dfTestNONUMERIC['icu_admit_source'].replace(['Floor', 'Operating Room / Recovery'], 'Not emergency')\n"
   ]
  },
  {
   "cell_type": "code",
   "execution_count": 26,
   "metadata": {},
   "outputs": [
    {
     "data": {
      "text/plain": [
       "['gcs_eyes_apache',\n",
       " 'gcs_motor_apache',\n",
       " 'gcs_verbal_apache',\n",
       " 'ventilated_apache',\n",
       " 'd1_spo2_min',\n",
       " 'd1_temp_min',\n",
       " 'apache_4a_hospital_death_prob',\n",
       " 'apache_4a_icu_death_prob']"
      ]
     },
     "execution_count": 26,
     "metadata": {},
     "output_type": "execute_result"
    }
   ],
   "source": [
    "# Assuming 'df' is your DataFrame\n",
    "numeric_cols = dfTrain.select_dtypes(include=[np.number]).columns.tolist()\n",
    "\n",
    "# Remove 'HD' from the list of numeric columns\n",
    "if 'hospital_death' in numeric_cols:\n",
    "    numeric_cols.remove('hospital_death')\n",
    "\n",
    "if 'RecordID' in numeric_cols:\n",
    "    numeric_cols.remove('RecordID')\n",
    "\n",
    "# Drop the numeric columns from the DataFrame\n",
    "dfTrainNONUMERIC = dfTrain.drop(numeric_cols, axis=1)\n",
    "dfTestNONUMERIC = dfTest.drop(numeric_cols, axis=1)\n",
    "\n",
    "numeric_cols"
   ]
  },
  {
   "cell_type": "code",
   "execution_count": 34,
   "metadata": {},
   "outputs": [],
   "source": [
    "Train = pd.get_dummies(dfTrainNONUMERIC)\n",
    "Test = pd.get_dummies(dfTestNONUMERIC)\n"
   ]
  },
  {
   "cell_type": "code",
   "execution_count": 35,
   "metadata": {},
   "outputs": [
    {
     "data": {
      "text/plain": [
       "(50000, 23)"
      ]
     },
     "execution_count": 35,
     "metadata": {},
     "output_type": "execute_result"
    }
   ],
   "source": [
    "Train.shape"
   ]
  },
  {
   "cell_type": "code",
   "execution_count": 45,
   "metadata": {},
   "outputs": [
    {
     "name": "stderr",
     "output_type": "stream",
     "text": [
      "No artists with labels found to put in legend.  Note that artists whose label start with an underscore are ignored when legend() is called with no argument.\n"
     ]
    },
    {
     "data": {
      "image/png": "[encoded data removed]",
      "text/plain": [
       "<Figure size 640x480 with 1 Axes>"
      ]
     },
     "metadata": {},
     "output_type": "display_data"
    },
    {
     "name": "stdout",
     "output_type": "stream",
     "text": [
      "Depth 5 Split 2  :  0.5964760861177103\n"
     ]
    },
    {
     "ename": "NameError",
     "evalue": "name 'pyplot' is not defined",
     "output_type": "error",
     "traceback": [
      "\u001b[1;31m---------------------------------------------------------------------------\u001b[0m",
      "\u001b[1;31mNameError\u001b[0m                                 Traceback (most recent call last)",
      "\u001b[1;32mc:\\Users\\hamza\\Documents\\7th Sem\\IDM\\Challenge 1\\KNN2.ipynb Cell 44\u001b[0m line \u001b[0;36m1\n\u001b[0;32m      <a href='vscode-notebook-cell:/c%3A/Users/hamza/Documents/7th%20Sem/IDM/Challenge%201/KNN2.ipynb#X60sZmlsZQ%3D%3D?line=6'>7</a>\u001b[0m \u001b[39mfrom\u001b[39;00m \u001b[39msklearn\u001b[39;00m\u001b[39m.\u001b[39;00m\u001b[39mtree\u001b[39;00m \u001b[39mimport\u001b[39;00m DecisionTreeClassifier\n\u001b[0;32m      <a href='vscode-notebook-cell:/c%3A/Users/hamza/Documents/7th%20Sem/IDM/Challenge%201/KNN2.ipynb#X60sZmlsZQ%3D%3D?line=8'>9</a>\u001b[0m dt_5_2 \u001b[39m=\u001b[39m DecisionTreeClassifier(max_depth\u001b[39m=\u001b[39m\u001b[39m10\u001b[39m, min_samples_split\u001b[39m=\u001b[39m \u001b[39m2\u001b[39m)  \n\u001b[1;32m---> <a href='vscode-notebook-cell:/c%3A/Users/hamza/Documents/7th%20Sem/IDM/Challenge%201/KNN2.ipynb#X60sZmlsZQ%3D%3D?line=9'>10</a>\u001b[0m fit_model(dt_5_2, \u001b[39m\"\u001b[39;49m\u001b[39mDepth 5 Split 2\u001b[39;49m\u001b[39m\"\u001b[39;49m) \u001b[39m#BEST\u001b[39;00m\n\u001b[0;32m     <a href='vscode-notebook-cell:/c%3A/Users/hamza/Documents/7th%20Sem/IDM/Challenge%201/KNN2.ipynb#X60sZmlsZQ%3D%3D?line=11'>12</a>\u001b[0m \u001b[39m# dt_7_2 = DecisionTreeClassifier(max_depth=7)  \u001b[39;00m\n\u001b[0;32m     <a href='vscode-notebook-cell:/c%3A/Users/hamza/Documents/7th%20Sem/IDM/Challenge%201/KNN2.ipynb#X60sZmlsZQ%3D%3D?line=12'>13</a>\u001b[0m \u001b[39m# fit_model(dt_7_2, \"Depth 7 Split 2\") \u001b[39;00m\n\u001b[0;32m     <a href='vscode-notebook-cell:/c%3A/Users/hamza/Documents/7th%20Sem/IDM/Challenge%201/KNN2.ipynb#X60sZmlsZQ%3D%3D?line=13'>14</a>\u001b[0m \n\u001b[1;32m   (...)\u001b[0m\n\u001b[0;32m     <a href='vscode-notebook-cell:/c%3A/Users/hamza/Documents/7th%20Sem/IDM/Challenge%201/KNN2.ipynb#X60sZmlsZQ%3D%3D?line=28'>29</a>\u001b[0m \n\u001b[0;32m     <a href='vscode-notebook-cell:/c%3A/Users/hamza/Documents/7th%20Sem/IDM/Challenge%201/KNN2.ipynb#X60sZmlsZQ%3D%3D?line=29'>30</a>\u001b[0m \u001b[39m#pipe_kn = Pipeline([(\"scaler\", MinMaxScaler()), (\"knr\", KNeighborsClassifier(n_neighbors=5))])\u001b[39;00m\n\u001b[0;32m     <a href='vscode-notebook-cell:/c%3A/Users/hamza/Documents/7th%20Sem/IDM/Challenge%201/KNN2.ipynb#X60sZmlsZQ%3D%3D?line=31'>32</a>\u001b[0m plt\u001b[39m.\u001b[39mxlabel(\u001b[39m'\u001b[39m\u001b[39mFalse Positive Rate\u001b[39m\u001b[39m'\u001b[39m)\n",
      "\u001b[1;32mc:\\Users\\hamza\\Documents\\7th Sem\\IDM\\Challenge 1\\KNN2.ipynb Cell 44\u001b[0m line \u001b[0;36m1\n\u001b[0;32m      <a href='vscode-notebook-cell:/c%3A/Users/hamza/Documents/7th%20Sem/IDM/Challenge%201/KNN2.ipynb#X60sZmlsZQ%3D%3D?line=7'>8</a>\u001b[0m \u001b[39mprint\u001b[39m(model_name, \u001b[39m\"\u001b[39m\u001b[39m : \u001b[39m\u001b[39m\"\u001b[39m, md_auc)\n\u001b[0;32m      <a href='vscode-notebook-cell:/c%3A/Users/hamza/Documents/7th%20Sem/IDM/Challenge%201/KNN2.ipynb#X60sZmlsZQ%3D%3D?line=8'>9</a>\u001b[0m md_fpr, md_tpr, _ \u001b[39m=\u001b[39m roc_curve(y_test, md_probs)\n\u001b[1;32m---> <a href='vscode-notebook-cell:/c%3A/Users/hamza/Documents/7th%20Sem/IDM/Challenge%201/KNN2.ipynb#X60sZmlsZQ%3D%3D?line=9'>10</a>\u001b[0m pyplot\u001b[39m.\u001b[39mplot(md_fpr, md_tpr, marker\u001b[39m=\u001b[39m\u001b[39m'\u001b[39m\u001b[39m.\u001b[39m\u001b[39m'\u001b[39m, label\u001b[39m=\u001b[39mmodel_name)\n",
      "\u001b[1;31mNameError\u001b[0m: name 'pyplot' is not defined"
     ]
    }
   ],
   "source": [
    "plt.xlabel('False Positive Rate')\n",
    "plt.ylabel('True Positive Rate')\n",
    "# show the legend\n",
    "plt.legend()\n",
    "# show the plot\n",
    "plt.show()\n",
    "from sklearn.tree import DecisionTreeClassifier\n",
    "\n",
    "dt_5_2 = DecisionTreeClassifier(max_depth=10, min_samples_split= 2)  \n",
    "fit_model(dt_5_2, \"Depth 5 Split 2\") #BEST\n",
    "\n",
    "# dt_7_2 = DecisionTreeClassifier(max_depth=7)  \n",
    "# fit_model(dt_7_2, \"Depth 7 Split 2\") \n",
    "\n",
    "# dt_5_5 = DecisionTreeClassifier(max_depth=5, min_samples_split=5)  \n",
    "# fit_model(dt_5_5, \"Depth 5 Split 5\") #BEST\n",
    "\n",
    "# dt_7_5 = DecisionTreeClassifier(max_depth=7, min_samples_split=5)  \n",
    "# fit_model(dt_7_5, \"Depth 7 Split 5\") \n",
    "\n",
    "# dt_3_2 = DecisionTreeClassifier(max_depth=3, min_samples_split=2)  \n",
    "# fit_model(dt_3_2, \"Depth 3 Split 2\") \n",
    "\n",
    "# dt_3_5 = DecisionTreeClassifier(max_depth=3, min_samples_split=5)  \n",
    "# fit_model(dt_3_5, \"Depth 3 Split 5\") \n",
    "\n",
    "#kn = KNeighborsClassifier(n_neighbors=5)\n",
    "#fit_model(kn, \"k-NN\")\n",
    "\n",
    "#pipe_kn = Pipeline([(\"scaler\", MinMaxScaler()), (\"knr\", KNeighborsClassifier(n_neighbors=5))])\n",
    "\n",
    "plt.xlabel('False Positive Rate')\n",
    "plt.ylabel('True Positive Rate')\n",
    "# show the legend\n",
    "plt.legend()\n",
    "# show the plot\n",
    "plt.show()\n"
   ]
  },
  {
   "cell_type": "code",
   "execution_count": 146,
   "metadata": {},
   "outputs": [],
   "source": [
    "#predicitng using grid searches best model\n",
    "hospital_death = dt_5_2.predict(Test)\n",
    "\n",
    "\n",
    "# Create a DataFrame for the predictions\n",
    "predictions_df = pd.DataFrame(hospital_death, columns=['hospital_death'])\n",
    "\n",
    "# Add the record ID from the test data to the predictions DataFrame\n",
    "predictions_df.insert(0, 'RecordID', Test['RecordID'])\n",
    "\n",
    "# Save the predictions to a CSV file\n",
    "predictions_df.to_csv('predictions.csv', index=False)"
   ]
  },
  {
   "cell_type": "code",
   "execution_count": 1,
   "metadata": {},
   "outputs": [
    {
     "ename": "NameError",
     "evalue": "name 'pd' is not defined",
     "output_type": "error",
     "traceback": [
      "\u001b[1;31m---------------------------------------------------------------------------\u001b[0m",
      "\u001b[1;31mNameError\u001b[0m                                 Traceback (most recent call last)",
      "\u001b[1;32mc:\\Users\\hamza\\Documents\\7th Sem\\IDM\\Challenge 1\\KNN2.ipynb Cell 46\u001b[0m line \u001b[0;36m2\n\u001b[0;32m      <a href='vscode-notebook-cell:/c%3A/Users/hamza/Documents/7th%20Sem/IDM/Challenge%201/KNN2.ipynb#X63sZmlsZQ%3D%3D?line=0'>1</a>\u001b[0m \u001b[39m#read train and test\u001b[39;00m\n\u001b[1;32m----> <a href='vscode-notebook-cell:/c%3A/Users/hamza/Documents/7th%20Sem/IDM/Challenge%201/KNN2.ipynb#X63sZmlsZQ%3D%3D?line=1'>2</a>\u001b[0m dfTrain \u001b[39m=\u001b[39m pd\u001b[39m.\u001b[39mread_csv(\u001b[39m\"\u001b[39m\u001b[39mData/train.csv\u001b[39m\u001b[39m\"\u001b[39m)\n\u001b[0;32m      <a href='vscode-notebook-cell:/c%3A/Users/hamza/Documents/7th%20Sem/IDM/Challenge%201/KNN2.ipynb#X63sZmlsZQ%3D%3D?line=2'>3</a>\u001b[0m dfTest \u001b[39m=\u001b[39m pd\u001b[39m.\u001b[39mread_csv(\u001b[39m\"\u001b[39m\u001b[39mData/test.csv\u001b[39m\u001b[39m\"\u001b[39m)\n",
      "\u001b[1;31mNameError\u001b[0m: name 'pd' is not defined"
     ]
    }
   ],
   "source": [
    "#read train and test\n",
    "dfTrain = pd.read_csv(\"Data/train.csv\")\n",
    "dfTest = pd.read_csv(\"Data/test.csv\")\n"
   ]
  },
  {
   "cell_type": "code",
   "execution_count": null,
   "metadata": {},
   "outputs": [],
   "source": []
  }
 ],
 "metadata": {
  "kernelspec": {
   "display_name": "Python 3",
   "language": "python",
   "name": "python3"
  },
  "language_info": {
   "codemirror_mode": {
    "name": "ipython",
    "version": 3
   },
   "file_extension": ".py",
   "mimetype": "text/x-python",
   "name": "python",
   "nbconvert_exporter": "python",
   "pygments_lexer": "ipython3",
   "version": "3.10.11"
  },
  "orig_nbformat": 4
 },
 "nbformat": 4,
 "nbformat_minor": 2
}
